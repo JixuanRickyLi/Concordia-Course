{
 "cells": [
  {
   "cell_type": "markdown",
   "metadata": {},
   "source": [
    "### Import Data"
   ]
  },
  {
   "cell_type": "code",
   "execution_count": 1,
   "metadata": {},
   "outputs": [],
   "source": [
    "import pandas as pd\n",
    "import numpy as np\n",
    "import seaborn as sns\n",
    "import matplotlib.pyplot as plt\n",
    "import csv\n",
    "\n",
    "from sklearn.neural_network import MLPClassifier\n",
    "from sklearn.metrics import confusion_matrix, classification_report\n",
    "from sklearn.model_selection import GridSearchCV\n",
    "\n",
    "import warnings\n",
    "warnings.filterwarnings(\"ignore\")\n"
   ]
  },
  {
   "cell_type": "code",
   "execution_count": null,
   "metadata": {},
   "outputs": [],
   "source": []
  },
  {
   "cell_type": "code",
   "execution_count": null,
   "metadata": {},
   "outputs": [],
   "source": []
  },
  {
   "cell_type": "markdown",
   "metadata": {},
   "source": [
    "### Defining the list of header names for the data"
   ]
  },
  {
   "cell_type": "code",
   "execution_count": 2,
   "metadata": {},
   "outputs": [],
   "source": [
    "headers = [\"f\" + str(i) for i in range(1025)]\n",
    "headers[1024] = \"symbol\""
   ]
  },
  {
   "cell_type": "markdown",
   "metadata": {},
   "source": [
    "### Reading in the training and test data 1 "
   ]
  },
  {
   "cell_type": "code",
   "execution_count": 3,
   "metadata": {},
   "outputs": [],
   "source": [
    "training_data = pd.read_csv(\"data-sets/train_1.csv\", sep=\",\", header=0, names=headers)\n",
    "testing_data = pd.read_csv(\"data-sets/test_with_label_1.csv\", sep=\",\", header=0, names=headers)"
   ]
  },
  {
   "cell_type": "markdown",
   "metadata": {},
   "source": [
    "### Plot the distribution of the training "
   ]
  },
  {
   "cell_type": "code",
   "execution_count": null,
   "metadata": {},
   "outputs": [],
   "source": []
  },
  {
   "cell_type": "code",
   "execution_count": 15,
   "metadata": {},
   "outputs": [
    {
     "data": {
      "image/png": "[encoded data removed]",
      "text/plain": [
       "<Figure size 432x288 with 1 Axes>"
      ]
     },
     "metadata": {
      "needs_background": "light"
     },
     "output_type": "display_data"
    }
   ],
   "source": [
    "sns.countplot(training_data[\"symbol\"])\n",
    "plt.savefig(\"results/training1-dist.png\")\n",
    "plt.show()"
   ]
  },
  {
   "cell_type": "markdown",
   "metadata": {},
   "source": [
    "### Setting up the training/testing features and targets using out imported data"
   ]
  },
  {
   "cell_type": "code",
   "execution_count": 4,
   "metadata": {},
   "outputs": [],
   "source": [
    "X_training_features = training_data.drop(\"symbol\", axis=1)\n",
    "y_training_targets = training_data[\"symbol\"]"
   ]
  },
  {
   "cell_type": "code",
   "execution_count": 5,
   "metadata": {},
   "outputs": [],
   "source": [
    "X_testing_features = testing_data.drop(\"symbol\", axis=1)\n",
    "y_testing_targets = testing_data[\"symbol\"]"
   ]
  },
  {
   "cell_type": "markdown",
   "metadata": {},
   "source": [
    "## Define the grid"
   ]
  },
  {
   "cell_type": "code",
   "execution_count": 6,
   "metadata": {},
   "outputs": [],
   "source": [
    "param_grid=[\n",
    "    { 'activation': ['logistic','tanh','relu','identity'], 'hidden_layer_sizes':[(30,50),(10,10,10)], 'solver':['adam','sgd']}\n",
    "]"
   ]
  },
  {
   "cell_type": "markdown",
   "metadata": {},
   "source": [
    "### Training the Base-MLP model and Predicting with test set "
   ]
  },
  {
   "cell_type": "code",
   "execution_count": 7,
   "metadata": {},
   "outputs": [
    {
     "name": "stdout",
     "output_type": "stream",
     "text": [
      "Fitting 5 folds for each of 16 candidates, totalling 80 fits\n",
      "[CV] activation=logistic, hidden_layer_sizes=(30, 50), solver=adam ...\n"
     ]
    },
    {
     "name": "stderr",
     "output_type": "stream",
     "text": [
      "[Parallel(n_jobs=1)]: Using backend SequentialBackend with 1 concurrent workers.\n"
     ]
    },
    {
     "name": "stdout",
     "output_type": "stream",
     "text": [
      "[CV]  activation=logistic, hidden_layer_sizes=(30, 50), solver=adam, total=   3.5s\n",
      "[CV] activation=logistic, hidden_layer_sizes=(30, 50), solver=adam ...\n"
     ]
    },
    {
     "name": "stderr",
     "output_type": "stream",
     "text": [
      "[Parallel(n_jobs=1)]: Done   1 out of   1 | elapsed:    3.5s remaining:    0.0s\n"
     ]
    },
    {
     "name": "stdout",
     "output_type": "stream",
     "text": [
      "[CV]  activation=logistic, hidden_layer_sizes=(30, 50), solver=adam, total=   3.3s\n",
      "[CV] activation=logistic, hidden_layer_sizes=(30, 50), solver=adam ...\n",
      "[CV]  activation=logistic, hidden_layer_sizes=(30, 50), solver=adam, total=   3.5s\n",
      "[CV] activation=logistic, hidden_layer_sizes=(30, 50), solver=adam ...\n",
      "[CV]  activation=logistic, hidden_layer_sizes=(30, 50), solver=adam, total=   3.4s\n",
      "[CV] activation=logistic, hidden_layer_sizes=(30, 50), solver=adam ...\n",
      "[CV]  activation=logistic, hidden_layer_sizes=(30, 50), solver=adam, total=   3.4s\n",
      "[CV] activation=logistic, hidden_layer_sizes=(30, 50), solver=sgd ....\n",
      "[CV]  activation=logistic, hidden_layer_sizes=(30, 50), solver=sgd, total=   1.4s\n",
      "[CV] activation=logistic, hidden_layer_sizes=(30, 50), solver=sgd ....\n",
      "[CV]  activation=logistic, hidden_layer_sizes=(30, 50), solver=sgd, total=   1.5s\n",
      "[CV] activation=logistic, hidden_layer_sizes=(30, 50), solver=sgd ....\n",
      "[CV]  activation=logistic, hidden_layer_sizes=(30, 50), solver=sgd, total=   1.5s\n",
      "[CV] activation=logistic, hidden_layer_sizes=(30, 50), solver=sgd ....\n",
      "[CV]  activation=logistic, hidden_layer_sizes=(30, 50), solver=sgd, total=   1.7s\n",
      "[CV] activation=logistic, hidden_layer_sizes=(30, 50), solver=sgd ....\n",
      "[CV]  activation=logistic, hidden_layer_sizes=(30, 50), solver=sgd, total=   1.5s\n",
      "[CV] activation=logistic, hidden_layer_sizes=(10, 10, 10), solver=adam \n",
      "[CV]  activation=logistic, hidden_layer_sizes=(10, 10, 10), solver=adam, total=   3.2s\n",
      "[CV] activation=logistic, hidden_layer_sizes=(10, 10, 10), solver=adam \n",
      "[CV]  activation=logistic, hidden_layer_sizes=(10, 10, 10), solver=adam, total=   3.0s\n",
      "[CV] activation=logistic, hidden_layer_sizes=(10, 10, 10), solver=adam \n",
      "[CV]  activation=logistic, hidden_layer_sizes=(10, 10, 10), solver=adam, total=   2.8s\n",
      "[CV] activation=logistic, hidden_layer_sizes=(10, 10, 10), solver=adam \n",
      "[CV]  activation=logistic, hidden_layer_sizes=(10, 10, 10), solver=adam, total=   2.8s\n",
      "[CV] activation=logistic, hidden_layer_sizes=(10, 10, 10), solver=adam \n",
      "[CV]  activation=logistic, hidden_layer_sizes=(10, 10, 10), solver=adam, total=   2.8s\n",
      "[CV] activation=logistic, hidden_layer_sizes=(10, 10, 10), solver=sgd \n",
      "[CV]  activation=logistic, hidden_layer_sizes=(10, 10, 10), solver=sgd, total=   2.0s\n",
      "[CV] activation=logistic, hidden_layer_sizes=(10, 10, 10), solver=sgd \n",
      "[CV]  activation=logistic, hidden_layer_sizes=(10, 10, 10), solver=sgd, total=   1.8s\n",
      "[CV] activation=logistic, hidden_layer_sizes=(10, 10, 10), solver=sgd \n",
      "[CV]  activation=logistic, hidden_layer_sizes=(10, 10, 10), solver=sgd, total=   1.6s\n",
      "[CV] activation=logistic, hidden_layer_sizes=(10, 10, 10), solver=sgd \n",
      "[CV]  activation=logistic, hidden_layer_sizes=(10, 10, 10), solver=sgd, total=   2.5s\n",
      "[CV] activation=logistic, hidden_layer_sizes=(10, 10, 10), solver=sgd \n",
      "[CV]  activation=logistic, hidden_layer_sizes=(10, 10, 10), solver=sgd, total=   1.8s\n",
      "[CV] activation=tanh, hidden_layer_sizes=(30, 50), solver=adam .......\n",
      "[CV]  activation=tanh, hidden_layer_sizes=(30, 50), solver=adam, total=   4.0s\n",
      "[CV] activation=tanh, hidden_layer_sizes=(30, 50), solver=adam .......\n",
      "[CV]  activation=tanh, hidden_layer_sizes=(30, 50), solver=adam, total=   3.7s\n",
      "[CV] activation=tanh, hidden_layer_sizes=(30, 50), solver=adam .......\n",
      "[CV]  activation=tanh, hidden_layer_sizes=(30, 50), solver=adam, total=   3.6s\n",
      "[CV] activation=tanh, hidden_layer_sizes=(30, 50), solver=adam .......\n",
      "[CV]  activation=tanh, hidden_layer_sizes=(30, 50), solver=adam, total=   4.1s\n",
      "[CV] activation=tanh, hidden_layer_sizes=(30, 50), solver=adam .......\n",
      "[CV]  activation=tanh, hidden_layer_sizes=(30, 50), solver=adam, total=   4.0s\n",
      "[CV] activation=tanh, hidden_layer_sizes=(30, 50), solver=sgd ........\n",
      "[CV]  activation=tanh, hidden_layer_sizes=(30, 50), solver=sgd, total=   3.7s\n",
      "[CV] activation=tanh, hidden_layer_sizes=(30, 50), solver=sgd ........\n",
      "[CV]  activation=tanh, hidden_layer_sizes=(30, 50), solver=sgd, total=   4.1s\n",
      "[CV] activation=tanh, hidden_layer_sizes=(30, 50), solver=sgd ........\n",
      "[CV]  activation=tanh, hidden_layer_sizes=(30, 50), solver=sgd, total=   3.3s\n",
      "[CV] activation=tanh, hidden_layer_sizes=(30, 50), solver=sgd ........\n",
      "[CV]  activation=tanh, hidden_layer_sizes=(30, 50), solver=sgd, total=   3.7s\n",
      "[CV] activation=tanh, hidden_layer_sizes=(30, 50), solver=sgd ........\n",
      "[CV]  activation=tanh, hidden_layer_sizes=(30, 50), solver=sgd, total=   3.8s\n",
      "[CV] activation=tanh, hidden_layer_sizes=(10, 10, 10), solver=adam ...\n",
      "[CV]  activation=tanh, hidden_layer_sizes=(10, 10, 10), solver=adam, total=   4.6s\n",
      "[CV] activation=tanh, hidden_layer_sizes=(10, 10, 10), solver=adam ...\n",
      "[CV]  activation=tanh, hidden_layer_sizes=(10, 10, 10), solver=adam, total=   3.6s\n",
      "[CV] activation=tanh, hidden_layer_sizes=(10, 10, 10), solver=adam ...\n",
      "[CV]  activation=tanh, hidden_layer_sizes=(10, 10, 10), solver=adam, total=   3.2s\n",
      "[CV] activation=tanh, hidden_layer_sizes=(10, 10, 10), solver=adam ...\n",
      "[CV]  activation=tanh, hidden_layer_sizes=(10, 10, 10), solver=adam, total=   3.3s\n",
      "[CV] activation=tanh, hidden_layer_sizes=(10, 10, 10), solver=adam ...\n",
      "[CV]  activation=tanh, hidden_layer_sizes=(10, 10, 10), solver=adam, total=   3.0s\n",
      "[CV] activation=tanh, hidden_layer_sizes=(10, 10, 10), solver=sgd ....\n",
      "[CV]  activation=tanh, hidden_layer_sizes=(10, 10, 10), solver=sgd, total=   2.9s\n",
      "[CV] activation=tanh, hidden_layer_sizes=(10, 10, 10), solver=sgd ....\n",
      "[CV]  activation=tanh, hidden_layer_sizes=(10, 10, 10), solver=sgd, total=   3.1s\n",
      "[CV] activation=tanh, hidden_layer_sizes=(10, 10, 10), solver=sgd ....\n",
      "[CV]  activation=tanh, hidden_layer_sizes=(10, 10, 10), solver=sgd, total=   2.8s\n",
      "[CV] activation=tanh, hidden_layer_sizes=(10, 10, 10), solver=sgd ....\n",
      "[CV]  activation=tanh, hidden_layer_sizes=(10, 10, 10), solver=sgd, total=   2.7s\n",
      "[CV] activation=tanh, hidden_layer_sizes=(10, 10, 10), solver=sgd ....\n",
      "[CV]  activation=tanh, hidden_layer_sizes=(10, 10, 10), solver=sgd, total=   2.6s\n",
      "[CV] activation=relu, hidden_layer_sizes=(30, 50), solver=adam .......\n",
      "[CV]  activation=relu, hidden_layer_sizes=(30, 50), solver=adam, total=   3.3s\n",
      "[CV] activation=relu, hidden_layer_sizes=(30, 50), solver=adam .......\n",
      "[CV]  activation=relu, hidden_layer_sizes=(30, 50), solver=adam, total=   3.6s\n",
      "[CV] activation=relu, hidden_layer_sizes=(30, 50), solver=adam .......\n",
      "[CV]  activation=relu, hidden_layer_sizes=(30, 50), solver=adam, total=   3.5s\n",
      "[CV] activation=relu, hidden_layer_sizes=(30, 50), solver=adam .......\n",
      "[CV]  activation=relu, hidden_layer_sizes=(30, 50), solver=adam, total=   3.5s\n",
      "[CV] activation=relu, hidden_layer_sizes=(30, 50), solver=adam .......\n",
      "[CV]  activation=relu, hidden_layer_sizes=(30, 50), solver=adam, total=   3.6s\n",
      "[CV] activation=relu, hidden_layer_sizes=(30, 50), solver=sgd ........\n",
      "[CV]  activation=relu, hidden_layer_sizes=(30, 50), solver=sgd, total=   3.2s\n",
      "[CV] activation=relu, hidden_layer_sizes=(30, 50), solver=sgd ........\n",
      "[CV]  activation=relu, hidden_layer_sizes=(30, 50), solver=sgd, total=   3.2s\n",
      "[CV] activation=relu, hidden_layer_sizes=(30, 50), solver=sgd ........\n",
      "[CV]  activation=relu, hidden_layer_sizes=(30, 50), solver=sgd, total=   3.2s\n",
      "[CV] activation=relu, hidden_layer_sizes=(30, 50), solver=sgd ........\n",
      "[CV]  activation=relu, hidden_layer_sizes=(30, 50), solver=sgd, total=   3.3s\n",
      "[CV] activation=relu, hidden_layer_sizes=(30, 50), solver=sgd ........\n",
      "[CV]  activation=relu, hidden_layer_sizes=(30, 50), solver=sgd, total=   3.1s\n",
      "[CV] activation=relu, hidden_layer_sizes=(10, 10, 10), solver=adam ...\n",
      "[CV]  activation=relu, hidden_layer_sizes=(10, 10, 10), solver=adam, total=   2.8s\n",
      "[CV] activation=relu, hidden_layer_sizes=(10, 10, 10), solver=adam ...\n",
      "[CV]  activation=relu, hidden_layer_sizes=(10, 10, 10), solver=adam, total=   2.9s\n",
      "[CV] activation=relu, hidden_layer_sizes=(10, 10, 10), solver=adam ...\n",
      "[CV]  activation=relu, hidden_layer_sizes=(10, 10, 10), solver=adam, total=   2.7s\n",
      "[CV] activation=relu, hidden_layer_sizes=(10, 10, 10), solver=adam ...\n",
      "[CV]  activation=relu, hidden_layer_sizes=(10, 10, 10), solver=adam, total=   2.9s\n",
      "[CV] activation=relu, hidden_layer_sizes=(10, 10, 10), solver=adam ...\n",
      "[CV]  activation=relu, hidden_layer_sizes=(10, 10, 10), solver=adam, total=   2.8s\n",
      "[CV] activation=relu, hidden_layer_sizes=(10, 10, 10), solver=sgd ....\n"
     ]
    },
    {
     "name": "stdout",
     "output_type": "stream",
     "text": [
      "[CV]  activation=relu, hidden_layer_sizes=(10, 10, 10), solver=sgd, total=   2.7s\n",
      "[CV] activation=relu, hidden_layer_sizes=(10, 10, 10), solver=sgd ....\n",
      "[CV]  activation=relu, hidden_layer_sizes=(10, 10, 10), solver=sgd, total=   2.7s\n",
      "[CV] activation=relu, hidden_layer_sizes=(10, 10, 10), solver=sgd ....\n",
      "[CV]  activation=relu, hidden_layer_sizes=(10, 10, 10), solver=sgd, total=   2.8s\n",
      "[CV] activation=relu, hidden_layer_sizes=(10, 10, 10), solver=sgd ....\n",
      "[CV]  activation=relu, hidden_layer_sizes=(10, 10, 10), solver=sgd, total=   3.4s\n",
      "[CV] activation=relu, hidden_layer_sizes=(10, 10, 10), solver=sgd ....\n",
      "[CV]  activation=relu, hidden_layer_sizes=(10, 10, 10), solver=sgd, total=   2.9s\n",
      "[CV] activation=identity, hidden_layer_sizes=(30, 50), solver=adam ...\n",
      "[CV]  activation=identity, hidden_layer_sizes=(30, 50), solver=adam, total=   3.0s\n",
      "[CV] activation=identity, hidden_layer_sizes=(30, 50), solver=adam ...\n",
      "[CV]  activation=identity, hidden_layer_sizes=(30, 50), solver=adam, total=   3.2s\n",
      "[CV] activation=identity, hidden_layer_sizes=(30, 50), solver=adam ...\n",
      "[CV]  activation=identity, hidden_layer_sizes=(30, 50), solver=adam, total=   3.0s\n",
      "[CV] activation=identity, hidden_layer_sizes=(30, 50), solver=adam ...\n",
      "[CV]  activation=identity, hidden_layer_sizes=(30, 50), solver=adam, total=   3.2s\n",
      "[CV] activation=identity, hidden_layer_sizes=(30, 50), solver=adam ...\n",
      "[CV]  activation=identity, hidden_layer_sizes=(30, 50), solver=adam, total=   6.1s\n",
      "[CV] activation=identity, hidden_layer_sizes=(30, 50), solver=sgd ....\n",
      "[CV]  activation=identity, hidden_layer_sizes=(30, 50), solver=sgd, total=   3.6s\n",
      "[CV] activation=identity, hidden_layer_sizes=(30, 50), solver=sgd ....\n",
      "[CV]  activation=identity, hidden_layer_sizes=(30, 50), solver=sgd, total=   3.9s\n",
      "[CV] activation=identity, hidden_layer_sizes=(30, 50), solver=sgd ....\n",
      "[CV]  activation=identity, hidden_layer_sizes=(30, 50), solver=sgd, total=   3.1s\n",
      "[CV] activation=identity, hidden_layer_sizes=(30, 50), solver=sgd ....\n",
      "[CV]  activation=identity, hidden_layer_sizes=(30, 50), solver=sgd, total=   3.0s\n",
      "[CV] activation=identity, hidden_layer_sizes=(30, 50), solver=sgd ....\n",
      "[CV]  activation=identity, hidden_layer_sizes=(30, 50), solver=sgd, total=   3.0s\n",
      "[CV] activation=identity, hidden_layer_sizes=(10, 10, 10), solver=adam \n",
      "[CV]  activation=identity, hidden_layer_sizes=(10, 10, 10), solver=adam, total=   3.1s\n",
      "[CV] activation=identity, hidden_layer_sizes=(10, 10, 10), solver=adam \n",
      "[CV]  activation=identity, hidden_layer_sizes=(10, 10, 10), solver=adam, total=   2.9s\n",
      "[CV] activation=identity, hidden_layer_sizes=(10, 10, 10), solver=adam \n",
      "[CV]  activation=identity, hidden_layer_sizes=(10, 10, 10), solver=adam, total=   2.8s\n",
      "[CV] activation=identity, hidden_layer_sizes=(10, 10, 10), solver=adam \n",
      "[CV]  activation=identity, hidden_layer_sizes=(10, 10, 10), solver=adam, total=   2.7s\n",
      "[CV] activation=identity, hidden_layer_sizes=(10, 10, 10), solver=adam \n",
      "[CV]  activation=identity, hidden_layer_sizes=(10, 10, 10), solver=adam, total=   2.8s\n",
      "[CV] activation=identity, hidden_layer_sizes=(10, 10, 10), solver=sgd \n",
      "[CV]  activation=identity, hidden_layer_sizes=(10, 10, 10), solver=sgd, total=   3.6s\n",
      "[CV] activation=identity, hidden_layer_sizes=(10, 10, 10), solver=sgd \n",
      "[CV]  activation=identity, hidden_layer_sizes=(10, 10, 10), solver=sgd, total=   3.0s\n",
      "[CV] activation=identity, hidden_layer_sizes=(10, 10, 10), solver=sgd \n",
      "[CV]  activation=identity, hidden_layer_sizes=(10, 10, 10), solver=sgd, total=   3.2s\n",
      "[CV] activation=identity, hidden_layer_sizes=(10, 10, 10), solver=sgd \n",
      "[CV]  activation=identity, hidden_layer_sizes=(10, 10, 10), solver=sgd, total=   2.9s\n",
      "[CV] activation=identity, hidden_layer_sizes=(10, 10, 10), solver=sgd \n",
      "[CV]  activation=identity, hidden_layer_sizes=(10, 10, 10), solver=sgd, total=   2.7s\n"
     ]
    },
    {
     "name": "stderr",
     "output_type": "stream",
     "text": [
      "[Parallel(n_jobs=1)]: Done  80 out of  80 | elapsed:  4.1min finished\n"
     ]
    },
    {
     "name": "stdout",
     "output_type": "stream",
     "text": [
      "print best parameter\n",
      "{'activation': 'identity', 'hidden_layer_sizes': (30, 50), 'solver': 'adam'}\n"
     ]
    }
   ],
   "source": [
    "mlp = MLPClassifier()\n",
    "clf = GridSearchCV(mlp, param_grid, verbose=2).fit(X_training_features, y_training_targets)\n",
    "print(\"print best parameter\")\n",
    "print(clf.best_params_)"
   ]
  },
  {
   "cell_type": "code",
   "execution_count": null,
   "metadata": {},
   "outputs": [],
   "source": []
  },
  {
   "cell_type": "code",
   "execution_count": 8,
   "metadata": {},
   "outputs": [],
   "source": [
    "pred_best_MLP = clf.predict(X_testing_features)\n",
    "\n"
   ]
  },
  {
   "cell_type": "markdown",
   "metadata": {},
   "source": [
    "### Output the performance into the csv result file"
   ]
  },
  {
   "cell_type": "code",
   "execution_count": 9,
   "metadata": {},
   "outputs": [],
   "source": [
    "# The csv filename \n",
    "best_MLP_results_filename ='./results/best-MLP/Best_MLP-DS1.csv'\n",
    "\n",
    "# The results (Predictions)\n",
    "best_MLP_results = np.arange(1, pred_best_MLP.shape[0])\n",
    "\n",
    "\n",
    "# The confusion matrix\n",
    "best_MLP_confusion_matrix = confusion_matrix(y_testing_targets, pred_best_MLP)\n",
    "best_MLP_confusion_matrix_data_frame = pd.DataFrame(best_MLP_confusion_matrix).transpose()\n",
    "\n",
    "# The classification report (accuracy, f1-score, etc...)\n",
    "best_MLP_classification_report = classification_report(y_testing_targets, pred_best_MLP, output_dict=True)\n",
    "best_MLP_classification_data_frame = pd.DataFrame(best_MLP_classification_report).transpose()\n",
    "\n",
    "# Write each result [row,prediction] to the CSV file\n",
    "# This will also create a new file\n",
    "with open(best_MLP_results_filename, \"w\", newline=\"\") as file:\n",
    "    writer = csv.writer(file)    \n",
    "    writer.writerow([\"(a) Predicted Results:\"])\n",
    "    writer.writerow(\"\")\n",
    "    for i in zip(best_MLP_results, pred_best_MLP):\n",
    "        writer.writerow([i])\n",
    "        \n",
    "# Append the confusion matrix to the CSV\n",
    "with open(best_MLP_results_filename, \"a\", newline=\"\") as file:\n",
    "    writer = csv.writer(file)    \n",
    "    writer.writerow(\"\")\n",
    "    writer.writerow([\"(b) Confusion Matrix:\"])\n",
    "    writer.writerow(\"\")\n",
    "best_MLP_confusion_matrix_data_frame.to_csv(best_MLP_results_filename, mode=\"a\")    \n",
    "        \n",
    "# Append the classification report to the CSV\n",
    "with open(best_MLP_results_filename, \"a\", newline=\"\") as file:\n",
    "    writer = csv.writer(file)    \n",
    "    writer.writerow(\"\")\n",
    "    writer.writerow([\"(c) & (d) Performance Metrics:\"])\n",
    "    writer.writerow(\"\")\n",
    "best_MLP_classification_data_frame.to_csv(best_MLP_results_filename, mode=\"a\")"
   ]
  },
  {
   "cell_type": "markdown",
   "metadata": {},
   "source": [
    "### Display classificationmetrics and confusion matrix"
   ]
  },
  {
   "cell_type": "code",
   "execution_count": 10,
   "metadata": {},
   "outputs": [
    {
     "name": "stdout",
     "output_type": "stream",
     "text": [
      "              precision    recall  f1-score   support\n",
      "\n",
      "           0       0.67      0.50      0.57         4\n",
      "           1       1.00      1.00      1.00         2\n",
      "           2       1.00      1.00      1.00         4\n",
      "           3       1.00      1.00      1.00         3\n",
      "           4       1.00      1.00      1.00         1\n",
      "           5       1.00      0.50      0.67         2\n",
      "           6       0.67      1.00      0.80         4\n",
      "           7       0.50      0.67      0.57         3\n",
      "           8       0.75      1.00      0.86         3\n",
      "           9       0.67      0.50      0.57         4\n",
      "          10       0.50      0.33      0.40         3\n",
      "          11       1.00      1.00      1.00         4\n",
      "          12       0.33      0.33      0.33         3\n",
      "          13       1.00      0.75      0.86         4\n",
      "          14       1.00      1.00      1.00         3\n",
      "          15       0.67      0.67      0.67         3\n",
      "          16       1.00      1.00      1.00         3\n",
      "          17       0.75      0.75      0.75         4\n",
      "          18       1.00      0.67      0.80         3\n",
      "          19       0.67      1.00      0.80         2\n",
      "          20       1.00      1.00      1.00         3\n",
      "          21       0.75      1.00      0.86         3\n",
      "          22       1.00      1.00      1.00         3\n",
      "          23       0.40      1.00      0.57         2\n",
      "          24       1.00      1.00      1.00         3\n",
      "          25       0.00      0.00      0.00         3\n",
      "\n",
      "    accuracy                           0.78        79\n",
      "   macro avg       0.78      0.79      0.77        79\n",
      "weighted avg       0.78      0.78      0.77        79\n",
      "\n"
     ]
    }
   ],
   "source": [
    "print(classification_report(y_testing_targets, pred_best_MLP))"
   ]
  },
  {
   "cell_type": "code",
   "execution_count": 11,
   "metadata": {},
   "outputs": [
    {
     "name": "stdout",
     "output_type": "stream",
     "text": [
      "[[2 0 0 0 0 0 0 0 0 0 0 0 1 0 0 0 0 0 0 0 0 0 0 1 0 0]\n",
      " [0 2 0 0 0 0 0 0 0 0 0 0 0 0 0 0 0 0 0 0 0 0 0 0 0 0]\n",
      " [0 0 4 0 0 0 0 0 0 0 0 0 0 0 0 0 0 0 0 0 0 0 0 0 0 0]\n",
      " [0 0 0 3 0 0 0 0 0 0 0 0 0 0 0 0 0 0 0 0 0 0 0 0 0 0]\n",
      " [0 0 0 0 1 0 0 0 0 0 0 0 0 0 0 0 0 0 0 0 0 0 0 0 0 0]\n",
      " [0 0 0 0 0 1 0 0 0 0 0 0 0 0 0 1 0 0 0 0 0 0 0 0 0 0]\n",
      " [0 0 0 0 0 0 4 0 0 0 0 0 0 0 0 0 0 0 0 0 0 0 0 0 0 0]\n",
      " [0 0 0 0 0 0 0 2 0 0 0 0 0 0 0 0 0 0 0 0 0 0 0 1 0 0]\n",
      " [0 0 0 0 0 0 0 0 3 0 0 0 0 0 0 0 0 0 0 0 0 0 0 0 0 0]\n",
      " [0 0 0 0 0 0 0 0 1 2 0 0 0 0 0 0 0 0 0 1 0 0 0 0 0 0]\n",
      " [0 0 0 0 0 0 0 1 0 0 1 0 0 0 0 0 0 0 0 0 0 0 0 1 0 0]\n",
      " [0 0 0 0 0 0 0 0 0 0 0 4 0 0 0 0 0 0 0 0 0 0 0 0 0 0]\n",
      " [0 0 0 0 0 0 1 1 0 0 0 0 1 0 0 0 0 0 0 0 0 0 0 0 0 0]\n",
      " [0 0 0 0 0 0 0 0 0 0 0 0 1 3 0 0 0 0 0 0 0 0 0 0 0 0]\n",
      " [0 0 0 0 0 0 0 0 0 0 0 0 0 0 3 0 0 0 0 0 0 0 0 0 0 0]\n",
      " [0 0 0 0 0 0 0 0 0 0 0 0 0 0 0 2 0 1 0 0 0 0 0 0 0 0]\n",
      " [0 0 0 0 0 0 0 0 0 0 0 0 0 0 0 0 3 0 0 0 0 0 0 0 0 0]\n",
      " [0 0 0 0 0 0 0 0 0 0 1 0 0 0 0 0 0 3 0 0 0 0 0 0 0 0]\n",
      " [0 0 0 0 0 0 1 0 0 0 0 0 0 0 0 0 0 0 2 0 0 0 0 0 0 0]\n",
      " [0 0 0 0 0 0 0 0 0 0 0 0 0 0 0 0 0 0 0 2 0 0 0 0 0 0]\n",
      " [0 0 0 0 0 0 0 0 0 0 0 0 0 0 0 0 0 0 0 0 3 0 0 0 0 0]\n",
      " [0 0 0 0 0 0 0 0 0 0 0 0 0 0 0 0 0 0 0 0 0 3 0 0 0 0]\n",
      " [0 0 0 0 0 0 0 0 0 0 0 0 0 0 0 0 0 0 0 0 0 0 3 0 0 0]\n",
      " [0 0 0 0 0 0 0 0 0 0 0 0 0 0 0 0 0 0 0 0 0 0 0 2 0 0]\n",
      " [0 0 0 0 0 0 0 0 0 0 0 0 0 0 0 0 0 0 0 0 0 0 0 0 3 0]\n",
      " [1 0 0 0 0 0 0 0 0 1 0 0 0 0 0 0 0 0 0 0 0 1 0 0 0 0]]\n"
     ]
    }
   ],
   "source": [
    "print(best_MLP_confusion_matrix)"
   ]
  },
  {
   "cell_type": "markdown",
   "metadata": {},
   "source": [
    "### Reading in the training and test data 2"
   ]
  },
  {
   "cell_type": "code",
   "execution_count": 12,
   "metadata": {},
   "outputs": [],
   "source": [
    "training_data = pd.read_csv(\"data-sets/train_2.csv\", sep=\",\", header=0, names=headers)\n",
    "testing_data = pd.read_csv(\"data-sets/test_with_label_2.csv\", sep=\",\", header=0, names=headers)"
   ]
  },
  {
   "cell_type": "markdown",
   "metadata": {},
   "source": [
    "### Plot the distribution of the training and test data"
   ]
  },
  {
   "cell_type": "code",
   "execution_count": 6,
   "metadata": {},
   "outputs": [
    {
     "data": {
      "image/png": "[encoded data removed]",
      "text/plain": [
       "<Figure size 432x288 with 1 Axes>"
      ]
     },
     "metadata": {
      "needs_background": "light"
     },
     "output_type": "display_data"
    }
   ],
   "source": [
    "sns.countplot(training_data[\"symbol\"])\n",
    "plt.savefig(\"results/training2-dist.png\")\n",
    "plt.show()"
   ]
  },
  {
   "cell_type": "markdown",
   "metadata": {},
   "source": [
    "### Setup the training/testing features and targets using our imported data"
   ]
  },
  {
   "cell_type": "code",
   "execution_count": 13,
   "metadata": {},
   "outputs": [],
   "source": [
    "X_training_features = training_data.drop(\"symbol\", axis=1)\n",
    "y_training_targets = training_data[\"symbol\"]\n",
    "X_testing_features = testing_data.drop(\"symbol\", axis=1)\n",
    "y_testing_targets = testing_data[\"symbol\"]"
   ]
  },
  {
   "cell_type": "code",
   "execution_count": 14,
   "metadata": {},
   "outputs": [
    {
     "name": "stdout",
     "output_type": "stream",
     "text": [
      "Fitting 5 folds for each of 16 candidates, totalling 80 fits\n",
      "[CV] activation=logistic, hidden_layer_sizes=(30, 50), solver=adam ...\n"
     ]
    },
    {
     "name": "stderr",
     "output_type": "stream",
     "text": [
      "[Parallel(n_jobs=1)]: Using backend SequentialBackend with 1 concurrent workers.\n"
     ]
    },
    {
     "name": "stdout",
     "output_type": "stream",
     "text": [
      "[CV]  activation=logistic, hidden_layer_sizes=(30, 50), solver=adam, total=  30.3s\n",
      "[CV] activation=logistic, hidden_layer_sizes=(30, 50), solver=adam ...\n"
     ]
    },
    {
     "name": "stderr",
     "output_type": "stream",
     "text": [
      "[Parallel(n_jobs=1)]: Done   1 out of   1 | elapsed:   30.3s remaining:    0.0s\n"
     ]
    },
    {
     "name": "stdout",
     "output_type": "stream",
     "text": [
      "[CV]  activation=logistic, hidden_layer_sizes=(30, 50), solver=adam, total=  26.4s\n",
      "[CV] activation=logistic, hidden_layer_sizes=(30, 50), solver=adam ...\n",
      "[CV]  activation=logistic, hidden_layer_sizes=(30, 50), solver=adam, total=  27.4s\n",
      "[CV] activation=logistic, hidden_layer_sizes=(30, 50), solver=adam ...\n",
      "[CV]  activation=logistic, hidden_layer_sizes=(30, 50), solver=adam, total=  26.8s\n",
      "[CV] activation=logistic, hidden_layer_sizes=(30, 50), solver=adam ...\n",
      "[CV]  activation=logistic, hidden_layer_sizes=(30, 50), solver=adam, total=  26.1s\n",
      "[CV] activation=logistic, hidden_layer_sizes=(30, 50), solver=sgd ....\n",
      "[CV]  activation=logistic, hidden_layer_sizes=(30, 50), solver=sgd, total=  25.3s\n",
      "[CV] activation=logistic, hidden_layer_sizes=(30, 50), solver=sgd ....\n",
      "[CV]  activation=logistic, hidden_layer_sizes=(30, 50), solver=sgd, total=  27.1s\n",
      "[CV] activation=logistic, hidden_layer_sizes=(30, 50), solver=sgd ....\n",
      "[CV]  activation=logistic, hidden_layer_sizes=(30, 50), solver=sgd, total=  26.8s\n",
      "[CV] activation=logistic, hidden_layer_sizes=(30, 50), solver=sgd ....\n",
      "[CV]  activation=logistic, hidden_layer_sizes=(30, 50), solver=sgd, total=  25.7s\n",
      "[CV] activation=logistic, hidden_layer_sizes=(30, 50), solver=sgd ....\n",
      "[CV]  activation=logistic, hidden_layer_sizes=(30, 50), solver=sgd, total=  25.1s\n",
      "[CV] activation=logistic, hidden_layer_sizes=(10, 10, 10), solver=adam \n",
      "[CV]  activation=logistic, hidden_layer_sizes=(10, 10, 10), solver=adam, total=  23.5s\n",
      "[CV] activation=logistic, hidden_layer_sizes=(10, 10, 10), solver=adam \n",
      "[CV]  activation=logistic, hidden_layer_sizes=(10, 10, 10), solver=adam, total=  23.0s\n",
      "[CV] activation=logistic, hidden_layer_sizes=(10, 10, 10), solver=adam \n",
      "[CV]  activation=logistic, hidden_layer_sizes=(10, 10, 10), solver=adam, total=  23.3s\n",
      "[CV] activation=logistic, hidden_layer_sizes=(10, 10, 10), solver=adam \n",
      "[CV]  activation=logistic, hidden_layer_sizes=(10, 10, 10), solver=adam, total=  24.0s\n",
      "[CV] activation=logistic, hidden_layer_sizes=(10, 10, 10), solver=adam \n",
      "[CV]  activation=logistic, hidden_layer_sizes=(10, 10, 10), solver=adam, total=  26.2s\n",
      "[CV] activation=logistic, hidden_layer_sizes=(10, 10, 10), solver=sgd \n",
      "[CV]  activation=logistic, hidden_layer_sizes=(10, 10, 10), solver=sgd, total=   6.6s\n",
      "[CV] activation=logistic, hidden_layer_sizes=(10, 10, 10), solver=sgd \n",
      "[CV]  activation=logistic, hidden_layer_sizes=(10, 10, 10), solver=sgd, total=   7.0s\n",
      "[CV] activation=logistic, hidden_layer_sizes=(10, 10, 10), solver=sgd \n",
      "[CV]  activation=logistic, hidden_layer_sizes=(10, 10, 10), solver=sgd, total=   7.1s\n",
      "[CV] activation=logistic, hidden_layer_sizes=(10, 10, 10), solver=sgd \n",
      "[CV]  activation=logistic, hidden_layer_sizes=(10, 10, 10), solver=sgd, total=   7.5s\n",
      "[CV] activation=logistic, hidden_layer_sizes=(10, 10, 10), solver=sgd \n",
      "[CV]  activation=logistic, hidden_layer_sizes=(10, 10, 10), solver=sgd, total=   6.5s\n",
      "[CV] activation=tanh, hidden_layer_sizes=(30, 50), solver=adam .......\n",
      "[CV]  activation=tanh, hidden_layer_sizes=(30, 50), solver=adam, total=  28.8s\n",
      "[CV] activation=tanh, hidden_layer_sizes=(30, 50), solver=adam .......\n",
      "[CV]  activation=tanh, hidden_layer_sizes=(30, 50), solver=adam, total=  30.5s\n",
      "[CV] activation=tanh, hidden_layer_sizes=(30, 50), solver=adam .......\n",
      "[CV]  activation=tanh, hidden_layer_sizes=(30, 50), solver=adam, total=  16.6s\n",
      "[CV] activation=tanh, hidden_layer_sizes=(30, 50), solver=adam .......\n",
      "[CV]  activation=tanh, hidden_layer_sizes=(30, 50), solver=adam, total=  25.2s\n",
      "[CV] activation=tanh, hidden_layer_sizes=(30, 50), solver=adam .......\n",
      "[CV]  activation=tanh, hidden_layer_sizes=(30, 50), solver=adam, total=  27.3s\n",
      "[CV] activation=tanh, hidden_layer_sizes=(30, 50), solver=sgd ........\n",
      "[CV]  activation=tanh, hidden_layer_sizes=(30, 50), solver=sgd, total=  27.6s\n",
      "[CV] activation=tanh, hidden_layer_sizes=(30, 50), solver=sgd ........\n",
      "[CV]  activation=tanh, hidden_layer_sizes=(30, 50), solver=sgd, total=  26.8s\n",
      "[CV] activation=tanh, hidden_layer_sizes=(30, 50), solver=sgd ........\n",
      "[CV]  activation=tanh, hidden_layer_sizes=(30, 50), solver=sgd, total=  25.8s\n",
      "[CV] activation=tanh, hidden_layer_sizes=(30, 50), solver=sgd ........\n",
      "[CV]  activation=tanh, hidden_layer_sizes=(30, 50), solver=sgd, total=  25.7s\n",
      "[CV] activation=tanh, hidden_layer_sizes=(30, 50), solver=sgd ........\n",
      "[CV]  activation=tanh, hidden_layer_sizes=(30, 50), solver=sgd, total=  25.3s\n",
      "[CV] activation=tanh, hidden_layer_sizes=(10, 10, 10), solver=adam ...\n",
      "[CV]  activation=tanh, hidden_layer_sizes=(10, 10, 10), solver=adam, total=  23.5s\n",
      "[CV] activation=tanh, hidden_layer_sizes=(10, 10, 10), solver=adam ...\n",
      "[CV]  activation=tanh, hidden_layer_sizes=(10, 10, 10), solver=adam, total=  15.8s\n",
      "[CV] activation=tanh, hidden_layer_sizes=(10, 10, 10), solver=adam ...\n",
      "[CV]  activation=tanh, hidden_layer_sizes=(10, 10, 10), solver=adam, total=  23.4s\n",
      "[CV] activation=tanh, hidden_layer_sizes=(10, 10, 10), solver=adam ...\n",
      "[CV]  activation=tanh, hidden_layer_sizes=(10, 10, 10), solver=adam, total=  20.2s\n",
      "[CV] activation=tanh, hidden_layer_sizes=(10, 10, 10), solver=adam ...\n",
      "[CV]  activation=tanh, hidden_layer_sizes=(10, 10, 10), solver=adam, total=  14.6s\n",
      "[CV] activation=tanh, hidden_layer_sizes=(10, 10, 10), solver=sgd ....\n",
      "[CV]  activation=tanh, hidden_layer_sizes=(10, 10, 10), solver=sgd, total=  22.2s\n",
      "[CV] activation=tanh, hidden_layer_sizes=(10, 10, 10), solver=sgd ....\n",
      "[CV]  activation=tanh, hidden_layer_sizes=(10, 10, 10), solver=sgd, total=  22.8s\n",
      "[CV] activation=tanh, hidden_layer_sizes=(10, 10, 10), solver=sgd ....\n",
      "[CV]  activation=tanh, hidden_layer_sizes=(10, 10, 10), solver=sgd, total=  22.3s\n",
      "[CV] activation=tanh, hidden_layer_sizes=(10, 10, 10), solver=sgd ....\n",
      "[CV]  activation=tanh, hidden_layer_sizes=(10, 10, 10), solver=sgd, total=  22.3s\n",
      "[CV] activation=tanh, hidden_layer_sizes=(10, 10, 10), solver=sgd ....\n",
      "[CV]  activation=tanh, hidden_layer_sizes=(10, 10, 10), solver=sgd, total=  22.0s\n",
      "[CV] activation=relu, hidden_layer_sizes=(30, 50), solver=adam .......\n",
      "[CV]  activation=relu, hidden_layer_sizes=(30, 50), solver=adam, total=  26.5s\n",
      "[CV] activation=relu, hidden_layer_sizes=(30, 50), solver=adam .......\n",
      "[CV]  activation=relu, hidden_layer_sizes=(30, 50), solver=adam, total=  26.4s\n",
      "[CV] activation=relu, hidden_layer_sizes=(30, 50), solver=adam .......\n",
      "[CV]  activation=relu, hidden_layer_sizes=(30, 50), solver=adam, total=  26.3s\n",
      "[CV] activation=relu, hidden_layer_sizes=(30, 50), solver=adam .......\n",
      "[CV]  activation=relu, hidden_layer_sizes=(30, 50), solver=adam, total=  26.5s\n",
      "[CV] activation=relu, hidden_layer_sizes=(30, 50), solver=adam .......\n",
      "[CV]  activation=relu, hidden_layer_sizes=(30, 50), solver=adam, total=  25.7s\n",
      "[CV] activation=relu, hidden_layer_sizes=(30, 50), solver=sgd ........\n",
      "[CV]  activation=relu, hidden_layer_sizes=(30, 50), solver=sgd, total=  25.1s\n",
      "[CV] activation=relu, hidden_layer_sizes=(30, 50), solver=sgd ........\n",
      "[CV]  activation=relu, hidden_layer_sizes=(30, 50), solver=sgd, total=  25.3s\n",
      "[CV] activation=relu, hidden_layer_sizes=(30, 50), solver=sgd ........\n",
      "[CV]  activation=relu, hidden_layer_sizes=(30, 50), solver=sgd, total=  24.9s\n",
      "[CV] activation=relu, hidden_layer_sizes=(30, 50), solver=sgd ........\n",
      "[CV]  activation=relu, hidden_layer_sizes=(30, 50), solver=sgd, total=  24.9s\n",
      "[CV] activation=relu, hidden_layer_sizes=(30, 50), solver=sgd ........\n",
      "[CV]  activation=relu, hidden_layer_sizes=(30, 50), solver=sgd, total=  24.9s\n",
      "[CV] activation=relu, hidden_layer_sizes=(10, 10, 10), solver=adam ...\n",
      "[CV]  activation=relu, hidden_layer_sizes=(10, 10, 10), solver=adam, total=  23.6s\n",
      "[CV] activation=relu, hidden_layer_sizes=(10, 10, 10), solver=adam ...\n",
      "[CV]  activation=relu, hidden_layer_sizes=(10, 10, 10), solver=adam, total=  23.3s\n",
      "[CV] activation=relu, hidden_layer_sizes=(10, 10, 10), solver=adam ...\n",
      "[CV]  activation=relu, hidden_layer_sizes=(10, 10, 10), solver=adam, total=  23.2s\n",
      "[CV] activation=relu, hidden_layer_sizes=(10, 10, 10), solver=adam ...\n",
      "[CV]  activation=relu, hidden_layer_sizes=(10, 10, 10), solver=adam, total=  23.6s\n",
      "[CV] activation=relu, hidden_layer_sizes=(10, 10, 10), solver=adam ...\n",
      "[CV]  activation=relu, hidden_layer_sizes=(10, 10, 10), solver=adam, total=  23.2s\n",
      "[CV] activation=relu, hidden_layer_sizes=(10, 10, 10), solver=sgd ....\n"
     ]
    },
    {
     "name": "stdout",
     "output_type": "stream",
     "text": [
      "[CV]  activation=relu, hidden_layer_sizes=(10, 10, 10), solver=sgd, total=  22.5s\n",
      "[CV] activation=relu, hidden_layer_sizes=(10, 10, 10), solver=sgd ....\n",
      "[CV]  activation=relu, hidden_layer_sizes=(10, 10, 10), solver=sgd, total=  22.7s\n",
      "[CV] activation=relu, hidden_layer_sizes=(10, 10, 10), solver=sgd ....\n",
      "[CV]  activation=relu, hidden_layer_sizes=(10, 10, 10), solver=sgd, total=  22.8s\n",
      "[CV] activation=relu, hidden_layer_sizes=(10, 10, 10), solver=sgd ....\n",
      "[CV]  activation=relu, hidden_layer_sizes=(10, 10, 10), solver=sgd, total=  22.4s\n",
      "[CV] activation=relu, hidden_layer_sizes=(10, 10, 10), solver=sgd ....\n",
      "[CV]  activation=relu, hidden_layer_sizes=(10, 10, 10), solver=sgd, total=  22.1s\n",
      "[CV] activation=identity, hidden_layer_sizes=(30, 50), solver=adam ...\n",
      "[CV]  activation=identity, hidden_layer_sizes=(30, 50), solver=adam, total=  19.2s\n",
      "[CV] activation=identity, hidden_layer_sizes=(30, 50), solver=adam ...\n",
      "[CV]  activation=identity, hidden_layer_sizes=(30, 50), solver=adam, total=  21.1s\n",
      "[CV] activation=identity, hidden_layer_sizes=(30, 50), solver=adam ...\n",
      "[CV]  activation=identity, hidden_layer_sizes=(30, 50), solver=adam, total=  17.2s\n",
      "[CV] activation=identity, hidden_layer_sizes=(30, 50), solver=adam ...\n",
      "[CV]  activation=identity, hidden_layer_sizes=(30, 50), solver=adam, total=  18.2s\n",
      "[CV] activation=identity, hidden_layer_sizes=(30, 50), solver=adam ...\n",
      "[CV]  activation=identity, hidden_layer_sizes=(30, 50), solver=adam, total=  16.4s\n",
      "[CV] activation=identity, hidden_layer_sizes=(30, 50), solver=sgd ....\n",
      "[CV]  activation=identity, hidden_layer_sizes=(30, 50), solver=sgd, total=  23.8s\n",
      "[CV] activation=identity, hidden_layer_sizes=(30, 50), solver=sgd ....\n",
      "[CV]  activation=identity, hidden_layer_sizes=(30, 50), solver=sgd, total=  25.2s\n",
      "[CV] activation=identity, hidden_layer_sizes=(30, 50), solver=sgd ....\n",
      "[CV]  activation=identity, hidden_layer_sizes=(30, 50), solver=sgd, total=  24.6s\n",
      "[CV] activation=identity, hidden_layer_sizes=(30, 50), solver=sgd ....\n",
      "[CV]  activation=identity, hidden_layer_sizes=(30, 50), solver=sgd, total=  23.5s\n",
      "[CV] activation=identity, hidden_layer_sizes=(30, 50), solver=sgd ....\n",
      "[CV]  activation=identity, hidden_layer_sizes=(30, 50), solver=sgd, total=  24.2s\n",
      "[CV] activation=identity, hidden_layer_sizes=(10, 10, 10), solver=adam \n",
      "[CV]  activation=identity, hidden_layer_sizes=(10, 10, 10), solver=adam, total=  22.0s\n",
      "[CV] activation=identity, hidden_layer_sizes=(10, 10, 10), solver=adam \n",
      "[CV]  activation=identity, hidden_layer_sizes=(10, 10, 10), solver=adam, total=  20.6s\n",
      "[CV] activation=identity, hidden_layer_sizes=(10, 10, 10), solver=adam \n",
      "[CV]  activation=identity, hidden_layer_sizes=(10, 10, 10), solver=adam, total=  22.0s\n",
      "[CV] activation=identity, hidden_layer_sizes=(10, 10, 10), solver=adam \n",
      "[CV]  activation=identity, hidden_layer_sizes=(10, 10, 10), solver=adam, total=  22.1s\n",
      "[CV] activation=identity, hidden_layer_sizes=(10, 10, 10), solver=adam \n",
      "[CV]  activation=identity, hidden_layer_sizes=(10, 10, 10), solver=adam, total=  19.1s\n",
      "[CV] activation=identity, hidden_layer_sizes=(10, 10, 10), solver=sgd \n",
      "[CV]  activation=identity, hidden_layer_sizes=(10, 10, 10), solver=sgd, total=  21.4s\n",
      "[CV] activation=identity, hidden_layer_sizes=(10, 10, 10), solver=sgd \n",
      "[CV]  activation=identity, hidden_layer_sizes=(10, 10, 10), solver=sgd, total=  21.4s\n",
      "[CV] activation=identity, hidden_layer_sizes=(10, 10, 10), solver=sgd \n",
      "[CV]  activation=identity, hidden_layer_sizes=(10, 10, 10), solver=sgd, total=  21.4s\n",
      "[CV] activation=identity, hidden_layer_sizes=(10, 10, 10), solver=sgd \n",
      "[CV]  activation=identity, hidden_layer_sizes=(10, 10, 10), solver=sgd, total=  21.5s\n",
      "[CV] activation=identity, hidden_layer_sizes=(10, 10, 10), solver=sgd \n",
      "[CV]  activation=identity, hidden_layer_sizes=(10, 10, 10), solver=sgd, total=  21.0s\n"
     ]
    },
    {
     "name": "stderr",
     "output_type": "stream",
     "text": [
      "[Parallel(n_jobs=1)]: Done  80 out of  80 | elapsed: 30.0min finished\n"
     ]
    },
    {
     "name": "stdout",
     "output_type": "stream",
     "text": [
      "print best parameter\n",
      "{'activation': 'tanh', 'hidden_layer_sizes': (30, 50), 'solver': 'sgd'}\n"
     ]
    }
   ],
   "source": [
    "mlp = MLPClassifier()\n",
    "clf = GridSearchCV(mlp, param_grid, verbose=2).fit(X_training_features, y_training_targets)\n",
    "print(\"print best parameter\")\n",
    "print(clf.best_params_)\n",
    "pred_best_MLP = clf.predict(X_testing_features)"
   ]
  },
  {
   "cell_type": "markdown",
   "metadata": {},
   "source": [
    "### Output the performance into the csv result file"
   ]
  },
  {
   "cell_type": "code",
   "execution_count": 16,
   "metadata": {},
   "outputs": [],
   "source": [
    "# The csv filename \n",
    "best_MLP_results_filename ='./results/best-MLP/Best_MLP-DS2.csv'\n",
    "# The results (Predictions)\n",
    "best_MLP_results = np.arange(1, pred_best_MLP.shape[0])\n",
    "\n",
    "\n",
    "# The confusion matrix\n",
    "best_MLP_confusion_matrix = confusion_matrix(y_testing_targets, pred_best_MLP)\n",
    "best_MLP_confusion_matrix_data_frame = pd.DataFrame(best_MLP_confusion_matrix).transpose()\n",
    "\n",
    "# The classification report (accuracy, f1-score, etc...)\n",
    "best_MLP_classification_report = classification_report(y_testing_targets, pred_best_MLP, output_dict=True)\n",
    "best_MLP_classification_data_frame = pd.DataFrame(best_MLP_classification_report).transpose()\n",
    "\n",
    "# Write each result [row,prediction] to the CSV file\n",
    "# This will also create a new file\n",
    "with open(best_MLP_results_filename, \"w\", newline=\"\") as file:\n",
    "    writer = csv.writer(file)    \n",
    "    writer.writerow([\"(a) Predicted Results:\"])\n",
    "    writer.writerow(\"\")\n",
    "    for i in zip(best_MLP_results, pred_best_MLP):\n",
    "        writer.writerow([i])\n",
    "        \n",
    "# Append the confusion matrix to the CSV\n",
    "with open(best_MLP_results_filename, \"a\", newline=\"\") as file:\n",
    "    writer = csv.writer(file)    \n",
    "    writer.writerow(\"\")\n",
    "    writer.writerow([\"(b) Confusion Matrix:\"])\n",
    "    writer.writerow(\"\")\n",
    "best_MLP_confusion_matrix_data_frame.to_csv(best_MLP_results_filename, mode=\"a\")    \n",
    "        \n",
    "# Append the classification report to the CSV\n",
    "with open(best_MLP_results_filename, \"a\", newline=\"\") as file:\n",
    "    writer = csv.writer(file)    \n",
    "    writer.writerow(\"\")\n",
    "    writer.writerow([\"(c) & (d) Performance Metrics:\"])\n",
    "    writer.writerow(\"\")\n",
    "best_MLP_classification_data_frame.to_csv(best_MLP_results_filename, mode=\"a\")"
   ]
  },
  {
   "cell_type": "code",
   "execution_count": null,
   "metadata": {},
   "outputs": [],
   "source": []
  },
  {
   "cell_type": "markdown",
   "metadata": {},
   "source": [
    "### Display classification metrics and confussion matrix"
   ]
  },
  {
   "cell_type": "code",
   "execution_count": 17,
   "metadata": {},
   "outputs": [
    {
     "name": "stdout",
     "output_type": "stream",
     "text": [
      "              precision    recall  f1-score   support\n",
      "\n",
      "           0       0.88      0.89      0.88        55\n",
      "           1       0.96      0.96      0.96       125\n",
      "           2       0.57      0.53      0.55        15\n",
      "           3       0.83      1.00      0.91        15\n",
      "           4       0.80      0.72      0.76        50\n",
      "           5       0.85      0.93      0.89        55\n",
      "           6       1.00      0.60      0.75        15\n",
      "           7       1.00      1.00      1.00        15\n",
      "           8       0.79      0.96      0.86        50\n",
      "           9       0.91      0.85      0.88       124\n",
      "\n",
      "    accuracy                           0.88       519\n",
      "   macro avg       0.86      0.84      0.84       519\n",
      "weighted avg       0.88      0.88      0.88       519\n",
      "\n",
      "[[ 49   1   1   1   0   1   0   0   1   1]\n",
      " [  1 120   0   2   0   0   0   0   2   0]\n",
      " [  0   0   8   0   0   1   0   0   5   1]\n",
      " [  0   0   0  15   0   0   0   0   0   0]\n",
      " [  4   1   0   0  36   2   0   0   2   5]\n",
      " [  0   0   1   0   1  51   0   0   0   2]\n",
      " [  1   2   1   0   1   0   9   0   1   0]\n",
      " [  0   0   0   0   0   0   0  15   0   0]\n",
      " [  0   1   0   0   0   0   0   0  48   1]\n",
      " [  1   0   3   0   7   5   0   0   2 106]]\n"
     ]
    }
   ],
   "source": [
    "print(classification_report(y_testing_targets, pred_best_MLP))\n",
    "print(best_MLP_confusion_matrix)"
   ]
  },
  {
   "cell_type": "code",
   "execution_count": null,
   "metadata": {},
   "outputs": [],
   "source": []
  }
 ],
 "metadata": {
  "kernelspec": {
   "display_name": "Python 3",
   "language": "python",
   "name": "python3"
  },
  "language_info": {
   "codemirror_mode": {
    "name": "ipython",
    "version": 3
   },
   "file_extension": ".py",
   "mimetype": "text/x-python",
   "name": "python",
   "nbconvert_exporter": "python",
   "pygments_lexer": "ipython3",
   "version": "3.8.3"
  }
 },
 "nbformat": 4,
 "nbformat_minor": 4
}
