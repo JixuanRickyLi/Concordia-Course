{
 "cells": [
  {
   "cell_type": "markdown",
   "metadata": {},
   "source": [
    "<h4>Import all necessary packages and modules</h4>"
   ]
  },
  {
   "cell_type": "code",
   "execution_count": 1,
   "metadata": {},
   "outputs": [],
   "source": [
    "import pandas as pd\n",
    "import numpy as np\n",
    "import seaborn as sns\n",
    "import matplotlib.pyplot as plt\n",
    "import csv\n",
    "\n",
    "from sklearn.metrics import confusion_matrix, classification_report\n",
    "from sklearn.naive_bayes import GaussianNB\n",
    "\n",
    "import warnings\n",
    "warnings.filterwarnings(\"ignore\")"
   ]
  },
  {
   "cell_type": "markdown",
   "metadata": {},
   "source": [
    "<h4>Define the list of header names for the data</h4>"
   ]
  },
  {
   "cell_type": "code",
   "execution_count": 2,
   "metadata": {},
   "outputs": [],
   "source": [
    "headers = [\"f\" + str(i) for i in range(1025)]\n",
    "headers[1024] = \"symbol\""
   ]
  },
  {
   "cell_type": "markdown",
   "metadata": {},
   "source": [
    "<h4>Read in the training and test data 1</h4>"
   ]
  },
  {
   "cell_type": "code",
   "execution_count": 3,
   "metadata": {},
   "outputs": [],
   "source": [
    "training_data = pd.read_csv(\"data-sets/train_1.csv\", sep=\",\", header=0, names=headers)\n",
    "testing_data = pd.read_csv(\"data-sets/test_with_label_1.csv\", sep=\",\", header=0, names=headers)"
   ]
  },
  {
   "cell_type": "markdown",
   "metadata": {},
   "source": [
    "<h4>Plot the distribution of the training and test data</h4>"
   ]
  },
  {
   "cell_type": "code",
   "execution_count": 4,
   "metadata": {
    "scrolled": true
   },
   "outputs": [
    {
     "data": {
      "image/png": "[encoded data removed]",
      "text/plain": [
       "<Figure size 432x288 with 1 Axes>"
      ]
     },
     "metadata": {
      "needs_background": "light"
     },
     "output_type": "display_data"
    }
   ],
   "source": [
    "sns.countplot(training_data[\"symbol\"])\n",
    "plt.savefig(\"results/training1-dist.png\")\n",
    "plt.show()"
   ]
  },
  {
   "cell_type": "code",
   "execution_count": 5,
   "metadata": {},
   "outputs": [
    {
     "data": {
      "image/png": "[encoded data removed]",
      "text/plain": [
       "<Figure size 432x288 with 1 Axes>"
      ]
     },
     "metadata": {
      "needs_background": "light"
     },
     "output_type": "display_data"
    }
   ],
   "source": [
    "sns.countplot(testing_data['symbol'])\n",
    "plt.savefig(\"results/testing1-dist.png\")\n",
    "plt.show()"
   ]
  },
  {
   "cell_type": "markdown",
   "metadata": {},
   "source": [
    "<h4>Setup the training/testing features and targets using our imported data</h4>"
   ]
  },
  {
   "cell_type": "code",
   "execution_count": 6,
   "metadata": {},
   "outputs": [],
   "source": [
    "X_training_features = training_data.drop(\"symbol\", axis=1)\n",
    "y_training_targets = training_data[\"symbol\"]"
   ]
  },
  {
   "cell_type": "code",
   "execution_count": 7,
   "metadata": {},
   "outputs": [],
   "source": [
    "X_testing_features = testing_data.drop(\"symbol\", axis=1)\n",
    "y_testing_targets = testing_data[\"symbol\"]"
   ]
  },
  {
   "cell_type": "markdown",
   "metadata": {},
   "source": [
    "<h4>Create the NaiveBayes model object with our training and testing data</h4>"
   ]
  },
  {
   "cell_type": "code",
   "execution_count": 8,
   "metadata": {},
   "outputs": [],
   "source": [
    "gnb = GaussianNB()\n",
    "gnb.fit(X_training_features, y_training_targets)\n",
    "pred_gnb = gnb.predict(X_testing_features)"
   ]
  },
  {
   "cell_type": "markdown",
   "metadata": {},
   "source": [
    "<h4>Output the performance into the csv result file</h4>"
   ]
  },
  {
   "cell_type": "code",
   "execution_count": 9,
   "metadata": {},
   "outputs": [],
   "source": [
    "# The csv filename\n",
    "gnb_results_filename = \"results/naive-bayes/GNB-DS1.csv\"\n",
    "\n",
    "# The results (predictions)\n",
    "gnb_results = np.arange(1, pred_gnb.shape[0])\n",
    "\n",
    "# The confusion matrix\n",
    "gnb_confusion_matrix = confusion_matrix(y_testing_targets, pred_gnb)\n",
    "gnb_confusion_matrix_data_frame = pd.DataFrame(gnb_confusion_matrix).transpose()\n",
    "\n",
    "# The classification report (accuracy, f1-score, etc...)\n",
    "gnb_classification_report = classification_report(y_testing_targets, pred_gnb, output_dict=True)\n",
    "gnb_classification_data_frame = pd.DataFrame(gnb_classification_report).transpose()\n",
    "\n",
    "# Write each result [row,prediction] to the CSV file\n",
    "# This will also create a new file\n",
    "with open(gnb_results_filename, \"w\", newline=\"\") as file:\n",
    "    writer = csv.writer(file)    \n",
    "    writer.writerow([\"(a) Predicted Results:\"])\n",
    "    writer.writerow(\"\")\n",
    "    for i in zip(gnb_results, pred_gnb):\n",
    "        writer.writerow([i])\n",
    "        \n",
    "# Append the confusion matrix to the CSV\n",
    "with open(gnb_results_filename, \"a\", newline=\"\") as file:\n",
    "    writer = csv.writer(file)    \n",
    "    writer.writerow(\"\")\n",
    "    writer.writerow([\"(b) Confusion Matrix:\"])\n",
    "    writer.writerow(\"\")\n",
    "gnb_confusion_matrix_data_frame.to_csv(gnb_results_filename, mode=\"a\")    \n",
    "        \n",
    "# Append the classification report to the CSV\n",
    "with open(gnb_results_filename, \"a\", newline=\"\") as file:\n",
    "    writer = csv.writer(file)    \n",
    "    writer.writerow(\"\")\n",
    "    writer.writerow([\"(c) & (d) Performance Metrics:\"])\n",
    "    writer.writerow(\"\")\n",
    "gnb_classification_data_frame.to_csv(gnb_results_filename, mode=\"a\")"
   ]
  },
  {
   "cell_type": "markdown",
   "metadata": {},
   "source": [
    "<h4>Display classification metrics and confussion matrix</h4>"
   ]
  },
  {
   "cell_type": "code",
   "execution_count": 10,
   "metadata": {},
   "outputs": [
    {
     "name": "stdout",
     "output_type": "stream",
     "text": [
      "              precision    recall  f1-score   support\n",
      "\n",
      "           0       0.50      0.50      0.50         4\n",
      "           1       0.33      1.00      0.50         2\n",
      "           2       1.00      0.75      0.86         4\n",
      "           3       0.67      0.67      0.67         3\n",
      "           4       0.00      0.00      0.00         1\n",
      "           5       1.00      0.50      0.67         2\n",
      "           6       0.67      0.50      0.57         4\n",
      "           7       1.00      0.33      0.50         3\n",
      "           8       1.00      1.00      1.00         3\n",
      "           9       1.00      0.50      0.67         4\n",
      "          10       0.50      0.33      0.40         3\n",
      "          11       1.00      0.75      0.86         4\n",
      "          12       0.29      0.67      0.40         3\n",
      "          13       0.60      0.75      0.67         4\n",
      "          14       1.00      1.00      1.00         3\n",
      "          15       1.00      0.67      0.80         3\n",
      "          16       0.60      1.00      0.75         3\n",
      "          17       0.50      0.75      0.60         4\n",
      "          18       1.00      0.67      0.80         3\n",
      "          19       1.00      1.00      1.00         2\n",
      "          20       1.00      1.00      1.00         3\n",
      "          21       0.67      0.67      0.67         3\n",
      "          22       0.75      1.00      0.86         3\n",
      "          23       1.00      0.50      0.67         2\n",
      "          24       1.00      0.67      0.80         3\n",
      "          25       0.67      0.67      0.67         3\n",
      "\n",
      "    accuracy                           0.70        79\n",
      "   macro avg       0.76      0.69      0.69        79\n",
      "weighted avg       0.77      0.70      0.70        79\n",
      "\n"
     ]
    }
   ],
   "source": [
    "print(classification_report(y_testing_targets, pred_gnb))"
   ]
  },
  {
   "cell_type": "code",
   "execution_count": 11,
   "metadata": {
    "scrolled": false
   },
   "outputs": [
    {
     "name": "stdout",
     "output_type": "stream",
     "text": [
      "[[2 0 0 0 0 0 0 0 0 0 0 0 1 0 0 0 0 1 0 0 0 0 0 0 0 0]\n",
      " [0 2 0 0 0 0 0 0 0 0 0 0 0 0 0 0 0 0 0 0 0 0 0 0 0 0]\n",
      " [0 0 3 0 0 0 1 0 0 0 0 0 0 0 0 0 0 0 0 0 0 0 0 0 0 0]\n",
      " [0 1 0 2 0 0 0 0 0 0 0 0 0 0 0 0 0 0 0 0 0 0 0 0 0 0]\n",
      " [0 1 0 0 0 0 0 0 0 0 0 0 0 0 0 0 0 0 0 0 0 0 0 0 0 0]\n",
      " [0 0 0 0 0 1 0 0 0 0 0 0 1 0 0 0 0 0 0 0 0 0 0 0 0 0]\n",
      " [0 1 0 0 0 0 2 0 0 0 0 0 1 0 0 0 0 0 0 0 0 0 0 0 0 0]\n",
      " [1 0 0 0 0 0 0 1 0 0 0 0 0 1 0 0 0 0 0 0 0 0 0 0 0 0]\n",
      " [0 0 0 0 0 0 0 0 3 0 0 0 0 0 0 0 0 0 0 0 0 0 0 0 0 0]\n",
      " [0 1 0 0 0 0 0 0 0 2 0 0 0 0 0 0 1 0 0 0 0 0 0 0 0 0]\n",
      " [0 0 0 0 0 0 0 0 0 0 1 0 0 0 0 0 0 2 0 0 0 0 0 0 0 0]\n",
      " [0 0 0 0 0 0 0 0 0 0 0 3 0 0 0 0 0 0 0 0 0 0 0 0 0 1]\n",
      " [0 0 0 0 0 0 0 0 0 0 0 0 2 1 0 0 0 0 0 0 0 0 0 0 0 0]\n",
      " [0 0 0 1 0 0 0 0 0 0 0 0 0 3 0 0 0 0 0 0 0 0 0 0 0 0]\n",
      " [0 0 0 0 0 0 0 0 0 0 0 0 0 0 3 0 0 0 0 0 0 0 0 0 0 0]\n",
      " [1 0 0 0 0 0 0 0 0 0 0 0 0 0 0 2 0 0 0 0 0 0 0 0 0 0]\n",
      " [0 0 0 0 0 0 0 0 0 0 0 0 0 0 0 0 3 0 0 0 0 0 0 0 0 0]\n",
      " [0 0 0 0 0 0 0 0 0 0 1 0 0 0 0 0 0 3 0 0 0 0 0 0 0 0]\n",
      " [0 0 0 0 0 0 0 0 0 0 0 0 0 0 0 0 1 0 2 0 0 0 0 0 0 0]\n",
      " [0 0 0 0 0 0 0 0 0 0 0 0 0 0 0 0 0 0 0 2 0 0 0 0 0 0]\n",
      " [0 0 0 0 0 0 0 0 0 0 0 0 0 0 0 0 0 0 0 0 3 0 0 0 0 0]\n",
      " [0 0 0 0 0 0 0 0 0 0 0 0 0 0 0 0 0 0 0 0 0 2 1 0 0 0]\n",
      " [0 0 0 0 0 0 0 0 0 0 0 0 0 0 0 0 0 0 0 0 0 0 3 0 0 0]\n",
      " [0 0 0 0 0 0 0 0 0 0 0 0 1 0 0 0 0 0 0 0 0 0 0 1 0 0]\n",
      " [0 0 0 0 0 0 0 0 0 0 0 0 0 0 0 0 0 0 0 0 0 1 0 0 2 0]\n",
      " [0 0 0 0 0 0 0 0 0 0 0 0 1 0 0 0 0 0 0 0 0 0 0 0 0 2]]\n"
     ]
    }
   ],
   "source": [
    "print(gnb_confusion_matrix)"
   ]
  },
  {
   "cell_type": "markdown",
   "metadata": {},
   "source": [
    "<h4>Read in the training and test data 2</h4>"
   ]
  },
  {
   "cell_type": "code",
   "execution_count": 12,
   "metadata": {},
   "outputs": [],
   "source": [
    "training_data = pd.read_csv(\"data-sets/train_2.csv\", sep=\",\", header=0, names=headers)\n",
    "testing_data = pd.read_csv(\"data-sets/test_with_label_2.csv\", sep=\",\", header=0, names=headers)"
   ]
  },
  {
   "cell_type": "markdown",
   "metadata": {},
   "source": [
    "<h4>Plot the distribution of the training and test data</h4>"
   ]
  },
  {
   "cell_type": "code",
   "execution_count": 13,
   "metadata": {
    "scrolled": true
   },
   "outputs": [
    {
     "data": {
      "image/png": "[encoded data removed]",
      "text/plain": [
       "<Figure size 432x288 with 1 Axes>"
      ]
     },
     "metadata": {
      "needs_background": "light"
     },
     "output_type": "display_data"
    }
   ],
   "source": [
    "sns.countplot(training_data[\"symbol\"])\n",
    "plt.savefig(\"results/training2-dist.png\")\n",
    "plt.show()"
   ]
  },
  {
   "cell_type": "code",
   "execution_count": 14,
   "metadata": {},
   "outputs": [
    {
     "data": {
      "image/png": "[encoded data removed]",
      "text/plain": [
       "<Figure size 432x288 with 1 Axes>"
      ]
     },
     "metadata": {
      "needs_background": "light"
     },
     "output_type": "display_data"
    }
   ],
   "source": [
    "sns.countplot(testing_data['symbol'])\n",
    "plt.savefig(\"results/testing2-dist.png\")\n",
    "plt.show()"
   ]
  },
  {
   "cell_type": "markdown",
   "metadata": {},
   "source": [
    "<h4>Setup the training/testing features and targets using our imported data</h4>"
   ]
  },
  {
   "cell_type": "code",
   "execution_count": 15,
   "metadata": {},
   "outputs": [],
   "source": [
    "X_training_features = training_data.drop(\"symbol\", axis=1)\n",
    "y_training_targets = training_data[\"symbol\"]"
   ]
  },
  {
   "cell_type": "code",
   "execution_count": 16,
   "metadata": {},
   "outputs": [],
   "source": [
    "X_testing_features = testing_data.drop(\"symbol\", axis=1)\n",
    "y_testing_targets = testing_data[\"symbol\"]"
   ]
  },
  {
   "cell_type": "markdown",
   "metadata": {},
   "source": [
    "<h4>Create the NaiveBayes model object with our training and testing data</h4>"
   ]
  },
  {
   "cell_type": "code",
   "execution_count": 17,
   "metadata": {},
   "outputs": [],
   "source": [
    "gnb = GaussianNB()\n",
    "gnb.fit(X_training_features, y_training_targets)\n",
    "pred_gnb = gnb.predict(X_testing_features)"
   ]
  },
  {
   "cell_type": "markdown",
   "metadata": {},
   "source": [
    "<h4>Output the performance into the csv result file</h4>"
   ]
  },
  {
   "cell_type": "code",
   "execution_count": 18,
   "metadata": {},
   "outputs": [],
   "source": [
    "# The csv filename\n",
    "gnb_results_filename = \"results/naive-bayes/GNB-DS2.csv\"\n",
    "\n",
    "# The results (predictions)\n",
    "gnb_results = np.arange(1, pred_gnb.shape[0])\n",
    "\n",
    "# The confusion matrix\n",
    "gnb_confusion_matrix = confusion_matrix(y_testing_targets, pred_gnb)\n",
    "gnb_confusion_matrix_data_frame = pd.DataFrame(gnb_confusion_matrix).transpose()\n",
    "\n",
    "# The classification report (accuracy, f1-score, etc...)\n",
    "gnb_classification_report = classification_report(y_testing_targets, pred_gnb, output_dict=True)\n",
    "gnb_classification_data_frame = pd.DataFrame(gnb_classification_report).transpose()\n",
    "\n",
    "# Write each result [row,prediction] to the CSV file\n",
    "# This will also create a new file\n",
    "with open(gnb_results_filename, \"w\", newline=\"\") as file:\n",
    "    writer = csv.writer(file)    \n",
    "    writer.writerow([\"(a) Predicted Results:\"])\n",
    "    writer.writerow(\"\")\n",
    "    for i in zip(gnb_results, pred_gnb):\n",
    "        writer.writerow([i])\n",
    "        \n",
    "# Append the confusion matrix to the CSV\n",
    "with open(gnb_results_filename, \"a\", newline=\"\") as file:\n",
    "    writer = csv.writer(file)    \n",
    "    writer.writerow(\"\")\n",
    "    writer.writerow([\"(b) Confusion Matrix:\"])\n",
    "    writer.writerow(\"\")\n",
    "gnb_confusion_matrix_data_frame.to_csv(gnb_results_filename, mode=\"a\")    \n",
    "        \n",
    "# Append the classification report to the CSV\n",
    "with open(gnb_results_filename, \"a\", newline=\"\") as file:\n",
    "    writer = csv.writer(file)    \n",
    "    writer.writerow(\"\")\n",
    "    writer.writerow([\"(c) & (d) Performance Metrics:\"])\n",
    "    writer.writerow(\"\")\n",
    "gnb_classification_data_frame.to_csv(gnb_results_filename, mode=\"a\")"
   ]
  },
  {
   "cell_type": "markdown",
   "metadata": {},
   "source": [
    "<h4>Display classification metrics and confussion matrix</h4>"
   ]
  },
  {
   "cell_type": "code",
   "execution_count": 19,
   "metadata": {},
   "outputs": [
    {
     "name": "stdout",
     "output_type": "stream",
     "text": [
      "              precision    recall  f1-score   support\n",
      "\n",
      "           0       0.60      0.47      0.53        55\n",
      "           1       0.93      0.89      0.91       125\n",
      "           2       0.28      0.80      0.41        15\n",
      "           3       0.34      0.93      0.50        15\n",
      "           4       0.59      0.40      0.48        50\n",
      "           5       0.76      0.62      0.68        55\n",
      "           6       0.24      0.73      0.37        15\n",
      "           7       1.00      0.93      0.97        15\n",
      "           8       0.88      0.30      0.45        50\n",
      "           9       0.77      0.73      0.75       124\n",
      "\n",
      "    accuracy                           0.67       519\n",
      "   macro avg       0.64      0.68      0.60       519\n",
      "weighted avg       0.75      0.67      0.68       519\n",
      "\n"
     ]
    }
   ],
   "source": [
    "print(classification_report(y_testing_targets, pred_gnb))"
   ]
  },
  {
   "cell_type": "code",
   "execution_count": 20,
   "metadata": {
    "scrolled": true
   },
   "outputs": [
    {
     "name": "stdout",
     "output_type": "stream",
     "text": [
      "[[ 26   4   1  14   8   1   0   0   1   0]\n",
      " [  6 111   1   6   0   1   0   0   0   0]\n",
      " [  0   0  12   0   1   0   0   0   1   1]\n",
      " [  1   0   0  14   0   0   0   0   0   0]\n",
      " [  2   0   1   6  20   2   4   0   0  15]\n",
      " [  0   0   1   1   1  34   8   0   0  10]\n",
      " [  3   1   0   0   0   0  11   0   0   0]\n",
      " [  0   1   0   0   0   0   0  14   0   0]\n",
      " [  1   2  26   0   0   0   5   0  15   1]\n",
      " [  4   1   1   0   4   7  17   0   0  90]]\n"
     ]
    }
   ],
   "source": [
    "print(gnb_confusion_matrix)"
   ]
  }
 ],
 "metadata": {
  "kernelspec": {
   "display_name": "Python 3",
   "language": "python",
   "name": "python3"
  },
  "language_info": {
   "codemirror_mode": {
    "name": "ipython",
    "version": 3
   },
   "file_extension": ".py",
   "mimetype": "text/x-python",
   "name": "python",
   "nbconvert_exporter": "python",
   "pygments_lexer": "ipython3",
   "version": "3.8.3"
  }
 },
 "nbformat": 4,
 "nbformat_minor": 4
}
