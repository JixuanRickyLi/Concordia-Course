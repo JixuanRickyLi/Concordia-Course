{
 "cells": [
  {
   "cell_type": "code",
   "execution_count": 1,
   "metadata": {},
   "outputs": [],
   "source": [
    "import pandas as pd\n",
    "import matplotlib.pyplot as plt\n",
    "import numpy as np\n",
    "import csv\n",
    "from sklearn.datasets import load_digits\n",
    "from sklearn.linear_model import Perceptron\n",
    "from sklearn.tree import DecisionTreeClassifier\n",
    "from sklearn.model_selection import GridSearchCV\n",
    "from sklearn.metrics import confusion_matrix, classification_report"
   ]
  },
  {
   "cell_type": "code",
   "execution_count": 2,
   "metadata": {},
   "outputs": [],
   "source": [
    "testlabel1=pd.read_csv(\"data-sets/test_with_label_1.csv\")\n",
    "train1=pd.read_csv(\"data-sets/train_1.csv\")\n",
    "info1=pd.read_csv(\"data-sets/info_1.csv\")\n",
    "\n",
    "train2 = pd.read_csv(\"data-sets/train_2.csv\")\n",
    "testlabel2 = pd.read_csv(\"data-sets/test_with_label_2.csv\")\n",
    "info2=pd.read_csv(\"data-sets/info_2.csv\")\n",
    "\n",
    "val1=pd.read_csv(\"data-sets/val_1.csv\")\n",
    "val2=pd.read_csv(\"data-sets/val_2.csv\")\n",
    "\n",
    "\n",
    "Xtrain1=train1.loc[:,:'1.827']\n",
    "Ytrain1=train1['1.828']\n",
    "Xtest1=testlabel1.loc[:,:'1.849']\n",
    "Ytest1=testlabel1['4']\n",
    "\n",
    "#Xtrain2=train2.loc[:,:'1.827']\n",
    "Ytrain2=train2['9']\n",
    "Xtrain2= train2.drop(\"9\", axis=1)\n",
    "Xtest2=testlabel2.loc[:,:'1.849']\n",
    "Ytest2=testlabel2['9']\n",
    "\n",
    "\n",
    "Xval1=val1.loc[:,:'1.842']\n",
    "Yval1=val1['1.843']\n",
    "\n",
    "Xval2=val2.loc[:,:'1.881']\n",
    "Yval2=val2['8']\n"
   ]
  },
  {
   "cell_type": "code",
   "execution_count": 3,
   "metadata": {},
   "outputs": [],
   "source": [
    "clf = Perceptron(tol=1e-3, random_state=0)\n",
    "clf.fit(Xtrain1, Ytrain1)\n",
    "Per_test1=clf.predict(Xtest1)\n",
    "\n",
    "clf2= Perceptron(tol=1e-3, random_state=0)\n",
    "clf2.fit(Xtrain2, Ytrain2)\n",
    "Per_test2=clf2.predict(Xtest2)"
   ]
  },
  {
   "cell_type": "code",
   "execution_count": null,
   "metadata": {
    "scrolled": true
   },
   "outputs": [],
   "source": []
  },
  {
   "cell_type": "code",
   "execution_count": 4,
   "metadata": {},
   "outputs": [],
   "source": [
    "# The csv filename\n",
    "gnb_results_filename = \"results/PER/PER-DS1.csv\"\n",
    "\n",
    "# The results (predictions)\n",
    "gnb_results = np.arange(1,Per_test1.shape[0] )\n",
    "pred_gnb=clf.predict(Xtest1)\n",
    "y_testing_targets = Ytest1\n",
    "\n",
    "# The confusion matrix\n",
    "gnb_confusion_matrix = confusion_matrix(y_testing_targets, pred_gnb)\n",
    "gnb_confusion_matrix_data_frame = pd.DataFrame(gnb_confusion_matrix).transpose()\n",
    "\n",
    "# The classification report (accuracy, f1-score, etc...)\n",
    "gnb_classification_report = classification_report(y_testing_targets, pred_gnb, output_dict=True)\n",
    "gnb_classification_data_frame = pd.DataFrame(gnb_classification_report).transpose()\n",
    "\n",
    "# Write each result [row,prediction] to the CSV file\n",
    "# This will also create a new file\n",
    "with open(gnb_results_filename, \"w\", newline=\"\") as file:\n",
    "    writer = csv.writer(file)    \n",
    "    writer.writerow([\"(a) Predicted Results:\"])\n",
    "    writer.writerow(\"\")\n",
    "    for i in zip(gnb_results, pred_gnb):\n",
    "        writer.writerow([i])\n",
    "        \n",
    "# Append the confusion matrix to the CSV\n",
    "with open(gnb_results_filename, \"a\", newline=\"\") as file:\n",
    "    writer = csv.writer(file)    \n",
    "    writer.writerow(\"\")\n",
    "    writer.writerow([\"(b) Confusion Matrix:\"])\n",
    "    writer.writerow(\"\")\n",
    "gnb_confusion_matrix_data_frame.to_csv(gnb_results_filename, mode=\"a\")    \n",
    "        \n",
    "# Append the classification report to the CSV\n",
    "with open(gnb_results_filename, \"a\", newline=\"\") as file:\n",
    "    writer = csv.writer(file)    \n",
    "    writer.writerow(\"\")\n",
    "    writer.writerow([\"(c) & (d) Performance Metrics:\"])\n",
    "    writer.writerow(\"\")\n",
    "gnb_classification_data_frame.to_csv(gnb_results_filename, mode=\"a\")"
   ]
  },
  {
   "cell_type": "code",
   "execution_count": 5,
   "metadata": {},
   "outputs": [],
   "source": [
    "# The csv filename\n",
    "gnb_results_filename = \"results/PER/PER-DS2.csv\"\n",
    "\n",
    "# The results (predictions)\n",
    "gnb_results = np.arange(1,Per_test2.shape[0] )\n",
    "pred_gnb=clf2.predict(Xtest2)\n",
    "y_testing_targets = Ytest2\n",
    "\n",
    "# The confusion matrix\n",
    "gnb_confusion_matrix = confusion_matrix(y_testing_targets, pred_gnb)\n",
    "gnb_confusion_matrix_data_frame = pd.DataFrame(gnb_confusion_matrix).transpose()\n",
    "\n",
    "# The classification report (accuracy, f1-score, etc...)\n",
    "gnb_classification_report = classification_report(y_testing_targets, pred_gnb, output_dict=True)\n",
    "gnb_classification_data_frame = pd.DataFrame(gnb_classification_report).transpose()\n",
    "\n",
    "# Write each result [row,prediction] to the CSV file\n",
    "# This will also create a new file\n",
    "with open(gnb_results_filename, \"w\", newline=\"\") as file:\n",
    "    writer = csv.writer(file)    \n",
    "    writer.writerow([\"(a) Predicted Results:\"])\n",
    "    writer.writerow(\"\")\n",
    "    for i in zip(gnb_results, pred_gnb):\n",
    "        writer.writerow([i])\n",
    "        \n",
    "# Append the confusion matrix to the CSV\n",
    "with open(gnb_results_filename, \"a\", newline=\"\") as file:\n",
    "    writer = csv.writer(file)    \n",
    "    writer.writerow(\"\")\n",
    "    writer.writerow([\"(b) Confusion Matrix:\"])\n",
    "    writer.writerow(\"\")\n",
    "gnb_confusion_matrix_data_frame.to_csv(gnb_results_filename, mode=\"a\")    \n",
    "        \n",
    "# Append the classification report to the CSV\n",
    "with open(gnb_results_filename, \"a\", newline=\"\") as file:\n",
    "    writer = csv.writer(file)    \n",
    "    writer.writerow(\"\")\n",
    "    writer.writerow([\"(c) & (d) Performance Metrics:\"])\n",
    "    writer.writerow(\"\")\n",
    "gnb_classification_data_frame.to_csv(gnb_results_filename, mode=\"a\")"
   ]
  },
  {
   "cell_type": "code",
   "execution_count": null,
   "metadata": {},
   "outputs": [],
   "source": []
  },
  {
   "cell_type": "code",
   "execution_count": null,
   "metadata": {},
   "outputs": [],
   "source": []
  },
  {
   "cell_type": "code",
   "execution_count": null,
   "metadata": {},
   "outputs": [],
   "source": []
  },
  {
   "cell_type": "code",
   "execution_count": null,
   "metadata": {},
   "outputs": [],
   "source": []
  }
 ],
 "metadata": {
  "kernelspec": {
   "display_name": "Python 3",
   "language": "python",
   "name": "python3"
  },
  "language_info": {
   "codemirror_mode": {
    "name": "ipython",
    "version": 3
   },
   "file_extension": ".py",
   "mimetype": "text/x-python",
   "name": "python",
   "nbconvert_exporter": "python",
   "pygments_lexer": "ipython3",
   "version": "3.7.6"
  }
 },
 "nbformat": 4,
 "nbformat_minor": 4
}
