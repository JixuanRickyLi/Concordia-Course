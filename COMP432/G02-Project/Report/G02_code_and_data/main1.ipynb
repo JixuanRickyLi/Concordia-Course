{
 "cells": [
  {
   "cell_type": "markdown",
   "metadata": {
    "id": "k71YrpfAiIyn"
   },
   "source": [
    "# COMP 432 GROUP PROJECT:  🥑🥑🥑🥑  Avocado Data Analysis  🥑🥑🥑🥑\n",
    "*  Submitted by G02\n",
    "    * Jixuan Li  40073785\n",
    "    * Dejian Wang 27754396\n",
    "\n",
    "---\n"
   ]
  },
  {
   "cell_type": "markdown",
   "metadata": {
    "id": "9WjSDyAylSFv"
   },
   "source": [
    "## Part 1 -- Introduction 🥑\n",
    "\n",
    "\n",
    "---\n",
    "<p>\n",
    "Avocado is an important fruit we consume everyday.  It contains Vitamin A, Vitamin E, unsaturated fat, which can be an ideal fat source of daily diet. However, when you are trying to pick the best avocado from a huge heap in the supermarket, have you ever thought about how we can do an analysis about the avocado data? Thanks to Kaggle we got a bunch of high quality Avocado selling stats data w.r.t. their date, average price, the vending volume of each brand, also the type(organic or normal), and which state this data came from. We decided to apply those algorithms we learned from this course to these data. \n",
    "<p/>\n",
    "<p>\n",
    "First of all, we are going to apply classification models to the data, in order to give out a classifier, to see which type of the avocado is, by feeding other features to the model.\n",
    "</p>\n",
    "<p>\n",
    "Then, we are going to apply the regression methods to the data, so as to predict  the avocado price by giving features.\n",
    "</p>\n",
    "<p>\n",
    "By tuning those classification and regression models, we would like to combine what we learned in COMP 432 with the specific project. Also, this project can help us reflect our academic knowledge better. \n",
    "</p>\n"
   ]
  },
  {
   "cell_type": "markdown",
   "metadata": {
    "id": "6VfnWNz8iIyn",
    "pycharm": {
     "name": "#%% md\n"
    }
   },
   "source": [
    "## Part 2 -- Data Preperation 🥑\n",
    "---\n",
    "\n",
    "### 2.1  Import Packages\n"
   ]
  },
  {
   "cell_type": "code",
   "execution_count": 70,
   "metadata": {
    "id": "AoTQn1hniIyn",
    "pycharm": {
     "name": "#%%\n"
    }
   },
   "outputs": [],
   "source": [
    "import pandas as pd\n",
    "import matplotlib.pyplot as plt\n",
    "import numpy as np\n",
    "import seaborn as sns\n",
    "#\n",
    "from sklearn.model_selection import train_test_split\n",
    "from sklearn.preprocessing import StandardScaler\n",
    "from matplotlib import pyplot\n",
    "from sklearn.model_selection import train_test_split\n",
    "from sklearn.model_selection import KFold\n",
    "from sklearn.model_selection import cross_val_score\n",
    "from sklearn.metrics import r2_score\n",
    "#\n",
    "from sklearn.metrics import classification_report\n",
    "from sklearn.metrics import confusion_matrix\n",
    "from sklearn.metrics import accuracy_score\n",
    "#\n",
    "from sklearn.linear_model import LogisticRegression\n",
    "from sklearn.tree import DecisionTreeClassifier\n",
    "from sklearn.neighbors import KNeighborsClassifier\n",
    "from sklearn.ensemble import RandomForestClassifier\n",
    "from sklearn.naive_bayes import GaussianNB\n",
    "from sklearn.svm import SVC\n",
    "#\n",
    "from sklearn.linear_model import Lasso\n",
    "from sklearn.linear_model import ElasticNet\n",
    "from sklearn.model_selection import GridSearchCV\n",
    "from sklearn.linear_model import LinearRegression\n",
    "from sklearn.tree import DecisionTreeRegressor\n",
    "from sklearn.neighbors import KNeighborsRegressor\n",
    "from sklearn.svm import SVR\n",
    "#\n",
    "from sklearn.ensemble import RandomForestRegressor\n",
    "from sklearn.ensemble import GradientBoostingRegressor\n",
    "from sklearn.ensemble import ExtraTreesRegressor\n",
    "from sklearn.ensemble import AdaBoostRegressor\n",
    "from sklearn.metrics import mean_squared_error\n",
    "from sklearn.pipeline import Pipeline\n",
    "from sklearn.linear_model import LogisticRegression\n",
    "from sklearn.tree import DecisionTreeClassifier\n",
    "from sklearn.neighbors import KNeighborsClassifier\n",
    "from sklearn.discriminant_analysis import LinearDiscriminantAnalysis\n",
    "from sklearn.naive_bayes import GaussianNB\n",
    "from sklearn.svm import SVC\n",
    "from sklearn.ensemble import AdaBoostClassifier\n",
    "from sklearn.ensemble import GradientBoostingClassifier\n",
    "from sklearn.ensemble import RandomForestClassifier\n",
    "from sklearn.ensemble import ExtraTreesClassifier\n",
    "import os\n",
    "import warnings\n",
    "import math\n",
    "warnings.filterwarnings(\"ignore\")"
   ]
  },
  {
   "cell_type": "markdown",
   "metadata": {
    "id": "GNzJ5KhoiIyn",
    "pycharm": {
     "name": "#%% md\n"
    }
   },
   "source": [
    "### 2.2 Import Data\n",
    "<hr/>"
   ]
  },
  {
   "cell_type": "markdown",
   "metadata": {
    "id": "3qgOzz9NmRIN"
   },
   "source": [
    "The raw data we got from Kaggle is in csv format(as shown), there are 14 columns (features) in total: \n",
    "\n",
    "\n",
    "1.   Titleless index : index starting from 0\n",
    "2.   Date: the date of the observation\n",
    "3. AveragePrice: the average price of a single avocado\n",
    "4. Total Volume: total volume of avocados sold\n",
    "5. 4046: total number of avocado with PLU number 4046 sold \n",
    "6. 4225: total number of avocado with PLU number 4225 sold \n",
    "7. 4770: total number of avocado with PLU number 4770 sold \n",
    "8. Total Bags: total # of bags sold in the date\n",
    "9. Small Bags / Large Bags / XLarge Bags: number of bags sold by the size of bag\n",
    "10. Type: whether the avocado data is conventional or organic\n",
    "11. Year: the data recorded year\n",
    "12. Region: the US state of the record\n",
    "\n"
   ]
  },
  {
   "cell_type": "code",
   "execution_count": 71,
   "metadata": {
    "colab": {
     "base_uri": "https://localhost:8080/",
     "height": 392
    },
    "id": "zDcaw4pqiIyo",
    "outputId": "acc0a1f3-269b-4c3d-c911-e520694b9dcf"
   },
   "outputs": [
    {
     "data": {
      "text/html": [
       "<div>\n",
       "<style scoped>\n",
       "    .dataframe tbody tr th:only-of-type {\n",
       "        vertical-align: middle;\n",
       "    }\n",
       "\n",
       "    .dataframe tbody tr th {\n",
       "        vertical-align: top;\n",
       "    }\n",
       "\n",
       "    .dataframe thead th {\n",
       "        text-align: right;\n",
       "    }\n",
       "</style>\n",
       "<table border=\"1\" class=\"dataframe\">\n",
       "  <thead>\n",
       "    <tr style=\"text-align: right;\">\n",
       "      <th></th>\n",
       "      <th>Unnamed: 0</th>\n",
       "      <th>Date</th>\n",
       "      <th>AveragePrice</th>\n",
       "      <th>Total Volume</th>\n",
       "      <th>4046</th>\n",
       "      <th>4225</th>\n",
       "      <th>4770</th>\n",
       "      <th>Total Bags</th>\n",
       "      <th>Small Bags</th>\n",
       "      <th>Large Bags</th>\n",
       "      <th>XLarge Bags</th>\n",
       "      <th>type</th>\n",
       "      <th>year</th>\n",
       "      <th>region</th>\n",
       "    </tr>\n",
       "  </thead>\n",
       "  <tbody>\n",
       "    <tr>\n",
       "      <th>0</th>\n",
       "      <td>0</td>\n",
       "      <td>2015-12-27</td>\n",
       "      <td>1.33</td>\n",
       "      <td>64236.62</td>\n",
       "      <td>1036.74</td>\n",
       "      <td>54454.85</td>\n",
       "      <td>48.16</td>\n",
       "      <td>8696.87</td>\n",
       "      <td>8603.62</td>\n",
       "      <td>93.25</td>\n",
       "      <td>0.0</td>\n",
       "      <td>conventional</td>\n",
       "      <td>2015</td>\n",
       "      <td>Albany</td>\n",
       "    </tr>\n",
       "    <tr>\n",
       "      <th>1</th>\n",
       "      <td>1</td>\n",
       "      <td>2015-12-20</td>\n",
       "      <td>1.35</td>\n",
       "      <td>54876.98</td>\n",
       "      <td>674.28</td>\n",
       "      <td>44638.81</td>\n",
       "      <td>58.33</td>\n",
       "      <td>9505.56</td>\n",
       "      <td>9408.07</td>\n",
       "      <td>97.49</td>\n",
       "      <td>0.0</td>\n",
       "      <td>conventional</td>\n",
       "      <td>2015</td>\n",
       "      <td>Albany</td>\n",
       "    </tr>\n",
       "    <tr>\n",
       "      <th>2</th>\n",
       "      <td>2</td>\n",
       "      <td>2015-12-13</td>\n",
       "      <td>0.93</td>\n",
       "      <td>118220.22</td>\n",
       "      <td>794.70</td>\n",
       "      <td>109149.67</td>\n",
       "      <td>130.50</td>\n",
       "      <td>8145.35</td>\n",
       "      <td>8042.21</td>\n",
       "      <td>103.14</td>\n",
       "      <td>0.0</td>\n",
       "      <td>conventional</td>\n",
       "      <td>2015</td>\n",
       "      <td>Albany</td>\n",
       "    </tr>\n",
       "    <tr>\n",
       "      <th>3</th>\n",
       "      <td>3</td>\n",
       "      <td>2015-12-06</td>\n",
       "      <td>1.08</td>\n",
       "      <td>78992.15</td>\n",
       "      <td>1132.00</td>\n",
       "      <td>71976.41</td>\n",
       "      <td>72.58</td>\n",
       "      <td>5811.16</td>\n",
       "      <td>5677.40</td>\n",
       "      <td>133.76</td>\n",
       "      <td>0.0</td>\n",
       "      <td>conventional</td>\n",
       "      <td>2015</td>\n",
       "      <td>Albany</td>\n",
       "    </tr>\n",
       "    <tr>\n",
       "      <th>4</th>\n",
       "      <td>4</td>\n",
       "      <td>2015-11-29</td>\n",
       "      <td>1.28</td>\n",
       "      <td>51039.60</td>\n",
       "      <td>941.48</td>\n",
       "      <td>43838.39</td>\n",
       "      <td>75.78</td>\n",
       "      <td>6183.95</td>\n",
       "      <td>5986.26</td>\n",
       "      <td>197.69</td>\n",
       "      <td>0.0</td>\n",
       "      <td>conventional</td>\n",
       "      <td>2015</td>\n",
       "      <td>Albany</td>\n",
       "    </tr>\n",
       "  </tbody>\n",
       "</table>\n",
       "</div>"
      ],
      "text/plain": [
       "   Unnamed: 0        Date  AveragePrice  Total Volume     4046       4225  \\\n",
       "0           0  2015-12-27          1.33      64236.62  1036.74   54454.85   \n",
       "1           1  2015-12-20          1.35      54876.98   674.28   44638.81   \n",
       "2           2  2015-12-13          0.93     118220.22   794.70  109149.67   \n",
       "3           3  2015-12-06          1.08      78992.15  1132.00   71976.41   \n",
       "4           4  2015-11-29          1.28      51039.60   941.48   43838.39   \n",
       "\n",
       "     4770  Total Bags  Small Bags  Large Bags  XLarge Bags          type  \\\n",
       "0   48.16     8696.87     8603.62       93.25          0.0  conventional   \n",
       "1   58.33     9505.56     9408.07       97.49          0.0  conventional   \n",
       "2  130.50     8145.35     8042.21      103.14          0.0  conventional   \n",
       "3   72.58     5811.16     5677.40      133.76          0.0  conventional   \n",
       "4   75.78     6183.95     5986.26      197.69          0.0  conventional   \n",
       "\n",
       "   year  region  \n",
       "0  2015  Albany  \n",
       "1  2015  Albany  \n",
       "2  2015  Albany  \n",
       "3  2015  Albany  \n",
       "4  2015  Albany  "
      ]
     },
     "execution_count": 71,
     "metadata": {},
     "output_type": "execute_result"
    }
   ],
   "source": [
    "data = pd.read_csv(\"avocado.csv\")\n",
    "data.head()\n"
   ]
  },
  {
   "cell_type": "markdown",
   "metadata": {
    "id": "AlMBatR7iIyo"
   },
   "source": [
    "### 2.3 General Features Analysis\n",
    "---\n",
    "\n"
   ]
  },
  {
   "cell_type": "code",
   "execution_count": 72,
   "metadata": {
    "id": "n8TurdigiIyo"
   },
   "outputs": [],
   "source": [
    "row, columns = data.shape"
   ]
  },
  {
   "cell_type": "markdown",
   "metadata": {
    "id": "2am1RW97iIyo"
   },
   "source": [
    "### 2.3.1 Data Properties\n",
    "---\n",
    "* We are going to analyze the dataset by these 14 features. Each feature's properties is as the data describe function shows here"
   ]
  },
  {
   "cell_type": "code",
   "execution_count": 73,
   "metadata": {
    "colab": {
     "base_uri": "https://localhost:8080/",
     "height": 390
    },
    "id": "EC204UFAiIyo",
    "outputId": "747f339c-5f53-4456-ee4f-2716126ac91d"
   },
   "outputs": [
    {
     "data": {
      "text/html": [
       "<div>\n",
       "<style scoped>\n",
       "    .dataframe tbody tr th:only-of-type {\n",
       "        vertical-align: middle;\n",
       "    }\n",
       "\n",
       "    .dataframe tbody tr th {\n",
       "        vertical-align: top;\n",
       "    }\n",
       "\n",
       "    .dataframe thead th {\n",
       "        text-align: right;\n",
       "    }\n",
       "</style>\n",
       "<table border=\"1\" class=\"dataframe\">\n",
       "  <thead>\n",
       "    <tr style=\"text-align: right;\">\n",
       "      <th></th>\n",
       "      <th>count</th>\n",
       "      <th>mean</th>\n",
       "      <th>std</th>\n",
       "      <th>min</th>\n",
       "      <th>25%</th>\n",
       "      <th>50%</th>\n",
       "      <th>75%</th>\n",
       "      <th>max</th>\n",
       "    </tr>\n",
       "  </thead>\n",
       "  <tbody>\n",
       "    <tr>\n",
       "      <th>Unnamed: 0</th>\n",
       "      <td>18249.0</td>\n",
       "      <td>24.232232</td>\n",
       "      <td>1.548104e+01</td>\n",
       "      <td>0.00</td>\n",
       "      <td>10.00</td>\n",
       "      <td>24.00</td>\n",
       "      <td>38.00</td>\n",
       "      <td>52.00</td>\n",
       "    </tr>\n",
       "    <tr>\n",
       "      <th>AveragePrice</th>\n",
       "      <td>18249.0</td>\n",
       "      <td>1.405978</td>\n",
       "      <td>4.026766e-01</td>\n",
       "      <td>0.44</td>\n",
       "      <td>1.10</td>\n",
       "      <td>1.37</td>\n",
       "      <td>1.66</td>\n",
       "      <td>3.25</td>\n",
       "    </tr>\n",
       "    <tr>\n",
       "      <th>Total Volume</th>\n",
       "      <td>18249.0</td>\n",
       "      <td>850644.013009</td>\n",
       "      <td>3.453545e+06</td>\n",
       "      <td>84.56</td>\n",
       "      <td>10838.58</td>\n",
       "      <td>107376.76</td>\n",
       "      <td>432962.29</td>\n",
       "      <td>62505646.52</td>\n",
       "    </tr>\n",
       "    <tr>\n",
       "      <th>4046</th>\n",
       "      <td>18249.0</td>\n",
       "      <td>293008.424531</td>\n",
       "      <td>1.264989e+06</td>\n",
       "      <td>0.00</td>\n",
       "      <td>854.07</td>\n",
       "      <td>8645.30</td>\n",
       "      <td>111020.20</td>\n",
       "      <td>22743616.17</td>\n",
       "    </tr>\n",
       "    <tr>\n",
       "      <th>4225</th>\n",
       "      <td>18249.0</td>\n",
       "      <td>295154.568356</td>\n",
       "      <td>1.204120e+06</td>\n",
       "      <td>0.00</td>\n",
       "      <td>3008.78</td>\n",
       "      <td>29061.02</td>\n",
       "      <td>150206.86</td>\n",
       "      <td>20470572.61</td>\n",
       "    </tr>\n",
       "    <tr>\n",
       "      <th>4770</th>\n",
       "      <td>18249.0</td>\n",
       "      <td>22839.735993</td>\n",
       "      <td>1.074641e+05</td>\n",
       "      <td>0.00</td>\n",
       "      <td>0.00</td>\n",
       "      <td>184.99</td>\n",
       "      <td>6243.42</td>\n",
       "      <td>2546439.11</td>\n",
       "    </tr>\n",
       "    <tr>\n",
       "      <th>Total Bags</th>\n",
       "      <td>18249.0</td>\n",
       "      <td>239639.202060</td>\n",
       "      <td>9.862424e+05</td>\n",
       "      <td>0.00</td>\n",
       "      <td>5088.64</td>\n",
       "      <td>39743.83</td>\n",
       "      <td>110783.37</td>\n",
       "      <td>19373134.37</td>\n",
       "    </tr>\n",
       "    <tr>\n",
       "      <th>Small Bags</th>\n",
       "      <td>18249.0</td>\n",
       "      <td>182194.686696</td>\n",
       "      <td>7.461785e+05</td>\n",
       "      <td>0.00</td>\n",
       "      <td>2849.42</td>\n",
       "      <td>26362.82</td>\n",
       "      <td>83337.67</td>\n",
       "      <td>13384586.80</td>\n",
       "    </tr>\n",
       "    <tr>\n",
       "      <th>Large Bags</th>\n",
       "      <td>18249.0</td>\n",
       "      <td>54338.088145</td>\n",
       "      <td>2.439660e+05</td>\n",
       "      <td>0.00</td>\n",
       "      <td>127.47</td>\n",
       "      <td>2647.71</td>\n",
       "      <td>22029.25</td>\n",
       "      <td>5719096.61</td>\n",
       "    </tr>\n",
       "    <tr>\n",
       "      <th>XLarge Bags</th>\n",
       "      <td>18249.0</td>\n",
       "      <td>3106.426507</td>\n",
       "      <td>1.769289e+04</td>\n",
       "      <td>0.00</td>\n",
       "      <td>0.00</td>\n",
       "      <td>0.00</td>\n",
       "      <td>132.50</td>\n",
       "      <td>551693.65</td>\n",
       "    </tr>\n",
       "    <tr>\n",
       "      <th>year</th>\n",
       "      <td>18249.0</td>\n",
       "      <td>2016.147899</td>\n",
       "      <td>9.399385e-01</td>\n",
       "      <td>2015.00</td>\n",
       "      <td>2015.00</td>\n",
       "      <td>2016.00</td>\n",
       "      <td>2017.00</td>\n",
       "      <td>2018.00</td>\n",
       "    </tr>\n",
       "  </tbody>\n",
       "</table>\n",
       "</div>"
      ],
      "text/plain": [
       "                count           mean           std      min       25%  \\\n",
       "Unnamed: 0    18249.0      24.232232  1.548104e+01     0.00     10.00   \n",
       "AveragePrice  18249.0       1.405978  4.026766e-01     0.44      1.10   \n",
       "Total Volume  18249.0  850644.013009  3.453545e+06    84.56  10838.58   \n",
       "4046          18249.0  293008.424531  1.264989e+06     0.00    854.07   \n",
       "4225          18249.0  295154.568356  1.204120e+06     0.00   3008.78   \n",
       "4770          18249.0   22839.735993  1.074641e+05     0.00      0.00   \n",
       "Total Bags    18249.0  239639.202060  9.862424e+05     0.00   5088.64   \n",
       "Small Bags    18249.0  182194.686696  7.461785e+05     0.00   2849.42   \n",
       "Large Bags    18249.0   54338.088145  2.439660e+05     0.00    127.47   \n",
       "XLarge Bags   18249.0    3106.426507  1.769289e+04     0.00      0.00   \n",
       "year          18249.0    2016.147899  9.399385e-01  2015.00   2015.00   \n",
       "\n",
       "                    50%        75%          max  \n",
       "Unnamed: 0        24.00      38.00        52.00  \n",
       "AveragePrice       1.37       1.66         3.25  \n",
       "Total Volume  107376.76  432962.29  62505646.52  \n",
       "4046            8645.30  111020.20  22743616.17  \n",
       "4225           29061.02  150206.86  20470572.61  \n",
       "4770             184.99    6243.42   2546439.11  \n",
       "Total Bags     39743.83  110783.37  19373134.37  \n",
       "Small Bags     26362.82   83337.67  13384586.80  \n",
       "Large Bags      2647.71   22029.25   5719096.61  \n",
       "XLarge Bags        0.00     132.50    551693.65  \n",
       "year            2016.00    2017.00      2018.00  "
      ]
     },
     "metadata": {},
     "output_type": "display_data"
    }
   ],
   "source": [
    "display(data.describe().T)"
   ]
  },
  {
   "cell_type": "markdown",
   "metadata": {
    "id": "2fUch1Q7iIyo"
   },
   "source": [
    "### 2.3.2 Missing Values\n",
    "---"
   ]
  },
  {
   "cell_type": "markdown",
   "metadata": {
    "id": "sP1UNfWpoIfI",
    "pycharm": {
     "name": "#%% md\n"
    }
   },
   "source": [
    "The data behaves well in missing values, it is well prepared for analysing.\n",
    "<p> As we see from the null result, this data is clean and perfect without any null values, so no intrepolation is needed</p>"
   ]
  },
  {
   "cell_type": "code",
   "execution_count": 74,
   "metadata": {
    "colab": {
     "base_uri": "https://localhost:8080/"
    },
    "id": "vxgO78SYiIyo",
    "outputId": "9f388cc8-9558-4c1b-8239-436caacc4e9a",
    "pycharm": {
     "name": "#%%\n"
    }
   },
   "outputs": [
    {
     "data": {
      "text/plain": [
       "Unnamed: 0      0\n",
       "Date            0\n",
       "AveragePrice    0\n",
       "Total Volume    0\n",
       "4046            0\n",
       "4225            0\n",
       "4770            0\n",
       "Total Bags      0\n",
       "Small Bags      0\n",
       "Large Bags      0\n",
       "XLarge Bags     0\n",
       "type            0\n",
       "year            0\n",
       "region          0\n",
       "dtype: int64"
      ]
     },
     "execution_count": 74,
     "metadata": {},
     "output_type": "execute_result"
    }
   ],
   "source": [
    "data.isnull().sum()\n"
   ]
  },
  {
   "cell_type": "markdown",
   "metadata": {
    "id": "N-wkAoPaiIyo"
   },
   "source": [
    "### 2.3.3 Data Visualization\n",
    "<hr/>\n",
    "\n",
    "#### **Organic VS Conventional Avocado**\n",
    "   *  9126 conventional avocado data points\n",
    "   *  9123 organic avocado data points\n",
    "\n",
    "#### **Average Price Analysis (All the Data)**\n",
    "\n",
    "As we can see from the following figure, the average price of organic avocados is higher than conventional avocados. For organics, the average price is more than 1.5 dollar. On comparison, the conventional avocado price is around 1.1 dollar."
   ]
  },
  {
   "cell_type": "code",
   "execution_count": 75,
   "metadata": {
    "colab": {
     "base_uri": "https://localhost:8080/",
     "height": 485
    },
    "id": "7igbWKh8iIyo",
    "outputId": "00857ef0-b544-4bcf-ece4-c4b0bd12fc6b"
   },
   "outputs": [
    {
     "data": {
      "text/plain": [
       "Text(0.5, 0, 'Average Price')"
      ]
     },
     "execution_count": 75,
     "metadata": {},
     "output_type": "execute_result"
    },
    {
     "data": {
      "image/png": "[encoded data removed]",
      "text/plain": [
       "<Figure size 720x504 with 1 Axes>"
      ]
     },
     "metadata": {
      "needs_background": "light"
     },
     "output_type": "display_data"
    }
   ],
   "source": [
    "f,ax = plt.subplots(figsize = (10,7))\n",
    "sns.boxplot(y=\"type\", x=\"AveragePrice\",data=data)\n",
    "plt.title(\"Compare Average Prices by Avocado type\",fontsize = 20,color='orange')\n",
    "plt.ylabel('Type of Avocado',fontsize = 15,color='orange')\n",
    "plt.xlabel('Average Price',fontsize = 15,color='orange')\n"
   ]
  },
  {
   "cell_type": "markdown",
   "metadata": {
    "id": "YaPJM0hyiIyo"
   },
   "source": [
    "\n",
    "\n",
    "#### **Average Price Analysis (Year specific)**\n",
    "\n",
    "Yearly speaking, we can see the average price stays stable over the years, however, the price variance in 2016 and 2017 is greater than 2015 and 2018"
   ]
  },
  {
   "cell_type": "code",
   "execution_count": 76,
   "metadata": {
    "colab": {
     "base_uri": "https://localhost:8080/"
    },
    "id": "0kra8pMviIyo",
    "outputId": "12772d84-13c9-430a-ad55-78c5909490bb"
   },
   "outputs": [
    {
     "data": {
      "text/plain": [
       "Text(0, 0.5, 'Average Price')"
      ]
     },
     "execution_count": 76,
     "metadata": {},
     "output_type": "execute_result"
    },
    {
     "data": {
      "image/png": "[encoded data removed]",
      "text/plain": [
       "<Figure size 720x504 with 1 Axes>"
      ]
     },
     "metadata": {
      "needs_background": "light"
     },
     "output_type": "display_data"
    }
   ],
   "source": [
    "f, ax = plt.subplots(figsize = (10,7))\n",
    "sns.boxplot(x=\"year\", y=\"AveragePrice\",hue=\"type\",data=data)\n",
    "plt.title(\"Compare Average Prices of Years & Observe Outliers\",fontsize = 20,color='orange')\n",
    "plt.xlabel('Years',fontsize = 15,color='orange')\n",
    "plt.ylabel('Average Price',fontsize = 15,color='orange')"
   ]
  },
  {
   "cell_type": "markdown",
   "metadata": {
    "id": "WISqTIRgiIyo"
   },
   "source": [
    "## 2.4 Feature Engineering\n",
    "\n",
    "In order to elevate the performance of our model, we need to preprocess the data.  So we splitted the date into year, month, and day. Also, we removed the region column, since our analysis is not related to the state difference.   \n"
   ]
  },
  {
   "cell_type": "code",
   "execution_count": 77,
   "metadata": {
    "colab": {
     "base_uri": "https://localhost:8080/",
     "height": 326
    },
    "id": "P_mxrXsqiIyo",
    "outputId": "5f9e3ec9-7783-47ba-dcdc-b87867554636"
   },
   "outputs": [
    {
     "data": {
      "text/html": [
       "<div>\n",
       "<style scoped>\n",
       "    .dataframe tbody tr th:only-of-type {\n",
       "        vertical-align: middle;\n",
       "    }\n",
       "\n",
       "    .dataframe tbody tr th {\n",
       "        vertical-align: top;\n",
       "    }\n",
       "\n",
       "    .dataframe thead th {\n",
       "        text-align: right;\n",
       "    }\n",
       "</style>\n",
       "<table border=\"1\" class=\"dataframe\">\n",
       "  <thead>\n",
       "    <tr style=\"text-align: right;\">\n",
       "      <th></th>\n",
       "      <th>Unnamed: 0</th>\n",
       "      <th>Date</th>\n",
       "      <th>AveragePrice</th>\n",
       "      <th>Total Volume</th>\n",
       "      <th>4046</th>\n",
       "      <th>4225</th>\n",
       "      <th>4770</th>\n",
       "      <th>Total Bags</th>\n",
       "      <th>Small Bags</th>\n",
       "      <th>Large Bags</th>\n",
       "      <th>XLarge Bags</th>\n",
       "      <th>type</th>\n",
       "      <th>year</th>\n",
       "      <th>region</th>\n",
       "    </tr>\n",
       "  </thead>\n",
       "  <tbody>\n",
       "    <tr>\n",
       "      <th>0</th>\n",
       "      <td>0</td>\n",
       "      <td>2015-12-27</td>\n",
       "      <td>1.33</td>\n",
       "      <td>64236.62</td>\n",
       "      <td>1036.74</td>\n",
       "      <td>54454.85</td>\n",
       "      <td>48.16</td>\n",
       "      <td>8696.87</td>\n",
       "      <td>8603.62</td>\n",
       "      <td>93.25</td>\n",
       "      <td>0.0</td>\n",
       "      <td>conventional</td>\n",
       "      <td>2015</td>\n",
       "      <td>Albany</td>\n",
       "    </tr>\n",
       "    <tr>\n",
       "      <th>1</th>\n",
       "      <td>1</td>\n",
       "      <td>2015-12-20</td>\n",
       "      <td>1.35</td>\n",
       "      <td>54876.98</td>\n",
       "      <td>674.28</td>\n",
       "      <td>44638.81</td>\n",
       "      <td>58.33</td>\n",
       "      <td>9505.56</td>\n",
       "      <td>9408.07</td>\n",
       "      <td>97.49</td>\n",
       "      <td>0.0</td>\n",
       "      <td>conventional</td>\n",
       "      <td>2015</td>\n",
       "      <td>Albany</td>\n",
       "    </tr>\n",
       "    <tr>\n",
       "      <th>2</th>\n",
       "      <td>2</td>\n",
       "      <td>2015-12-13</td>\n",
       "      <td>0.93</td>\n",
       "      <td>118220.22</td>\n",
       "      <td>794.70</td>\n",
       "      <td>109149.67</td>\n",
       "      <td>130.50</td>\n",
       "      <td>8145.35</td>\n",
       "      <td>8042.21</td>\n",
       "      <td>103.14</td>\n",
       "      <td>0.0</td>\n",
       "      <td>conventional</td>\n",
       "      <td>2015</td>\n",
       "      <td>Albany</td>\n",
       "    </tr>\n",
       "    <tr>\n",
       "      <th>3</th>\n",
       "      <td>3</td>\n",
       "      <td>2015-12-06</td>\n",
       "      <td>1.08</td>\n",
       "      <td>78992.15</td>\n",
       "      <td>1132.00</td>\n",
       "      <td>71976.41</td>\n",
       "      <td>72.58</td>\n",
       "      <td>5811.16</td>\n",
       "      <td>5677.40</td>\n",
       "      <td>133.76</td>\n",
       "      <td>0.0</td>\n",
       "      <td>conventional</td>\n",
       "      <td>2015</td>\n",
       "      <td>Albany</td>\n",
       "    </tr>\n",
       "    <tr>\n",
       "      <th>4</th>\n",
       "      <td>4</td>\n",
       "      <td>2015-11-29</td>\n",
       "      <td>1.28</td>\n",
       "      <td>51039.60</td>\n",
       "      <td>941.48</td>\n",
       "      <td>43838.39</td>\n",
       "      <td>75.78</td>\n",
       "      <td>6183.95</td>\n",
       "      <td>5986.26</td>\n",
       "      <td>197.69</td>\n",
       "      <td>0.0</td>\n",
       "      <td>conventional</td>\n",
       "      <td>2015</td>\n",
       "      <td>Albany</td>\n",
       "    </tr>\n",
       "  </tbody>\n",
       "</table>\n",
       "</div>"
      ],
      "text/plain": [
       "   Unnamed: 0        Date  AveragePrice  Total Volume     4046       4225  \\\n",
       "0           0  2015-12-27          1.33      64236.62  1036.74   54454.85   \n",
       "1           1  2015-12-20          1.35      54876.98   674.28   44638.81   \n",
       "2           2  2015-12-13          0.93     118220.22   794.70  109149.67   \n",
       "3           3  2015-12-06          1.08      78992.15  1132.00   71976.41   \n",
       "4           4  2015-11-29          1.28      51039.60   941.48   43838.39   \n",
       "\n",
       "     4770  Total Bags  Small Bags  Large Bags  XLarge Bags          type  \\\n",
       "0   48.16     8696.87     8603.62       93.25          0.0  conventional   \n",
       "1   58.33     9505.56     9408.07       97.49          0.0  conventional   \n",
       "2  130.50     8145.35     8042.21      103.14          0.0  conventional   \n",
       "3   72.58     5811.16     5677.40      133.76          0.0  conventional   \n",
       "4   75.78     6183.95     5986.26      197.69          0.0  conventional   \n",
       "\n",
       "   year  region  \n",
       "0  2015  Albany  \n",
       "1  2015  Albany  \n",
       "2  2015  Albany  \n",
       "3  2015  Albany  \n",
       "4  2015  Albany  "
      ]
     },
     "execution_count": 77,
     "metadata": {},
     "output_type": "execute_result"
    }
   ],
   "source": [
    "data.head()"
   ]
  },
  {
   "cell_type": "markdown",
   "metadata": {
    "id": "h7CfvD9PiIyo"
   },
   "source": [
    "### 2.4.1a Split Date -> Year - Month - Day"
   ]
  },
  {
   "cell_type": "code",
   "execution_count": 78,
   "metadata": {
    "id": "8_Q9OARtiIyo"
   },
   "outputs": [],
   "source": [
    "# split date: day,month,year\n",
    "list_temp = []\n",
    "for date in data.Date:\n",
    "    list_temp.append(date.split(\"-\"))\n",
    "\n",
    "# month and day adding to lists\n",
    "month = []\n",
    "day = []\n",
    "for i in range(len(list_temp)):\n",
    "    month.append(list_temp[i][1])\n",
    "    day.append(list_temp[i][2])\n",
    "\n",
    "# adding to dataset\n",
    "data[\"month\"] = month\n",
    "data[\"day\"] = day\n",
    "\n",
    "# delete old date column\n",
    "data.drop([\"Date\"],axis=1,inplace=True)\n",
    "\n",
    "#convert objects to int\n",
    "data.month = data.month.values.astype(int)\n",
    "data.day = data.day.values.astype(int)\n"
   ]
  },
  {
   "cell_type": "markdown",
   "metadata": {},
   "source": [
    "### 2.4.1b Add Feature Price/Volume"
   ]
  },
  {
   "cell_type": "code",
   "execution_count": 79,
   "metadata": {},
   "outputs": [],
   "source": [
    "\n",
    "# Some advice features added, from TA's suggestion.\n",
    "# PriceVolume\n",
    "price_list=[]\n",
    "volume_list=[]\n",
    "price_volume_list=[]\n",
    "\n",
    "# get list from data\n",
    "for price in data['AveragePrice']:\n",
    "    price_list.append(price)\n",
    "for volume in data['Total Volume']:\n",
    "    volume_list.append(volume)\n",
    "    \n",
    "# log(AvgPrice * TotalVolume)\n",
    "for i in range(len(price_list)):\n",
    "    price_volume_list.append(math.log(price_list[i]/volume_list[i]))\n",
    "# adding to dataset\n",
    "data['PriceTimesVolume'] = price_volume_list"
   ]
  },
  {
   "cell_type": "markdown",
   "metadata": {
    "id": "k38onLdxiIyo"
   },
   "source": [
    "### 2.4.2 remove redundant features\n"
   ]
  },
  {
   "cell_type": "code",
   "execution_count": 80,
   "metadata": {
    "colab": {
     "base_uri": "https://localhost:8080/"
    },
    "id": "Z_x_VlJoiIyo",
    "outputId": "a06a5b5b-ae06-4844-eadd-ab2061bce4ad"
   },
   "outputs": [
    {
     "data": {
      "text/html": [
       "<div>\n",
       "<style scoped>\n",
       "    .dataframe tbody tr th:only-of-type {\n",
       "        vertical-align: middle;\n",
       "    }\n",
       "\n",
       "    .dataframe tbody tr th {\n",
       "        vertical-align: top;\n",
       "    }\n",
       "\n",
       "    .dataframe thead th {\n",
       "        text-align: right;\n",
       "    }\n",
       "</style>\n",
       "<table border=\"1\" class=\"dataframe\">\n",
       "  <thead>\n",
       "    <tr style=\"text-align: right;\">\n",
       "      <th></th>\n",
       "      <th>AveragePrice</th>\n",
       "      <th>Total Volume</th>\n",
       "      <th>4046</th>\n",
       "      <th>4225</th>\n",
       "      <th>4770</th>\n",
       "      <th>Total Bags</th>\n",
       "      <th>Small Bags</th>\n",
       "      <th>Large Bags</th>\n",
       "      <th>XLarge Bags</th>\n",
       "      <th>type</th>\n",
       "      <th>year</th>\n",
       "      <th>month</th>\n",
       "      <th>day</th>\n",
       "      <th>PriceTimesVolume</th>\n",
       "    </tr>\n",
       "  </thead>\n",
       "  <tbody>\n",
       "    <tr>\n",
       "      <th>0</th>\n",
       "      <td>1.33</td>\n",
       "      <td>64236.62</td>\n",
       "      <td>1036.74</td>\n",
       "      <td>54454.85</td>\n",
       "      <td>48.16</td>\n",
       "      <td>8696.87</td>\n",
       "      <td>8603.62</td>\n",
       "      <td>93.25</td>\n",
       "      <td>0.0</td>\n",
       "      <td>0</td>\n",
       "      <td>2015</td>\n",
       "      <td>12</td>\n",
       "      <td>27</td>\n",
       "      <td>-10.785150</td>\n",
       "    </tr>\n",
       "    <tr>\n",
       "      <th>1</th>\n",
       "      <td>1.35</td>\n",
       "      <td>54876.98</td>\n",
       "      <td>674.28</td>\n",
       "      <td>44638.81</td>\n",
       "      <td>58.33</td>\n",
       "      <td>9505.56</td>\n",
       "      <td>9408.07</td>\n",
       "      <td>97.49</td>\n",
       "      <td>0.0</td>\n",
       "      <td>0</td>\n",
       "      <td>2015</td>\n",
       "      <td>12</td>\n",
       "      <td>20</td>\n",
       "      <td>-10.612745</td>\n",
       "    </tr>\n",
       "    <tr>\n",
       "      <th>2</th>\n",
       "      <td>0.93</td>\n",
       "      <td>118220.22</td>\n",
       "      <td>794.70</td>\n",
       "      <td>109149.67</td>\n",
       "      <td>130.50</td>\n",
       "      <td>8145.35</td>\n",
       "      <td>8042.21</td>\n",
       "      <td>103.14</td>\n",
       "      <td>0.0</td>\n",
       "      <td>0</td>\n",
       "      <td>2015</td>\n",
       "      <td>12</td>\n",
       "      <td>13</td>\n",
       "      <td>-11.752875</td>\n",
       "    </tr>\n",
       "    <tr>\n",
       "      <th>3</th>\n",
       "      <td>1.08</td>\n",
       "      <td>78992.15</td>\n",
       "      <td>1132.00</td>\n",
       "      <td>71976.41</td>\n",
       "      <td>72.58</td>\n",
       "      <td>5811.16</td>\n",
       "      <td>5677.40</td>\n",
       "      <td>133.76</td>\n",
       "      <td>0.0</td>\n",
       "      <td>0</td>\n",
       "      <td>2015</td>\n",
       "      <td>12</td>\n",
       "      <td>6</td>\n",
       "      <td>-11.200143</td>\n",
       "    </tr>\n",
       "    <tr>\n",
       "      <th>4</th>\n",
       "      <td>1.28</td>\n",
       "      <td>51039.60</td>\n",
       "      <td>941.48</td>\n",
       "      <td>43838.39</td>\n",
       "      <td>75.78</td>\n",
       "      <td>6183.95</td>\n",
       "      <td>5986.26</td>\n",
       "      <td>197.69</td>\n",
       "      <td>0.0</td>\n",
       "      <td>0</td>\n",
       "      <td>2015</td>\n",
       "      <td>11</td>\n",
       "      <td>29</td>\n",
       "      <td>-10.593497</td>\n",
       "    </tr>\n",
       "  </tbody>\n",
       "</table>\n",
       "</div>"
      ],
      "text/plain": [
       "   AveragePrice  Total Volume     4046       4225    4770  Total Bags  \\\n",
       "0          1.33      64236.62  1036.74   54454.85   48.16     8696.87   \n",
       "1          1.35      54876.98   674.28   44638.81   58.33     9505.56   \n",
       "2          0.93     118220.22   794.70  109149.67  130.50     8145.35   \n",
       "3          1.08      78992.15  1132.00   71976.41   72.58     5811.16   \n",
       "4          1.28      51039.60   941.48   43838.39   75.78     6183.95   \n",
       "\n",
       "   Small Bags  Large Bags  XLarge Bags  type  year  month  day  \\\n",
       "0     8603.62       93.25          0.0     0  2015     12   27   \n",
       "1     9408.07       97.49          0.0     0  2015     12   20   \n",
       "2     8042.21      103.14          0.0     0  2015     12   13   \n",
       "3     5677.40      133.76          0.0     0  2015     12    6   \n",
       "4     5986.26      197.69          0.0     0  2015     11   29   \n",
       "\n",
       "   PriceTimesVolume  \n",
       "0        -10.785150  \n",
       "1        -10.612745  \n",
       "2        -11.752875  \n",
       "3        -11.200143  \n",
       "4        -10.593497  "
      ]
     },
     "execution_count": 80,
     "metadata": {},
     "output_type": "execute_result"
    }
   ],
   "source": [
    "data1 = data\n",
    "data1.drop([\"Unnamed: 0\",\"region\"],axis=1,inplace=True)\n",
    "data1[\"type\"] = pd.get_dummies(data.type,drop_first=True)\n",
    "\n",
    "data.head()"
   ]
  },
  {
   "cell_type": "markdown",
   "metadata": {
    "id": "agAQtlRjiIyp"
   },
   "source": [
    "## **Part 3 -- Classification Modeling 🥑**\n",
    "<hr>\n",
    "\n",
    "Yeah, that's true! We can predict whether your avocado is Organic or not!\n",
    "\n",
    "The main topic of our classification modeling is “given the features, try to determine whether the avocado is Organic or Not. According to what we learn in this class, we will first use classic models(the best one from Logistic Regression, K neighbours, SVM, Gaussian Naive Bayes and Decision Tree models) to do the classification, then we will try to fit the data with Ensemble Models (the best performance of Adaboost, Gradient Boost, RandomForest and Extra Tree model )\n",
    "\n",
    "### **3.1 Data Preperation**\n",
    "---\n",
    "Here we need to prepare the data for our classification model training.\n",
    "\n",
    "Our todo list:\n",
    "\n",
    "1.   Split type from the raw data, create a pointer y to it. \n",
    "2.   Drop the type feature from data, and make it X\n",
    "3.  Standarlization, scaling the data into interim [-1,1] by `StandardScaler.fit_transform`\n",
    "4. split the data into train set and test set by `train_test_split`, here we keep 80% data for training, and the left 20% for testing\n",
    "\n",
    "\n",
    "\n"
   ]
  },
  {
   "cell_type": "code",
   "execution_count": 81,
   "metadata": {
    "colab": {
     "base_uri": "https://localhost:8080/",
     "height": 204
    },
    "id": "aPK1-BeFiIyp",
    "outputId": "84cfcbfd-45d2-4824-8c89-82cfa2f64660"
   },
   "outputs": [
    {
     "data": {
      "text/html": [
       "<div>\n",
       "<style scoped>\n",
       "    .dataframe tbody tr th:only-of-type {\n",
       "        vertical-align: middle;\n",
       "    }\n",
       "\n",
       "    .dataframe tbody tr th {\n",
       "        vertical-align: top;\n",
       "    }\n",
       "\n",
       "    .dataframe thead th {\n",
       "        text-align: right;\n",
       "    }\n",
       "</style>\n",
       "<table border=\"1\" class=\"dataframe\">\n",
       "  <thead>\n",
       "    <tr style=\"text-align: right;\">\n",
       "      <th></th>\n",
       "      <th>type</th>\n",
       "    </tr>\n",
       "  </thead>\n",
       "  <tbody>\n",
       "    <tr>\n",
       "      <th>2258</th>\n",
       "      <td>0</td>\n",
       "    </tr>\n",
       "    <tr>\n",
       "      <th>11669</th>\n",
       "      <td>1</td>\n",
       "    </tr>\n",
       "    <tr>\n",
       "      <th>14336</th>\n",
       "      <td>1</td>\n",
       "    </tr>\n",
       "    <tr>\n",
       "      <th>8514</th>\n",
       "      <td>0</td>\n",
       "    </tr>\n",
       "    <tr>\n",
       "      <th>8545</th>\n",
       "      <td>0</td>\n",
       "    </tr>\n",
       "  </tbody>\n",
       "</table>\n",
       "</div>"
      ],
      "text/plain": [
       "       type\n",
       "2258      0\n",
       "11669     1\n",
       "14336     1\n",
       "8514      0\n",
       "8545      0"
      ]
     },
     "execution_count": 81,
     "metadata": {},
     "output_type": "execute_result"
    }
   ],
   "source": [
    "# Y, aka target, is the type of avocado\n",
    "data[\"type\"]\n",
    "y = data[[\"type\"]][:]\n",
    "\n",
    "# x, all the features.\n",
    "x = data.drop([\"type\"], axis=1, inplace=True)\n",
    "x = data.iloc[:, :]\n",
    "# # Scale the data to [-1, 1]\n",
    "standard_scaler = StandardScaler()\n",
    "x = standard_scaler.fit_transform(x)\n",
    "\n",
    "# # Split the data into Train and Test sets\n",
    "# #  20% testing, 80% training\n",
    "x_train, x_test, y_train, y_test = train_test_split(x, y, test_size=0.2, random_state=3)\n",
    "\n",
    "\n",
    "y_test.head()\n"
   ]
  },
  {
   "cell_type": "markdown",
   "metadata": {
    "id": "ipVztdDaiIyp"
   },
   "source": [
    "### **3.2 Classic Classification Modeling**\n",
    "---\n",
    "\n",
    "First, let's use the classic models for organic avocado prediction\n",
    "\n",
    "We are planning to do the cross validation with 10 fold of the data by  following models, then we pick the one with best performance for further tuning.  \n",
    "\n",
    "1.   Logistic Regression `sklearn.linear_model.LogisticRegression`\n",
    "2.   K Neighbors `sklearn.neighbors.KNeighborsClassifier`\n",
    "3. Support Vector Machine Classifier ``\n",
    "4. Gaussian Naive Bayes Classifier `sklearn.naive_bayes.GaussianNB`\n",
    "5. Decision Tree Classifier `sklearn.tree.DecisionTreeClassifier`\n",
    "\n",
    "\n",
    "\n"
   ]
  },
  {
   "cell_type": "code",
   "execution_count": 82,
   "metadata": {
    "id": "OdF6w_RoiIyp"
   },
   "outputs": [],
   "source": [
    "models = []\n",
    "models.append(('Logistic Regression', LogisticRegression()))\n",
    "models.append(('K neighbours',KNeighborsClassifier()))\n",
    "models.append(('SVM', SVC()))\n",
    "models.append(('Gaussian NB', GaussianNB()))\n",
    "models.append(('Decision Tree Classifier', DecisionTreeClassifier()))"
   ]
  },
  {
   "cell_type": "code",
   "execution_count": 83,
   "metadata": {
    "colab": {
     "base_uri": "https://localhost:8080/"
    },
    "id": "NKVEzdWViIyp",
    "outputId": "ad19c3bc-c751-46e4-c2ec-019912be921a"
   },
   "outputs": [
    {
     "name": "stdout",
     "output_type": "stream",
     "text": [
      "Model Name:Logistic Regression Model Acc:0.946 Model Std:0.006\n",
      "Model Name:K neighbours Model Acc:0.946 Model Std:0.005\n",
      "Model Name:SVM Model Acc:0.953 Model Std:0.005\n",
      "Model Name:Gaussian NB Model Acc:0.871 Model Std:0.007\n",
      "Model Name:Decision Tree Classifier Model Acc:0.984 Model Std:0.004\n"
     ]
    }
   ],
   "source": [
    "# evaluate models using cross validation score:\n",
    "results = []\n",
    "names = []\n",
    "for name, model in models:\n",
    "    kfold = KFold(n_splits=10, random_state=42)\n",
    "    cv_results = cross_val_score(model, x_train, y_train, cv=kfold, scoring='accuracy')\n",
    "    results.append(cv_results)\n",
    "    names.append(name)\n",
    "    print(\"Model Name:{} Model Acc:{:.3f} Model Std:{:.3f}\".format(name, cv_results.mean(), cv_results.std()))"
   ]
  },
  {
   "cell_type": "markdown",
   "metadata": {
    "id": "fh0k3nPvwbKs"
   },
   "source": [
    "We can find from the process, in all the classic models, Decision Tree behaves the best.\n",
    "And in DT, we use entropy as the criteria can make the DT behave the best, the score --> 0.98"
   ]
  },
  {
   "cell_type": "markdown",
   "metadata": {
    "id": "cJ8x65EZiIyp",
    "pycharm": {
     "name": "#%% md\n"
    }
   },
   "source": [
    "* **Decision Tree Parameter Refining**\n",
    "\n",
    "As we can see from the 10-fold cross validation, the Decision Tree Model scores the most, so we continue refining the DT classifier:\n",
    "\n",
    "We use grid search, let sklearn help us to search the best Hyperparameters "
   ]
  },
  {
   "cell_type": "code",
   "execution_count": 84,
   "metadata": {
    "colab": {
     "base_uri": "https://localhost:8080/"
    },
    "id": "z2RLGH3giIyp",
    "outputId": "801eb9e5-13f1-48a4-f71d-18dc5c28d279",
    "pycharm": {
     "name": "#%%\n"
    }
   },
   "outputs": [
    {
     "name": "stdout",
     "output_type": "stream",
     "text": [
      "best parameters: {'criterion': 'entropy'}\n",
      "best score: 0.98465654839588\n"
     ]
    }
   ],
   "source": [
    "criterion = [\"gini\",\"entropy\"]\n",
    "param_grid = dict(criterion=criterion)\n",
    "dtc = DecisionTreeClassifier()\n",
    "grid_search = GridSearchCV(estimator=dtc, param_grid=param_grid, scoring=\"accuracy\", cv=10).fit(x_train, y_train)\n",
    "best_score = grid_search.best_score_\n",
    "best_parameters = grid_search.best_params_\n",
    "print(\"best parameters:\", best_parameters)\n",
    "print(\"best score:\", best_score)\n"
   ]
  },
  {
   "cell_type": "markdown",
   "metadata": {
    "id": "J4gwtR3oiIyp",
    "pycharm": {
     "name": "#%% md\n"
    }
   },
   "source": [
    "\n",
    "\n",
    "So we build a DT model with entropy to do the prediction.\n",
    "* 0.9863 by gini\n",
    "* 0.9882 by entropy\n",
    "\n",
    "Basically, gini and entropy behaves the same, here we choose **entropy** as the critera\n"
   ]
  },
  {
   "cell_type": "code",
   "execution_count": 85,
   "metadata": {
    "colab": {
     "base_uri": "https://localhost:8080/"
    },
    "id": "5qZfb6S4iIyp",
    "outputId": "de929ace-5f01-4238-9883-8215496c2aec",
    "pycharm": {
     "name": "#%%\n"
    }
   },
   "outputs": [
    {
     "name": "stdout",
     "output_type": "stream",
     "text": [
      "prediction     0     1\n",
      "actual                \n",
      "0           1798    21\n",
      "1             22  1809\n",
      "0.9882191780821917\n"
     ]
    }
   ],
   "source": [
    "dt = DecisionTreeClassifier(criterion='entropy').fit(x_train, y_train)\n",
    "y_prediction = dt.predict(x_test)\n",
    "\n",
    "from sklearn import metrics\n",
    "dtc_confusion_matrix = confusion_matrix(y_test, y_prediction)\n",
    "type(y_test)\n",
    "dtc_cross = pd.crosstab(y_test[\"type\"], y_prediction, rownames=['actual'], colnames=['prediction'])\n",
    "dtc_acc = metrics.accuracy_score(y_test, y_prediction)\n",
    "print(dtc_cross)\n",
    "print(dtc_acc)"
   ]
  },
  {
   "cell_type": "markdown",
   "metadata": {
    "id": "a3Kuu7giiIyp",
    "pycharm": {
     "name": "#%% md\n"
    }
   },
   "source": [
    "* So, we can train a model by entropy, and now we see the result."
   ]
  },
  {
   "cell_type": "code",
   "execution_count": 86,
   "metadata": {
    "colab": {
     "base_uri": "https://localhost:8080/"
    },
    "id": "HRNuwDBFiIyp",
    "outputId": "46123b8f-351e-46c5-fc94-08e37fe00d94",
    "pycharm": {
     "name": "#%%\n"
    }
   },
   "outputs": [
    {
     "name": "stdout",
     "output_type": "stream",
     "text": [
      "              precision    recall  f1-score   support\n",
      "\n",
      "           0       0.99      0.99      0.99      1819\n",
      "           1       0.99      0.99      0.99      1831\n",
      "\n",
      "    accuracy                           0.99      3650\n",
      "   macro avg       0.99      0.99      0.99      3650\n",
      "weighted avg       0.99      0.99      0.99      3650\n",
      "\n"
     ]
    }
   ],
   "source": [
    "from sklearn.metrics import classification_report \n",
    "report = classification_report(y_test, y_prediction) \n",
    "print(report)"
   ]
  },
  {
   "cell_type": "markdown",
   "metadata": {
    "id": "0OrdjbF7iIyp",
    "pycharm": {
     "name": "#%% md\n"
    }
   },
   "source": [
    "## **3.3 Ensemble Models**\n",
    "---\n",
    "After we tried the classic models, now we can apply ensemble models (AdaBoost, GradientBoosting, RandomForest, ExtraTrees) to the data."
   ]
  },
  {
   "cell_type": "code",
   "execution_count": 87,
   "metadata": {
    "id": "f_kWlz23iIyp"
   },
   "outputs": [],
   "source": [
    "ensembles = []\n",
    "ensembles.append(('Adaboost', AdaBoostClassifier()))\n",
    "ensembles.append(('GradientBoost', GradientBoostingClassifier()))\n",
    "ensembles.append(('RandomForest', RandomForestClassifier()))\n",
    "ensembles.append(('ExtraTrees', ExtraTreesClassifier()))"
   ]
  },
  {
   "cell_type": "code",
   "execution_count": 88,
   "metadata": {
    "colab": {
     "base_uri": "https://localhost:8080/"
    },
    "id": "DUmAEJyGiIyp",
    "outputId": "9f1a88dc-291c-4de0-a2c2-ef8a35e7c61e",
    "pycharm": {
     "name": "#%%\n"
    }
   },
   "outputs": [
    {
     "name": "stdout",
     "output_type": "stream",
     "text": [
      "Model Name:Adaboost Model Acc:0.981 Model Std:0.003\n",
      "Model Name:GradientBoost Model Acc:0.989 Model Std:0.003\n",
      "Model Name:RandomForest Model Acc:0.994 Model Std:0.002\n",
      "Model Name:ExtraTrees Model Acc:0.995 Model Std:0.002\n"
     ]
    }
   ],
   "source": [
    "# bombard models to the data by using cross validation score:\n",
    "results_ensemble = []\n",
    "names_ensemble = []\n",
    "for name, model in ensembles:\n",
    "    kfold = KFold(n_splits=10, random_state=42)\n",
    "    cv_results = cross_val_score(model, x_train, y_train, cv=kfold, scoring='accuracy')\n",
    "    results_ensemble.append(cv_results)\n",
    "    names_ensemble.append(name)\n",
    "    print(\"Model Name:{} Model Acc:{:.3f} Model Std:{:.3f}\".format(name, cv_results.mean(), cv_results.std()))\n"
   ]
  },
  {
   "cell_type": "markdown",
   "metadata": {
    "id": "RZYq-DdziIyp",
    "pycharm": {
     "name": "#%% md\n"
    }
   },
   "source": [
    "<strong> As we can see from the cross validation score, extra tree classifier behaves the best.--- 0.997 </strong>\n",
    "So we now tuning the ETC\n",
    "\n",
    "* **Extra Decision Tree Classifier Refining**\n",
    "\n",
    "We can use Grid Search, to get the best Hyperparameter group of the Extra Tree classifier"
   ]
  },
  {
   "cell_type": "code",
   "execution_count": 89,
   "metadata": {
    "id": "9nd9Kie0iIyp"
   },
   "outputs": [],
   "source": [
    "# Tuning Extra Trees Classification Model\n",
    "estimators = [75,90,100,115,130] \n",
    "criterions = [\"gini\",\"entropy\"]\n",
    "param_grid = dict(n_estimators=estimators,criterion=criterions) "
   ]
  },
  {
   "cell_type": "code",
   "execution_count": 90,
   "metadata": {
    "colab": {
     "base_uri": "https://localhost:8080/"
    },
    "id": "-xQ_rkjJiIyp",
    "outputId": "920993d4-ddd7-4ab7-8d53-f62f5c04e86e",
    "pycharm": {
     "name": "#%%\n"
    }
   },
   "outputs": [
    {
     "name": "stdout",
     "output_type": "stream",
     "text": [
      "Best Score: 0.9958901292872768\n",
      "Best Parameters: {'criterion': 'gini', 'n_estimators': 75}\n"
     ]
    }
   ],
   "source": [
    "etc = ExtraTreesClassifier()\n",
    "gs = GridSearchCV(estimator=etc,param_grid=param_grid,scoring=\"accuracy\", cv=10)\n",
    "grid_search = gs.fit(x_train,y_train)\n",
    "best_score = grid_search.best_score_\n",
    "best_parameters = grid_search.best_params_\n",
    "print(\"Best Score:\",best_score)\n",
    "print(\"Best Parameters:\",best_parameters)"
   ]
  },
  {
   "cell_type": "markdown",
   "metadata": {
    "id": "C1Cq_3tuiIyp",
    "pycharm": {
     "name": "#%% md\n"
    }
   },
   "source": [
    "* As we can see from the result, we can build an <strong>Extra Tree Classifier</strong> with <strong>entropy</strong> criteria, and <strong>n_estomators = 115</strong>."
   ]
  },
  {
   "cell_type": "code",
   "execution_count": 91,
   "metadata": {
    "id": "VZFkwNFkiIyp"
   },
   "outputs": [],
   "source": [
    "# Time to use ETC for dataset:\n",
    "etc = ExtraTreesClassifier(n_estimators=115,criterion=\"entropy\")\n",
    "etc.fit(x_train,y_train)\n",
    "y_prediction = etc.predict(x_test)"
   ]
  },
  {
   "cell_type": "code",
   "execution_count": 92,
   "metadata": {
    "colab": {
     "base_uri": "https://localhost:8080/"
    },
    "id": "TUcA-ltFiIyp",
    "outputId": "106648fc-d3a7-4b3c-af4a-4a63af47ce39",
    "pycharm": {
     "name": "#%%\n"
    }
   },
   "outputs": [
    {
     "name": "stdout",
     "output_type": "stream",
     "text": [
      "Predicted Values     0     1\n",
      "Actual Values               \n",
      "0                 1813     6\n",
      "1                    9  1822\n",
      "0.9958904109589041\n"
     ]
    }
   ],
   "source": [
    "#confussion matrix: \n",
    "from sklearn import metrics\n",
    "etc_cm = confusion_matrix(y_test,y_prediction)\n",
    "etc_cross = pd.crosstab(y_test[\"type\"], y_prediction,rownames=['Actual Values'], colnames=['Predicted Values'])\n",
    "etc_acc = metrics.accuracy_score(y_test, y_prediction)\n",
    "print(etc_cross)\n",
    "print(etc_acc)"
   ]
  },
  {
   "cell_type": "markdown",
   "metadata": {
    "id": "VYR5JybaiIyp",
    "pycharm": {
     "name": "#%% md\n"
    }
   },
   "source": [
    "As we can see from the result of ensemble models, the accuracy score is 0.997, in comparison with the classic modles accuracy score: 0.988, it works better."
   ]
  },
  {
   "cell_type": "code",
   "execution_count": 93,
   "metadata": {
    "colab": {
     "base_uri": "https://localhost:8080/"
    },
    "id": "F_2bfr4diIyp",
    "outputId": "23d0073a-1641-4367-ba4d-c1d526a71054",
    "pycharm": {
     "name": "#%%\n"
    }
   },
   "outputs": [
    {
     "name": "stdout",
     "output_type": "stream",
     "text": [
      "              precision    recall  f1-score   support\n",
      "\n",
      "           0      0.995     0.997     0.996      1819\n",
      "           1      0.997     0.995     0.996      1831\n",
      "\n",
      "    accuracy                          0.996      3650\n",
      "   macro avg      0.996     0.996     0.996      3650\n",
      "weighted avg      0.996     0.996     0.996      3650\n",
      "\n"
     ]
    }
   ],
   "source": [
    "# Classiﬁcation Report\n",
    "from sklearn.metrics import classification_report \n",
    "report = classification_report(y_test, y_prediction,digits=3) \n",
    "print(report)"
   ]
  },
  {
   "cell_type": "markdown",
   "metadata": {
    "id": "RnGpx5ZAiIyp",
    "pycharm": {
     "name": "#%% md\n"
    }
   },
   "source": [
    "### 3.4 Neural Network \n",
    "\n",
    "Also, we can train a Neural Network to do the classification"
   ]
  },
  {
   "cell_type": "code",
   "execution_count": 94,
   "metadata": {
    "colab": {
     "base_uri": "https://localhost:8080/",
     "height": 232
    },
    "id": "QKGROIFbiIyp",
    "outputId": "375e7343-319c-4ceb-e44d-9d37bb5966bb",
    "pycharm": {
     "name": "#%%\n"
    }
   },
   "outputs": [
    {
     "data": {
      "text/plain": [
       "{'activation': 'relu',\n",
       " 'alpha': 0.0001,\n",
       " 'batch_size': 'auto',\n",
       " 'beta_1': 0.9,\n",
       " 'beta_2': 0.999,\n",
       " 'early_stopping': False,\n",
       " 'epsilon': 1e-08,\n",
       " 'hidden_layer_sizes': (100,),\n",
       " 'learning_rate': 'constant',\n",
       " 'learning_rate_init': 0.001,\n",
       " 'max_fun': 15000,\n",
       " 'max_iter': 200,\n",
       " 'momentum': 0.9,\n",
       " 'n_iter_no_change': 10,\n",
       " 'nesterovs_momentum': True,\n",
       " 'power_t': 0.5,\n",
       " 'random_state': None,\n",
       " 'shuffle': True,\n",
       " 'solver': 'adam',\n",
       " 'tol': 0.0001,\n",
       " 'validation_fraction': 0.1,\n",
       " 'verbose': False,\n",
       " 'warm_start': False}"
      ]
     },
     "execution_count": 94,
     "metadata": {},
     "output_type": "execute_result"
    }
   ],
   "source": [
    "from sklearn.neural_network import MLPClassifier\n",
    "mlpc = MLPClassifier(verbose=False)\n",
    "mlpc.fit(x_train, y_train)    \n",
    "mlpc.max_iter \n",
    "mlpc.hidden_layer_sizes\n",
    "y_pred = mlpc.predict(x_test)\n",
    "\n",
    "\n",
    "mlpc.get_params()"
   ]
  },
  {
   "cell_type": "code",
   "execution_count": 95,
   "metadata": {
    "colab": {
     "base_uri": "https://localhost:8080/"
    },
    "id": "61AWs9t7iIyp",
    "outputId": "fdcc585e-8169-4592-c856-772064642e75"
   },
   "outputs": [
    {
     "name": "stdout",
     "output_type": "stream",
     "text": [
      "Predicted Values     0     1\n",
      "Actual Values               \n",
      "0                 1789    30\n",
      "1                   26  1805\n",
      "0.9846575342465753\n"
     ]
    }
   ],
   "source": [
    "#confussion matrix: \n",
    "from sklearn import metrics\n",
    "mlpc_cm = confusion_matrix(y_test,y_pred)\n",
    "mlpc_cross = pd.crosstab(y_test[\"type\"], y_pred,rownames=['Actual Values'], colnames=['Predicted Values'])\n",
    "mlpc_acc = metrics.accuracy_score(y_test, y_pred)\n",
    "print(mlpc_cross)\n",
    "print(mlpc_acc)"
   ]
  },
  {
   "cell_type": "markdown",
   "metadata": {
    "id": "btV1hAbdiIyp",
    "pycharm": {
     "name": "#%% md\n"
    }
   },
   "source": [
    "### 3.5 Model Comparison"
   ]
  },
  {
   "cell_type": "markdown",
   "metadata": {
    "id": "J6HFvF6GiIyp"
   },
   "source": [
    "* Decision Tree Classifier:  "
   ]
  },
  {
   "cell_type": "code",
   "execution_count": 96,
   "metadata": {
    "colab": {
     "base_uri": "https://localhost:8080/"
    },
    "id": "LvLVWkX9iIyp",
    "outputId": "4de70ace-1e62-4133-ccfa-4e024f0c2b1f",
    "pycharm": {
     "name": "#%%\n"
    }
   },
   "outputs": [
    {
     "data": {
      "text/plain": [
       "0.9882191780821917"
      ]
     },
     "execution_count": 96,
     "metadata": {},
     "output_type": "execute_result"
    }
   ],
   "source": [
    "dtc_acc"
   ]
  },
  {
   "cell_type": "markdown",
   "metadata": {
    "id": "8sou7jeYiIyp",
    "pycharm": {
     "name": "#%% md\n"
    }
   },
   "source": [
    "* Extra Tree Classifier"
   ]
  },
  {
   "cell_type": "code",
   "execution_count": 97,
   "metadata": {
    "colab": {
     "base_uri": "https://localhost:8080/"
    },
    "id": "gAv3elFbiIyp",
    "outputId": "837dc58d-6eca-45b4-87d7-44ad9470fdcb",
    "pycharm": {
     "name": "#%%\n"
    }
   },
   "outputs": [
    {
     "data": {
      "text/plain": [
       "0.9958904109589041"
      ]
     },
     "execution_count": 97,
     "metadata": {},
     "output_type": "execute_result"
    }
   ],
   "source": [
    "etc_acc"
   ]
  },
  {
   "cell_type": "markdown",
   "metadata": {
    "id": "W8dVdim-iIyq",
    "pycharm": {
     "name": "#%% md\n"
    }
   },
   "source": [
    "* Neural Network Classifier:"
   ]
  },
  {
   "cell_type": "code",
   "execution_count": 28,
   "metadata": {
    "colab": {
     "background_save": true
    },
    "id": "UcUCdZ7siIyq",
    "outputId": "2a328b54-c074-46f3-95d1-3d7f9f64990a",
    "pycharm": {
     "name": "#%%\n"
    }
   },
   "outputs": [
    {
     "data": {
      "text/plain": [
       "0.9841095890410959"
      ]
     },
     "execution_count": 28,
     "metadata": {},
     "output_type": "execute_result"
    }
   ],
   "source": [
    "mlpc_acc"
   ]
  },
  {
   "cell_type": "markdown",
   "metadata": {
    "id": "NsIxQXj4iIyq",
    "pycharm": {
     "name": "#%% md\n"
    }
   },
   "source": [
    " * <strong>Concluision: Extra Tree Classifier is the best model for classification in this situation</strong>"
   ]
  },
  {
   "cell_type": "markdown",
   "metadata": {
    "id": "W4toIhAkiIyq"
   },
   "source": [
    "## Part 4 -- Regression Modeling\n",
    "\n",
    "### 4.1 Data Pre-process\n",
    "\n",
    "\n",
    "<hr/>"
   ]
  },
  {
   "cell_type": "markdown",
   "metadata": {
    "id": "2qrc6IN0iIyq",
    "pycharm": {
     "name": "#%% md\n"
    }
   },
   "source": [
    "#### 4.1.1 Import Data\n",
    "<hr/>"
   ]
  },
  {
   "cell_type": "code",
   "execution_count": 36,
   "metadata": {
    "colab": {
     "background_save": true
    },
    "id": "TokHHmCaiIyq",
    "outputId": "c5f8ee3d-614c-4615-c2c2-50690f7c8be8",
    "pycharm": {
     "name": "#%%\n"
    }
   },
   "outputs": [
    {
     "data": {
      "text/html": [
       "<div>\n",
       "<style scoped>\n",
       "    .dataframe tbody tr th:only-of-type {\n",
       "        vertical-align: middle;\n",
       "    }\n",
       "\n",
       "    .dataframe tbody tr th {\n",
       "        vertical-align: top;\n",
       "    }\n",
       "\n",
       "    .dataframe thead th {\n",
       "        text-align: right;\n",
       "    }\n",
       "</style>\n",
       "<table border=\"1\" class=\"dataframe\">\n",
       "  <thead>\n",
       "    <tr style=\"text-align: right;\">\n",
       "      <th></th>\n",
       "      <th>Unnamed: 0</th>\n",
       "      <th>Date</th>\n",
       "      <th>AveragePrice</th>\n",
       "      <th>Total Volume</th>\n",
       "      <th>4046</th>\n",
       "      <th>4225</th>\n",
       "      <th>4770</th>\n",
       "      <th>Total Bags</th>\n",
       "      <th>Small Bags</th>\n",
       "      <th>Large Bags</th>\n",
       "      <th>XLarge Bags</th>\n",
       "      <th>type</th>\n",
       "      <th>year</th>\n",
       "      <th>region</th>\n",
       "    </tr>\n",
       "  </thead>\n",
       "  <tbody>\n",
       "    <tr>\n",
       "      <th>0</th>\n",
       "      <td>0</td>\n",
       "      <td>2015-12-27</td>\n",
       "      <td>1.33</td>\n",
       "      <td>64236.62</td>\n",
       "      <td>1036.74</td>\n",
       "      <td>54454.85</td>\n",
       "      <td>48.16</td>\n",
       "      <td>8696.87</td>\n",
       "      <td>8603.62</td>\n",
       "      <td>93.25</td>\n",
       "      <td>0.0</td>\n",
       "      <td>conventional</td>\n",
       "      <td>2015</td>\n",
       "      <td>Albany</td>\n",
       "    </tr>\n",
       "    <tr>\n",
       "      <th>1</th>\n",
       "      <td>1</td>\n",
       "      <td>2015-12-20</td>\n",
       "      <td>1.35</td>\n",
       "      <td>54876.98</td>\n",
       "      <td>674.28</td>\n",
       "      <td>44638.81</td>\n",
       "      <td>58.33</td>\n",
       "      <td>9505.56</td>\n",
       "      <td>9408.07</td>\n",
       "      <td>97.49</td>\n",
       "      <td>0.0</td>\n",
       "      <td>conventional</td>\n",
       "      <td>2015</td>\n",
       "      <td>Albany</td>\n",
       "    </tr>\n",
       "    <tr>\n",
       "      <th>2</th>\n",
       "      <td>2</td>\n",
       "      <td>2015-12-13</td>\n",
       "      <td>0.93</td>\n",
       "      <td>118220.22</td>\n",
       "      <td>794.70</td>\n",
       "      <td>109149.67</td>\n",
       "      <td>130.50</td>\n",
       "      <td>8145.35</td>\n",
       "      <td>8042.21</td>\n",
       "      <td>103.14</td>\n",
       "      <td>0.0</td>\n",
       "      <td>conventional</td>\n",
       "      <td>2015</td>\n",
       "      <td>Albany</td>\n",
       "    </tr>\n",
       "    <tr>\n",
       "      <th>3</th>\n",
       "      <td>3</td>\n",
       "      <td>2015-12-06</td>\n",
       "      <td>1.08</td>\n",
       "      <td>78992.15</td>\n",
       "      <td>1132.00</td>\n",
       "      <td>71976.41</td>\n",
       "      <td>72.58</td>\n",
       "      <td>5811.16</td>\n",
       "      <td>5677.40</td>\n",
       "      <td>133.76</td>\n",
       "      <td>0.0</td>\n",
       "      <td>conventional</td>\n",
       "      <td>2015</td>\n",
       "      <td>Albany</td>\n",
       "    </tr>\n",
       "    <tr>\n",
       "      <th>4</th>\n",
       "      <td>4</td>\n",
       "      <td>2015-11-29</td>\n",
       "      <td>1.28</td>\n",
       "      <td>51039.60</td>\n",
       "      <td>941.48</td>\n",
       "      <td>43838.39</td>\n",
       "      <td>75.78</td>\n",
       "      <td>6183.95</td>\n",
       "      <td>5986.26</td>\n",
       "      <td>197.69</td>\n",
       "      <td>0.0</td>\n",
       "      <td>conventional</td>\n",
       "      <td>2015</td>\n",
       "      <td>Albany</td>\n",
       "    </tr>\n",
       "  </tbody>\n",
       "</table>\n",
       "</div>"
      ],
      "text/plain": [
       "   Unnamed: 0        Date  AveragePrice  Total Volume     4046       4225  \\\n",
       "0           0  2015-12-27          1.33      64236.62  1036.74   54454.85   \n",
       "1           1  2015-12-20          1.35      54876.98   674.28   44638.81   \n",
       "2           2  2015-12-13          0.93     118220.22   794.70  109149.67   \n",
       "3           3  2015-12-06          1.08      78992.15  1132.00   71976.41   \n",
       "4           4  2015-11-29          1.28      51039.60   941.48   43838.39   \n",
       "\n",
       "     4770  Total Bags  Small Bags  Large Bags  XLarge Bags          type  \\\n",
       "0   48.16     8696.87     8603.62       93.25          0.0  conventional   \n",
       "1   58.33     9505.56     9408.07       97.49          0.0  conventional   \n",
       "2  130.50     8145.35     8042.21      103.14          0.0  conventional   \n",
       "3   72.58     5811.16     5677.40      133.76          0.0  conventional   \n",
       "4   75.78     6183.95     5986.26      197.69          0.0  conventional   \n",
       "\n",
       "   year  region  \n",
       "0  2015  Albany  \n",
       "1  2015  Albany  \n",
       "2  2015  Albany  \n",
       "3  2015  Albany  \n",
       "4  2015  Albany  "
      ]
     },
     "execution_count": 36,
     "metadata": {},
     "output_type": "execute_result"
    }
   ],
   "source": [
    "data = pd.read_csv(\"avocado.csv\")\n",
    "data.head()"
   ]
  },
  {
   "cell_type": "markdown",
   "metadata": {
    "id": "6GOA9RvLiIyq"
   },
   "source": [
    "#### 4.1.2 Data Engineering"
   ]
  },
  {
   "cell_type": "code",
   "execution_count": 37,
   "metadata": {
    "colab": {
     "background_save": true
    },
    "id": "vNsojtaCiIyq",
    "outputId": "40e0c53f-f10b-449e-a0eb-75bb9769158f",
    "pycharm": {
     "name": "#%%\n"
    }
   },
   "outputs": [
    {
     "data": {
      "text/html": [
       "<div>\n",
       "<style scoped>\n",
       "    .dataframe tbody tr th:only-of-type {\n",
       "        vertical-align: middle;\n",
       "    }\n",
       "\n",
       "    .dataframe tbody tr th {\n",
       "        vertical-align: top;\n",
       "    }\n",
       "\n",
       "    .dataframe thead th {\n",
       "        text-align: right;\n",
       "    }\n",
       "</style>\n",
       "<table border=\"1\" class=\"dataframe\">\n",
       "  <thead>\n",
       "    <tr style=\"text-align: right;\">\n",
       "      <th></th>\n",
       "      <th>AveragePrice</th>\n",
       "      <th>Total Volume</th>\n",
       "      <th>4046</th>\n",
       "      <th>4225</th>\n",
       "      <th>4770</th>\n",
       "      <th>Total Bags</th>\n",
       "      <th>Small Bags</th>\n",
       "      <th>Large Bags</th>\n",
       "      <th>XLarge Bags</th>\n",
       "      <th>type</th>\n",
       "      <th>year</th>\n",
       "      <th>region</th>\n",
       "      <th>PriceTimesVolume</th>\n",
       "      <th>month</th>\n",
       "      <th>day</th>\n",
       "    </tr>\n",
       "  </thead>\n",
       "  <tbody>\n",
       "    <tr>\n",
       "      <th>0</th>\n",
       "      <td>1.33</td>\n",
       "      <td>64236.62</td>\n",
       "      <td>1036.74</td>\n",
       "      <td>54454.85</td>\n",
       "      <td>48.16</td>\n",
       "      <td>8696.87</td>\n",
       "      <td>8603.62</td>\n",
       "      <td>93.25</td>\n",
       "      <td>0.0</td>\n",
       "      <td>conventional</td>\n",
       "      <td>2015</td>\n",
       "      <td>Albany</td>\n",
       "      <td>-10.785150</td>\n",
       "      <td>12</td>\n",
       "      <td>27</td>\n",
       "    </tr>\n",
       "    <tr>\n",
       "      <th>1</th>\n",
       "      <td>1.35</td>\n",
       "      <td>54876.98</td>\n",
       "      <td>674.28</td>\n",
       "      <td>44638.81</td>\n",
       "      <td>58.33</td>\n",
       "      <td>9505.56</td>\n",
       "      <td>9408.07</td>\n",
       "      <td>97.49</td>\n",
       "      <td>0.0</td>\n",
       "      <td>conventional</td>\n",
       "      <td>2015</td>\n",
       "      <td>Albany</td>\n",
       "      <td>-10.612745</td>\n",
       "      <td>12</td>\n",
       "      <td>20</td>\n",
       "    </tr>\n",
       "    <tr>\n",
       "      <th>2</th>\n",
       "      <td>0.93</td>\n",
       "      <td>118220.22</td>\n",
       "      <td>794.70</td>\n",
       "      <td>109149.67</td>\n",
       "      <td>130.50</td>\n",
       "      <td>8145.35</td>\n",
       "      <td>8042.21</td>\n",
       "      <td>103.14</td>\n",
       "      <td>0.0</td>\n",
       "      <td>conventional</td>\n",
       "      <td>2015</td>\n",
       "      <td>Albany</td>\n",
       "      <td>-11.752875</td>\n",
       "      <td>12</td>\n",
       "      <td>13</td>\n",
       "    </tr>\n",
       "    <tr>\n",
       "      <th>3</th>\n",
       "      <td>1.08</td>\n",
       "      <td>78992.15</td>\n",
       "      <td>1132.00</td>\n",
       "      <td>71976.41</td>\n",
       "      <td>72.58</td>\n",
       "      <td>5811.16</td>\n",
       "      <td>5677.40</td>\n",
       "      <td>133.76</td>\n",
       "      <td>0.0</td>\n",
       "      <td>conventional</td>\n",
       "      <td>2015</td>\n",
       "      <td>Albany</td>\n",
       "      <td>-11.200143</td>\n",
       "      <td>12</td>\n",
       "      <td>6</td>\n",
       "    </tr>\n",
       "    <tr>\n",
       "      <th>4</th>\n",
       "      <td>1.28</td>\n",
       "      <td>51039.60</td>\n",
       "      <td>941.48</td>\n",
       "      <td>43838.39</td>\n",
       "      <td>75.78</td>\n",
       "      <td>6183.95</td>\n",
       "      <td>5986.26</td>\n",
       "      <td>197.69</td>\n",
       "      <td>0.0</td>\n",
       "      <td>conventional</td>\n",
       "      <td>2015</td>\n",
       "      <td>Albany</td>\n",
       "      <td>-10.593497</td>\n",
       "      <td>11</td>\n",
       "      <td>29</td>\n",
       "    </tr>\n",
       "  </tbody>\n",
       "</table>\n",
       "</div>"
      ],
      "text/plain": [
       "   AveragePrice  Total Volume     4046       4225    4770  Total Bags  \\\n",
       "0          1.33      64236.62  1036.74   54454.85   48.16     8696.87   \n",
       "1          1.35      54876.98   674.28   44638.81   58.33     9505.56   \n",
       "2          0.93     118220.22   794.70  109149.67  130.50     8145.35   \n",
       "3          1.08      78992.15  1132.00   71976.41   72.58     5811.16   \n",
       "4          1.28      51039.60   941.48   43838.39   75.78     6183.95   \n",
       "\n",
       "   Small Bags  Large Bags  XLarge Bags          type  year  region  \\\n",
       "0     8603.62       93.25          0.0  conventional  2015  Albany   \n",
       "1     9408.07       97.49          0.0  conventional  2015  Albany   \n",
       "2     8042.21      103.14          0.0  conventional  2015  Albany   \n",
       "3     5677.40      133.76          0.0  conventional  2015  Albany   \n",
       "4     5986.26      197.69          0.0  conventional  2015  Albany   \n",
       "\n",
       "   PriceTimesVolume  month  day  \n",
       "0        -10.785150     12   27  \n",
       "1        -10.612745     12   20  \n",
       "2        -11.752875     12   13  \n",
       "3        -11.200143     12    6  \n",
       "4        -10.593497     11   29  "
      ]
     },
     "execution_count": 37,
     "metadata": {},
     "output_type": "execute_result"
    }
   ],
   "source": [
    "\n",
    "# Some advice features added, from TA's suggestion.\n",
    "# PriceVolume\n",
    "price_list=[]\n",
    "volume_list=[]\n",
    "price_volume_list=[]\n",
    "\n",
    "# get list from data\n",
    "for price in data['AveragePrice']:\n",
    "    price_list.append(price)\n",
    "for volume in data['Total Volume']:\n",
    "    volume_list.append(volume)\n",
    "    \n",
    "# log(AvgPrice * TotalVolume)\n",
    "for i in range(len(price_list)):\n",
    "    price_volume_list.append(math.log(price_list[i]/volume_list[i]))\n",
    "# adding to dataset\n",
    "data['PriceTimesVolume'] = price_volume_list\n",
    "\n",
    "# Split Dataset, \"conventional & organic\"\n",
    "data_con = data[data[\"type\"] == \"conventional\"]\n",
    "data_org = data[data[\"type\"] == \"organic\"]\n",
    "\n",
    "# split date: day,month,year\n",
    "date_list = []\n",
    "for date in data.Date:\n",
    "    date_list.append(date.split(\"-\"))\n",
    "\n",
    "# month and day adding to lists\n",
    "month = []\n",
    "day = []\n",
    "for i in range(len(date_list)):\n",
    "    month.append(date_list[i][1])\n",
    "    day.append(date_list[i][2])\n",
    "\n",
    "# adding to dataset\n",
    "data[\"month\"] = month\n",
    "data[\"day\"] = day\n",
    "\n",
    "# delete old date column\n",
    "data.drop([\"Date\"],axis=1,inplace=True)\n",
    "\n",
    "# convert objects to int\n",
    "data.month = data.month.values.astype(int)\n",
    "data.day = data.day.values.astype(int)\n",
    "\n",
    "\n",
    "# drop unnecessary features\n",
    "data.drop([\"Unnamed: 0\"],axis=1,inplace=True)\n",
    "\n",
    "# find dummy variables\n",
    "data_con = pd.get_dummies(data_con,drop_first=True)\n",
    "data_org = pd.get_dummies(data_org,drop_first=True)\n",
    "\n",
    "\n",
    "data.head()"
   ]
  },
  {
   "cell_type": "markdown",
   "metadata": {
    "id": "ZSJ1U0stiIyq",
    "pycharm": {
     "name": "#%% md\n"
    }
   },
   "source": [
    "#### 4.1.3 Ordinary Least Squares (OLS) Estimation\n",
    "<hr/>\n",
    "\n",
    "For Conventional Avocado"
   ]
  },
  {
   "cell_type": "code",
   "execution_count": 38,
   "metadata": {
    "colab": {
     "background_save": true
    },
    "id": "yi4M7r-diIyq",
    "outputId": "30956888-ec7e-427e-9bb5-f667e8930cae",
    "pycharm": {
     "name": "#%%\n"
    }
   },
   "outputs": [
    {
     "name": "stdout",
     "output_type": "stream",
     "text": [
      "Parameters:  [ 5.40600786e-10 -1.90933103e-11  1.91022198e-11  1.90837623e-11\n",
      "  1.90885086e-11  9.07444675e-11 -7.16635085e-11 -7.16525728e-11\n",
      " -7.16519621e-11  2.53101737e-02 -2.87240121e-10 -1.00000000e+00\n",
      " -2.00000000e+00 -3.00000000e+00 -4.00000000e+00 -5.00000000e+00\n",
      " -6.00000000e+00 -7.00000000e+00 -8.00000000e+00 -9.00000000e+00\n",
      " -1.00000000e+01 -1.10000000e+01 -1.20000000e+01 -1.30000000e+01\n",
      " -1.40000000e+01 -1.50000000e+01 -1.60000000e+01 -1.70000000e+01\n",
      " -1.80000000e+01 -1.90000000e+01 -2.00000000e+01 -2.10000000e+01\n",
      " -2.20000000e+01 -2.30000000e+01 -2.40000000e+01 -2.50000000e+01\n",
      " -2.60000000e+01 -2.70000000e+01 -2.80000000e+01 -2.90000000e+01\n",
      " -3.00000000e+01 -3.10000000e+01 -3.20000000e+01 -3.30000000e+01\n",
      " -3.40000000e+01 -3.50000000e+01 -3.60000000e+01 -3.70000000e+01\n",
      " -3.80000000e+01 -3.90000000e+01 -4.00000000e+01 -4.10000000e+01\n",
      " -4.20000000e+01 -4.30000000e+01 -4.40000000e+01 -4.50000000e+01\n",
      " -4.60000000e+01 -4.70000000e+01 -4.80000000e+01 -4.90000000e+01\n",
      " -5.00000000e+01 -5.10000000e+01 -2.53101737e-02 -1.02531017e+00\n",
      " -2.02531017e+00 -3.02531017e+00 -4.02531017e+00 -5.02531017e+00\n",
      " -6.02531017e+00 -7.02531017e+00 -8.02531017e+00 -9.02531017e+00\n",
      " -1.00253102e+01 -1.10253102e+01 -1.20253102e+01 -1.30253102e+01\n",
      " -1.40253102e+01 -1.50253102e+01 -1.60253102e+01 -1.70253102e+01\n",
      " -1.80253102e+01 -1.90253102e+01 -2.00253102e+01 -2.10253102e+01\n",
      " -2.20253102e+01 -2.30253102e+01 -2.40253102e+01 -2.50253102e+01\n",
      " -2.60253102e+01 -2.70253102e+01 -2.80253102e+01 -2.90253102e+01\n",
      " -3.00253102e+01 -3.10253102e+01 -3.20253102e+01 -3.30253102e+01\n",
      " -3.40253102e+01 -3.50253102e+01 -3.60253102e+01 -3.70253102e+01\n",
      " -3.80253102e+01 -3.90253102e+01 -4.00253102e+01 -4.10253102e+01\n",
      " -4.20253102e+01 -4.30253102e+01 -4.40253102e+01 -4.50253102e+01\n",
      " -4.60253102e+01 -4.70253102e+01 -4.80253102e+01 -4.90253102e+01\n",
      " -5.00253102e+01 -5.10253102e+01  9.49379653e-01 -5.06203475e-02\n",
      " -1.05062035e+00 -2.05062035e+00 -3.05062035e+00 -4.05062035e+00\n",
      " -5.05062035e+00 -6.05062035e+00 -7.05062035e+00 -8.05062035e+00\n",
      " -9.05062035e+00 -1.00506203e+01 -1.10506203e+01 -1.20506203e+01\n",
      " -1.30506203e+01 -1.40506203e+01 -1.50506203e+01 -1.60506203e+01\n",
      " -1.70506203e+01 -1.80506203e+01 -1.90506203e+01 -2.00506203e+01\n",
      " -2.10506203e+01 -2.20506203e+01 -2.30506203e+01 -2.40506203e+01\n",
      " -2.50506203e+01 -2.60506203e+01 -2.70506203e+01 -2.80506203e+01\n",
      " -2.90506203e+01 -3.00506203e+01 -3.10506203e+01 -3.20506203e+01\n",
      " -3.30506203e+01 -3.40506203e+01 -3.50506203e+01 -3.60506203e+01\n",
      " -3.70506203e+01 -3.80506203e+01 -3.90506203e+01 -4.00506203e+01\n",
      " -4.10506203e+01 -4.20506203e+01 -4.30506203e+01 -4.40506203e+01\n",
      " -4.50506203e+01 -4.60506203e+01 -4.70506203e+01 -4.80506203e+01\n",
      " -4.90506203e+01 -5.00506203e+01 -5.10506203e+01 -4.00759305e+01\n",
      " -4.10759305e+01 -4.20759305e+01 -4.30759305e+01 -4.40759305e+01\n",
      " -4.50759305e+01 -4.60759305e+01 -4.70759305e+01 -4.80759305e+01\n",
      " -4.90759305e+01 -5.00759305e+01 -5.10759305e+01 -2.22702279e-08\n",
      " -7.69738551e-09 -1.16152525e-08  2.96495972e-09 -1.64538915e-08\n",
      " -2.59115152e-09  7.05254047e-09 -2.02447848e-08  3.61812796e-09\n",
      "  2.40777190e-08 -8.37842129e-09 -1.12057323e-08  3.69118180e-09\n",
      "  1.10800712e-08  6.96989311e-09  1.06030268e-08  8.63604827e-09\n",
      " -3.11302206e-09 -1.51114178e-08  2.35868542e-08  2.75605778e-08\n",
      " -1.63720058e-08 -1.19223810e-08 -1.97995559e-08  1.15547487e-08\n",
      " -2.84430531e-08 -1.13982454e-09  1.38059231e-09 -3.71233955e-09\n",
      "  7.98379540e-09 -4.99877584e-09  5.69211234e-10 -8.05533973e-10\n",
      "  1.89320287e-08  2.13105005e-08 -9.58303437e-10 -1.79609777e-09\n",
      " -1.23215984e-08 -1.24774396e-08 -1.84016971e-08 -2.29247432e-09\n",
      " -7.72554221e-09  2.11997175e-09  9.70707814e-09  9.70664082e-09\n",
      " -1.99206007e-09  1.35091647e-08  9.34952313e-09 -4.14635276e-09\n",
      " -6.53874954e-09 -5.48435608e-09  9.28547017e-10  2.87422330e-09]\n",
      "Conventional OLS Result_R2:  1.0\n"
     ]
    }
   ],
   "source": [
    "# For Conventional\n",
    "import statsmodels.api as sm\n",
    "exog_con = data_con.iloc[:,1:].values\n",
    "endog_con = data_con.iloc[:,[0]].values\n",
    "r_ols_con = sm.OLS(endog_con,exog_con) \n",
    "r_con = r_ols_con.fit()\n",
    "print('Parameters: ',r_con.params)\n",
    "print('Conventional OLS Result_R2: ', r_con.rsquared)"
   ]
  },
  {
   "cell_type": "markdown",
   "metadata": {
    "id": "rhv-O21HiIyq",
    "pycharm": {
     "name": "#%% md\n"
    }
   },
   "source": [
    "For Organic Avocado"
   ]
  },
  {
   "cell_type": "code",
   "execution_count": 39,
   "metadata": {
    "colab": {
     "background_save": true
    },
    "id": "jl663j4diIyq",
    "outputId": "cf8b5cf9-8d07-41ac-f2a2-3671a86dac0c",
    "pycharm": {
     "name": "#%%\n"
    }
   },
   "outputs": [
    {
     "name": "stdout",
     "output_type": "stream",
     "text": [
      "Parameters:  [ 1.96591436e-02 -9.53636380e-07  1.17856297e-06  8.67735516e-07\n",
      "  7.35715521e-06  2.66484669e-02 -2.66475046e-02 -2.66473534e-02\n",
      " -2.66685687e-02  2.52920302e-02  7.93107249e-04 -1.00063441e+00\n",
      " -2.00074234e+00 -3.00157753e+00 -3.99967317e+00 -4.99974888e+00\n",
      " -6.00080690e+00 -7.00096315e+00 -8.00101369e+00 -9.00019775e+00\n",
      " -1.00010057e+01 -1.10006424e+01 -1.20013686e+01 -1.30018294e+01\n",
      " -1.39999379e+01 -1.50008605e+01 -1.60013733e+01 -1.70008869e+01\n",
      " -1.79995417e+01 -1.90050647e+01 -2.00018884e+01 -2.10008400e+01\n",
      " -2.20018564e+01 -2.30027390e+01 -2.40027672e+01 -2.50015200e+01\n",
      " -2.60024949e+01 -2.70025631e+01 -2.80004971e+01 -2.90020295e+01\n",
      " -3.00035770e+01 -3.10040675e+01 -3.20033264e+01 -3.30029591e+01\n",
      " -3.40014905e+01 -3.50032811e+01 -3.60040874e+01 -3.70036470e+01\n",
      " -3.80034623e+01 -3.90019559e+01 -4.00010080e+01 -4.10019145e+01\n",
      " -4.20009399e+01 -4.29999344e+01 -4.40001745e+01 -4.49998950e+01\n",
      " -4.59996413e+01 -4.69997798e+01 -4.79913696e+01 -4.89830765e+01\n",
      " -4.99824694e+01 -5.09805365e+01 -4.66818256e-03 -1.00483859e+00\n",
      " -2.00669745e+00 -3.00604639e+00 -4.00485639e+00 -5.00512715e+00\n",
      " -6.00519841e+00 -7.00551554e+00 -8.00579246e+00 -9.00452624e+00\n",
      " -1.00034786e+01 -1.10037508e+01 -1.20042013e+01 -1.30041589e+01\n",
      " -1.40037795e+01 -1.50037879e+01 -1.60040865e+01 -1.70103585e+01\n",
      " -1.80092872e+01 -1.90042787e+01 -2.00055340e+01 -2.10060327e+01\n",
      " -2.20034860e+01 -2.30048466e+01 -2.40048411e+01 -2.50047278e+01\n",
      " -2.60058123e+01 -2.70073553e+01 -2.80089778e+01 -2.90093771e+01\n",
      " -3.00077683e+01 -3.10085253e+01 -3.20088508e+01 -3.30074435e+01\n",
      " -3.40065142e+01 -3.50059441e+01 -3.60052877e+01 -3.70076337e+01\n",
      " -3.80095069e+01 -3.90110294e+01 -4.00074954e+01 -4.10071536e+01\n",
      " -4.20082842e+01 -4.30128350e+01 -4.40097376e+01 -4.50089598e+01\n",
      " -4.60072015e+01 -4.70078039e+01 -4.80064158e+01 -4.90051591e+01\n",
      " -5.00040237e+01 -5.10047305e+01  9.32608949e-01 -6.79837610e-02\n",
      " -1.06817735e+00 -2.06529612e+00 -3.06576412e+00 -4.06443491e+00\n",
      " -5.06517526e+00 -6.06512400e+00 -7.06521538e+00 -8.06617210e+00\n",
      " -9.06840794e+00 -1.00682099e+01 -1.10678557e+01 -1.20682504e+01\n",
      " -1.30708585e+01 -1.40706619e+01 -1.50721332e+01 -1.60736315e+01\n",
      " -1.70727654e+01 -1.80729957e+01 -1.90729243e+01 -2.00729417e+01\n",
      " -2.10723302e+01 -2.20727671e+01 -2.30457088e+01 -2.40471468e+01\n",
      " -2.50364388e+01 -2.60357368e+01 -2.70346924e+01 -2.80341051e+01\n",
      " -2.90333817e+01 -3.00346540e+01 -3.10351414e+01 -3.20375804e+01\n",
      " -3.30401732e+01 -3.40399142e+01 -3.50390434e+01 -3.60391076e+01\n",
      " -3.70381066e+01 -3.80385211e+01 -3.90368759e+01 -4.00364727e+01\n",
      " -4.10339964e+01 -4.20344061e+01 -4.30339487e+01 -4.40334131e+01\n",
      " -4.50321985e+01 -4.60312742e+01 -4.70301997e+01 -4.80299175e+01\n",
      " -4.90292817e+01 -5.00301623e+01 -5.10286414e+01 -4.00542349e+01\n",
      " -4.10550257e+01 -4.20561256e+01 -4.30552436e+01 -4.40540783e+01\n",
      " -4.50545518e+01 -4.60540669e+01 -4.70546986e+01 -4.80547445e+01\n",
      " -4.90535822e+01 -5.00538125e+01 -5.10538343e+01  4.12043329e-03\n",
      "  9.11328691e-05  3.13090597e-03  1.50314450e-03  2.74476499e-03\n",
      "  2.29381650e-03 -6.59762276e-03  5.00185503e-03  8.70477294e-03\n",
      "  7.49411045e-03  8.98001704e-03  6.39134446e-03  7.95347564e-03\n",
      "  2.00425269e-03  8.38208653e-03  6.99628591e-04 -7.87575229e-03\n",
      "  9.72844574e-03  6.25079132e-03 -1.15317529e-03  1.33820292e-03\n",
      "  7.38793166e-03  6.32140957e-03  3.65756146e-03 -1.01675045e-02\n",
      "  8.08165357e-03  5.31499153e-03 -8.10944591e-03 -4.72690473e-03\n",
      "  2.93702807e-03 -1.78421516e-04 -8.54162157e-04  1.40314713e-03\n",
      "  6.31388362e-03 -4.98331477e-03  3.47232570e-03 -4.16652284e-03\n",
      "  5.68416951e-03  8.52812923e-03 -3.03507074e-03  2.29997978e-03\n",
      " -7.40833060e-03  1.29726081e-03  1.27575216e-03  2.70810763e-03\n",
      " -2.81541795e-04  2.65333326e-04  2.24839414e-03  2.39043507e-03\n",
      "  3.45359136e-03 -5.85881929e-02 -9.15380946e-03 -5.77732801e-01]\n",
      "Organic OLS Result_R2:  0.9999604786826188\n"
     ]
    }
   ],
   "source": [
    "# For Organic\n",
    "import statsmodels.api as sm\n",
    "exog_org = data_org.iloc[:,1:].values\n",
    "endog_org = data_org.iloc[:,[0]].values\n",
    "r_ols_org = sm.OLS(endog_org,exog_org) \n",
    "r_org = r_ols_org.fit()\n",
    "print('Parameters: ',r_org.params)\n",
    "print('Organic OLS Result_R2: ', r_org.rsquared)\n"
   ]
  },
  {
   "cell_type": "markdown",
   "metadata": {
    "id": "MChF3-RwiIyq",
    "pycharm": {
     "name": "#%% md\n"
    }
   },
   "source": [
    "Observations:\n",
    "* The small P values indicate that we can reject the null hypothesis that Quantity has no effect on Price.\n",
    "* Hight R-squared indicates that our model explains a lot of the response variability.\n",
    "* In regression analysis, we’d like our regression model to have significant variables and to produce a high R-squared value.\n",
    "* We will show graphs to help interpret regression analysis results more intuitively."
   ]
  },
  {
   "cell_type": "markdown",
   "metadata": {
    "id": "Dp4n8T2UiIyq"
   },
   "source": [
    "### 4.2 Regression Predict\n",
    "#### 4.2.1 Prepare Dataset for Regression\n",
    "<hr/>"
   ]
  },
  {
   "cell_type": "code",
   "execution_count": 40,
   "metadata": {
    "colab": {
     "background_save": true
    },
    "id": "Neyah4briIyq"
   },
   "outputs": [],
   "source": [
    "# Y\n",
    "y = data_con[[\"AveragePrice\"]][:]\n",
    "# X\n",
    "x = data_con.drop([\"AveragePrice\"],axis=1,inplace=True)\n",
    "x = data_con.iloc[:,1:]\n",
    "# Scale the data to be between -1 and 1\n",
    "sc_x = StandardScaler()\n",
    "sc_y = StandardScaler()\n",
    "x = sc_x.fit_transform(x)\n",
    "y = sc_y.fit_transform(y)\n",
    "# Creating Train and Test Datasets\n",
    "x_train, x_test, y_train, y_test = train_test_split(x, y, test_size=0.2, random_state=3)"
   ]
  },
  {
   "cell_type": "markdown",
   "metadata": {
    "id": "bgz4nklUiIyq"
   },
   "source": [
    "#### 4.2.2 Classical Models\n",
    "<hr/>\n",
    "\n",
    "* use following models\n",
    "    * LinearRegression\n",
    "    * Lasso\n",
    "    * ElasticNet\n",
    "    * KNeighborsRegressor\n",
    "    * DecisionTreeRegressor\n",
    "    * SVR"
   ]
  },
  {
   "cell_type": "code",
   "execution_count": 41,
   "metadata": {
    "colab": {
     "background_save": true
    },
    "id": "-gW811wgiIyq",
    "pycharm": {
     "name": "#%%\n"
    }
   },
   "outputs": [],
   "source": [
    "classic_models = []\n",
    "classic_models.append(('LR', LinearRegression()))\n",
    "classic_models.append(('LASSO', Lasso()))\n",
    "classic_models.append(('EN', ElasticNet()))\n",
    "classic_models.append(('KNN', KNeighborsRegressor()))\n",
    "classic_models.append(('DTR', DecisionTreeRegressor()))\n",
    "classic_models.append(('SVR', SVR()))"
   ]
  },
  {
   "cell_type": "code",
   "execution_count": 42,
   "metadata": {
    "colab": {
     "background_save": true
    },
    "id": "41tqPr1HiIyq",
    "outputId": "0c71e6eb-d4c9-49b9-b121-88a97ee8455f"
   },
   "outputs": [
    {
     "name": "stdout",
     "output_type": "stream",
     "text": [
      "Model Name:LR Model Score:0.944 Model Std:0.002\n",
      "Model Name:LASSO Model Score:-0.003 Model Std:0.004\n",
      "Model Name:EN Model Score:-0.003 Model Std:0.004\n",
      "Model Name:KNN Model Score:0.444 Model Std:0.032\n",
      "Model Name:DTR Model Score:0.858 Model Std:0.022\n",
      "Model Name:SVR Model Score:0.835 Model Std:0.003\n"
     ]
    }
   ],
   "source": [
    "# evaluate models using cross validation score:\n",
    "classic_results = []\n",
    "classic_names = []\n",
    "for name, model in classic_models:\n",
    "    kfold = KFold(n_splits=10, random_state=42)\n",
    "    cv_results = cross_val_score(model, x_train, y_train, cv=kfold, scoring='r2')\n",
    "    classic_results.append(cv_results)\n",
    "    classic_names.append(name)\n",
    "    print(\"Model Name:{} Model Score:{:.3f} Model Std:{:.3f}\".format(name, cv_results.mean(), cv_results.std()))"
   ]
  },
  {
   "cell_type": "code",
   "execution_count": 43,
   "metadata": {
    "colab": {
     "background_save": true
    },
    "id": "FYM_ELx6iIyq",
    "outputId": "134732f5-b648-45c6-9b44-32c28c6283af",
    "pycharm": {
     "name": "#%%\n"
    }
   },
   "outputs": [
    {
     "data": {
      "text/plain": [
       "Text(0.5, 0, 'Scores')"
      ]
     },
     "execution_count": 43,
     "metadata": {},
     "output_type": "execute_result"
    },
    {
     "data": {
      "image/png": "[encoded data removed]",
      "text/plain": [
       "<Figure size 720x504 with 1 Axes>"
      ]
     },
     "metadata": {
      "needs_background": "light"
     },
     "output_type": "display_data"
    }
   ],
   "source": [
    "# Compare Model's Scores\n",
    "f,ax = plt.subplots(figsize = (10,7))\n",
    "sns.boxplot(y=classic_names,x=classic_results);\n",
    "plt.title(\"Compare Model's Scores\",fontsize = 20,color='orange')\n",
    "plt.ylabel('Models',fontsize = 15,color='orange')\n",
    "plt.xlabel('Scores',fontsize = 15,color='orange')"
   ]
  },
  {
   "cell_type": "markdown",
   "metadata": {
    "id": "32TMj-EINQS2",
    "pycharm": {
     "name": "#%% md\n"
    }
   },
   "source": [
    "Both linear regressor and support vector regressor did a great job here. However, I want to use decision tree regressor to compare ensemble model in the future, but model socre of DTR (0.651) is not good, which need hyper parameter tunning ."
   ]
  },
  {
   "cell_type": "markdown",
   "metadata": {
    "id": "aJxxSMuoiIyq",
    "pycharm": {
     "name": "#%% md\n"
    }
   },
   "source": [
    "#### 4.2.3 Tuning Decision Tree Model\n",
    "<hr/>"
   ]
  },
  {
   "cell_type": "code",
   "execution_count": 44,
   "metadata": {
    "colab": {
     "background_save": true
    },
    "id": "LDmXry9GiIyq"
   },
   "outputs": [
    {
     "name": "stdout",
     "output_type": "stream",
     "text": [
      "Best Score: 0.8591487657248024\n",
      "Best Parameters: {'criterion': 'mse'}\n"
     ]
    }
   ],
   "source": [
    "# Tuning Decision Tree Model\n",
    "criterions = [\"mse\",\"mae\"]\n",
    "param_grid = dict(criterion=criterions)\n",
    "dtr = DecisionTreeRegressor()\n",
    "gs = GridSearchCV(estimator=dtr,param_grid=param_grid,scoring=\"r2\", cv=kfold)\n",
    "grid_search = gs.fit(x_train,y_train)\n",
    "best_score = grid_search.best_score_\n",
    "best_parameters = grid_search.best_params_\n",
    "print(\"Best Score:\",best_score)\n",
    "print(\"Best Parameters:\",best_parameters)"
   ]
  },
  {
   "cell_type": "code",
   "execution_count": 45,
   "metadata": {
    "colab": {
     "background_save": true
    },
    "id": "2cxESTqkiIyq",
    "pycharm": {
     "name": "#%%\n"
    }
   },
   "outputs": [
    {
     "name": "stdout",
     "output_type": "stream",
     "text": [
      "0.859149 (0.021744) with: {'criterion': 'mse'}\n",
      "0.847481 (0.012931) with: {'criterion': 'mae'}\n"
     ]
    }
   ],
   "source": [
    "means = grid_search.cv_results_['mean_test_score']\n",
    "stds = grid_search.cv_results_['std_test_score']\n",
    "params = grid_search.cv_results_['params']\n",
    "for mean, stdev, param in zip(means, stds, params):\n",
    "    print(\"%f (%f) with: %r\" % (mean, stdev, param))"
   ]
  },
  {
   "cell_type": "markdown",
   "metadata": {
    "id": "Th9lC67iNVXi",
    "pycharm": {
     "name": "#%% md\n"
    }
   },
   "source": [
    "By comparing scoring between Mean Absolute Error(MAE) and Mean Square Error(MSE), we find that using MSE is better choice"
   ]
  },
  {
   "cell_type": "code",
   "execution_count": 46,
   "metadata": {
    "colab": {
     "background_save": true
    },
    "id": "0J_6XJTxiIyq"
   },
   "outputs": [
    {
     "name": "stdout",
     "output_type": "stream",
     "text": [
      "0.86\n"
     ]
    }
   ],
   "source": [
    "# Time to use DTR for dataset:\n",
    "dtr = DecisionTreeRegressor(criterion=\"mse\")\n",
    "dtr.fit(x_train,y_train)\n",
    "y_pred = dtr.predict(x_test)\n",
    "result_DTR = r2_score(y_test, y_pred)\n",
    "print(\"{:.2f}\".format(result_DTR))"
   ]
  },
  {
   "cell_type": "code",
   "execution_count": 47,
   "metadata": {
    "colab": {
     "background_save": true
    },
    "id": "_I-OOYMViIyq"
   },
   "outputs": [],
   "source": [
    "results_models = []\n",
    "results_models.append(result_DTR)"
   ]
  },
  {
   "cell_type": "markdown",
   "metadata": {
    "id": "lw8FdWRViIyq",
    "pycharm": {
     "name": "#%% md\n"
    }
   },
   "source": [
    "#### 4.2.4 Ensemble Models\n",
    "<hr/>"
   ]
  },
  {
   "cell_type": "code",
   "execution_count": 48,
   "metadata": {
    "colab": {
     "background_save": true
    },
    "id": "pIc1AeXmiIyq",
    "pycharm": {
     "name": "#%%\n"
    }
   },
   "outputs": [],
   "source": [
    "# ensembles\n",
    "ensembles = []\n",
    "ensembles.append(('ABR', AdaBoostRegressor()))\n",
    "ensembles.append(('GBR', GradientBoostingRegressor()))\n",
    "ensembles.append(('RFR', RandomForestRegressor()))\n",
    "ensembles.append(('ETR', ExtraTreesRegressor()))"
   ]
  },
  {
   "cell_type": "code",
   "execution_count": 49,
   "metadata": {
    "colab": {
     "background_save": true
    },
    "id": "iMIPMhqyiIyq"
   },
   "outputs": [
    {
     "name": "stdout",
     "output_type": "stream",
     "text": [
      "Model Name:ABR Model Score:0.534 Model Std:0.033\n",
      "Model Name:GBR Model Score:0.769 Model Std:0.019\n",
      "Model Name:RFR Model Score:0.952 Model Std:0.004\n",
      "Model Name:ETR Model Score:0.955 Model Std:0.003\n"
     ]
    }
   ],
   "source": [
    "# evaluate models using cross validatiob score:\n",
    "results_ensemble = []\n",
    "names_ensemble = []\n",
    "for name, model in ensembles:\n",
    "    kfold = KFold(n_splits=10, random_state=42)\n",
    "    cv_results = cross_val_score(model, x_train, y_train, cv=kfold, scoring='r2')\n",
    "    results_ensemble.append(cv_results)\n",
    "    names_ensemble.append(name)\n",
    "    print(\"Model Name:{} Model Score:{:.3f} Model Std:{:.3f}\".format(name, cv_results.mean(), cv_results.std()))"
   ]
  },
  {
   "cell_type": "code",
   "execution_count": 50,
   "metadata": {
    "colab": {
     "background_save": true
    },
    "id": "irV4xmOXiIyq"
   },
   "outputs": [
    {
     "data": {
      "text/plain": [
       "Text(0.5, 0, 'Scores')"
      ]
     },
     "execution_count": 50,
     "metadata": {},
     "output_type": "execute_result"
    },
    {
     "data": {
      "image/png": "[encoded data removed]",
      "text/plain": [
       "<Figure size 720x504 with 1 Axes>"
      ]
     },
     "metadata": {
      "needs_background": "light"
     },
     "output_type": "display_data"
    }
   ],
   "source": [
    "# Compare Model's Acc\n",
    "f,ax = plt.subplots(figsize = (10,7))\n",
    "sns.boxplot(y=names_ensemble, x=results_ensemble);\n",
    "plt.title(\"Compare Ensemble Model's Accuracies\",fontsize = 20,color='orange')\n",
    "plt.ylabel('Models',fontsize = 15,color='orange')\n",
    "plt.xlabel('Scores',fontsize = 15,color='orange')"
   ]
  },
  {
   "cell_type": "code",
   "execution_count": 51,
   "metadata": {
    "colab": {
     "background_save": true
    },
    "id": "EI6m3wBdiIyq"
   },
   "outputs": [],
   "source": [
    "# Tuning Extra Trees Regressior Model\n",
    "estimators = list(range(25,301,25))\n",
    "criterions = [\"mse\",\"mae\"]\n",
    "param_grid = dict(n_estimators=estimators,criterion=criterions)"
   ]
  },
  {
   "cell_type": "code",
   "execution_count": 52,
   "metadata": {
    "colab": {
     "background_save": true
    },
    "id": "ozD22G4xiIyr"
   },
   "outputs": [
    {
     "name": "stdout",
     "output_type": "stream",
     "text": [
      "0.96\n"
     ]
    }
   ],
   "source": [
    "# Time to use ETR for dataset:\n",
    "etr = ExtraTreesRegressor(n_estimators=100,criterion=\"mse\")\n",
    "etr.fit(x_train,y_train)\n",
    "y_pred = etr.predict(x_test)\n",
    "result_ETR = r2_score(y_test, y_pred)\n",
    "print(\"{:.2f}\".format(result_ETR))"
   ]
  },
  {
   "cell_type": "code",
   "execution_count": 53,
   "metadata": {
    "colab": {
     "background_save": true
    },
    "id": "_FTJ0zz7iIyr"
   },
   "outputs": [],
   "source": [
    "results_models.append(result_ETR)"
   ]
  },
  {
   "cell_type": "markdown",
   "metadata": {
    "id": "IPdZeoU6iIyr",
    "pycharm": {
     "name": "#%% md\n"
    }
   },
   "source": [
    "#### 4.2.5 XGBOOST Model\n",
    "<hr/>"
   ]
  },
  {
   "cell_type": "code",
   "execution_count": 54,
   "metadata": {
    "colab": {
     "background_save": true
    },
    "id": "17dQBzW_iIyr"
   },
   "outputs": [
    {
     "name": "stdout",
     "output_type": "stream",
     "text": [
      "[15:14:18] WARNING: C:\\Users\\Administrator\\workspace\\xgboost-win64_release_1.2.0\\src\\learner.cc:516: \n",
      "Parameters: { silent } might not be used.\n",
      "\n",
      "  This may not be accurate due to some parameters are only used in language bindings but\n",
      "  passed down to XGBoost core.  Or some parameters are not used but slip through this\n",
      "  verification. Please open an issue if you find above cases.\n",
      "\n",
      "\n",
      "0.96\n"
     ]
    }
   ],
   "source": [
    "from xgboost import XGBRegressor\n",
    "xgbr = XGBRegressor(silent=True)  # silent: close to warnings\n",
    "xgbr.fit(x_train,y_train)\n",
    "y_pred = xgbr.predict(x_test)\n",
    "result_XGB = r2_score(y_test, y_pred)\n",
    "print(\"{:.2f}\".format(result_XGB))\n",
    "results_models.append(result_XGB)"
   ]
  },
  {
   "cell_type": "markdown",
   "metadata": {
    "id": "4jn9GffdiIyr"
   },
   "source": [
    "#### 4.2.6 Neural Network\n",
    "<hr/>"
   ]
  },
  {
   "cell_type": "code",
   "execution_count": 55,
   "metadata": {
    "colab": {
     "base_uri": "https://localhost:8080/",
     "height": 232
    },
    "id": "Kz9a_7FWiIyr",
    "outputId": "257f30fa-5c2d-497e-8c03-f737a45d3d7e"
   },
   "outputs": [
    {
     "name": "stdout",
     "output_type": "stream",
     "text": [
      "0.85\n"
     ]
    }
   ],
   "source": [
    "from sklearn.neural_network import MLPRegressor\n",
    "mlp = MLPRegressor()\n",
    "mlp.fit(x_train,y_train)\n",
    "#mlp.max_iter\n",
    "#mlp.hidden_layer_sizes#node sayısı\n",
    "y_pred = mlp.predict(x_test)\n",
    "result_MLP = r2_score(y_test, y_pred)\n",
    "print(\"{:.2f}\".format(result_MLP))\n",
    "results_models.append(result_MLP)"
   ]
  },
  {
   "cell_type": "markdown",
   "metadata": {
    "id": "KK0rQzDJiIyr"
   },
   "source": [
    "#### 4.2.7 Compare Models\n",
    "<hr/>"
   ]
  },
  {
   "cell_type": "code",
   "execution_count": 56,
   "metadata": {
    "colab": {
     "background_save": true
    },
    "id": "e1oj3a1PiIyr"
   },
   "outputs": [
    {
     "data": {
      "text/plain": [
       "Text(0.5, 0, 'Scores')"
      ]
     },
     "execution_count": 56,
     "metadata": {},
     "output_type": "execute_result"
    },
    {
     "data": {
      "image/png": "[encoded data removed]",
      "text/plain": [
       "<Figure size 720x504 with 1 Axes>"
      ]
     },
     "metadata": {
      "needs_background": "light"
     },
     "output_type": "display_data"
    }
   ],
   "source": [
    "models = [\"DTR\",\"ETR\",\"XGB\",\"NN\"]\n",
    "# models = [\"DTR\",\"ETR\",\"NN\"]\n",
    "# Compare Model's Acc\n",
    "f,ax = plt.subplots(figsize = (10,7))\n",
    "sns.barplot(y=models, x=results_models);\n",
    "plt.title(\"Compare Ensemble Model's Scores\",fontsize = 20,color='orange')\n",
    "plt.ylabel('Models',fontsize = 15,color='orange')\n",
    "plt.xlabel('Scores',fontsize = 15,color='orange')"
   ]
  },
  {
   "cell_type": "markdown",
   "metadata": {
    "id": "P0KCqJsqiIyr"
   },
   "source": [
    "#### 4.2.8 Use ExtraTreesRegressor to Predict Price\n",
    "<hr/>"
   ]
  },
  {
   "cell_type": "code",
   "execution_count": 57,
   "metadata": {
    "colab": {
     "background_save": true
    },
    "id": "MFXGNOKHiIyr"
   },
   "outputs": [
    {
     "name": "stdout",
     "output_type": "stream",
     "text": [
      "Expected Purchase Price:  [1.2398 0.9624 1.2402 1.0389 1.164 ]\n",
      "Real Purchase Price:  [[1.21]\n",
      " [1.03]\n",
      " [1.22]\n",
      " [1.  ]\n",
      " [1.17]]\n"
     ]
    }
   ],
   "source": [
    "# Note that input data must be normalized\n",
    "# xtest is test set n_features, use this to test the price\n",
    "y_predict_sample = etr.predict(x_test[0:5])\n",
    "y_predict_sample_orig = sc_y.inverse_transform(y_predict_sample)\n",
    "print('Expected Purchase Price: ', y_predict_sample_orig)\n",
    "y_real_price= sc_y.inverse_transform(y_test)\n",
    "print('Real Purchase Price: ',y_real_price[0:5])"
   ]
  },
  {
   "cell_type": "code",
   "execution_count": null,
   "metadata": {
    "pycharm": {
     "name": "#%%\n"
    }
   },
   "outputs": [],
   "source": []
  }
 ],
 "metadata": {
  "accelerator": "GPU",
  "colab": {
   "collapsed_sections": [
    "YaPJM0hyiIyo",
    "h7CfvD9PiIyo",
    "k38onLdxiIyo",
    "agAQtlRjiIyp",
    "RnGpx5ZAiIyp",
    "bgz4nklUiIyq"
   ],
   "name": "main.ipynb",
   "provenance": [],
   "toc_visible": true
  },
  "kernelspec": {
   "display_name": "Python 3",
   "language": "python",
   "name": "python3"
  },
  "language_info": {
   "codemirror_mode": {
    "name": "ipython",
    "version": 3
   },
   "file_extension": ".py",
   "mimetype": "text/x-python",
   "name": "python",
   "nbconvert_exporter": "python",
   "pygments_lexer": "ipython3",
   "version": "3.8.3"
  }
 },
 "nbformat": 4,
 "nbformat_minor": 1
}
